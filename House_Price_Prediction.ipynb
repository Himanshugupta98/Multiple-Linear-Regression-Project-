{
 "cells": [
  {
   "cell_type": "markdown",
   "metadata": {},
   "source": [
    "## Importing important Libraries"
   ]
  },
  {
   "cell_type": "code",
   "execution_count": 1,
   "metadata": {},
   "outputs": [],
   "source": [
    "import pandas as pd\n",
    "import numpy as np\n",
    "import matplotlib.pyplot as plt\n",
    "import seaborn as sns"
   ]
  },
  {
   "cell_type": "code",
   "execution_count": 2,
   "metadata": {},
   "outputs": [
    {
     "data": {
      "text/html": [
       "<div>\n",
       "<style scoped>\n",
       "    .dataframe tbody tr th:only-of-type {\n",
       "        vertical-align: middle;\n",
       "    }\n",
       "\n",
       "    .dataframe tbody tr th {\n",
       "        vertical-align: top;\n",
       "    }\n",
       "\n",
       "    .dataframe thead th {\n",
       "        text-align: right;\n",
       "    }\n",
       "</style>\n",
       "<table border=\"1\" class=\"dataframe\">\n",
       "  <thead>\n",
       "    <tr style=\"text-align: right;\">\n",
       "      <th></th>\n",
       "      <th>POSTED_BY</th>\n",
       "      <th>UNDER_CONSTRUCTION</th>\n",
       "      <th>RERA</th>\n",
       "      <th>BHK_NO.</th>\n",
       "      <th>BHK_OR_RK</th>\n",
       "      <th>SQUARE_FT</th>\n",
       "      <th>READY_TO_MOVE</th>\n",
       "      <th>RESALE</th>\n",
       "      <th>ADDRESS</th>\n",
       "      <th>LONGITUDE</th>\n",
       "      <th>LATITUDE</th>\n",
       "      <th>TARGET(PRICE_IN_LACS)</th>\n",
       "    </tr>\n",
       "  </thead>\n",
       "  <tbody>\n",
       "    <tr>\n",
       "      <th>0</th>\n",
       "      <td>Owner</td>\n",
       "      <td>0</td>\n",
       "      <td>0</td>\n",
       "      <td>2</td>\n",
       "      <td>BHK</td>\n",
       "      <td>1300.236407</td>\n",
       "      <td>1</td>\n",
       "      <td>1</td>\n",
       "      <td>Ksfc Layout,Bangalore</td>\n",
       "      <td>12.969910</td>\n",
       "      <td>77.597960</td>\n",
       "      <td>55.0</td>\n",
       "    </tr>\n",
       "    <tr>\n",
       "      <th>1</th>\n",
       "      <td>Dealer</td>\n",
       "      <td>0</td>\n",
       "      <td>0</td>\n",
       "      <td>2</td>\n",
       "      <td>BHK</td>\n",
       "      <td>1275.000000</td>\n",
       "      <td>1</td>\n",
       "      <td>1</td>\n",
       "      <td>Vishweshwara Nagar,Mysore</td>\n",
       "      <td>12.274538</td>\n",
       "      <td>76.644605</td>\n",
       "      <td>51.0</td>\n",
       "    </tr>\n",
       "    <tr>\n",
       "      <th>2</th>\n",
       "      <td>Owner</td>\n",
       "      <td>0</td>\n",
       "      <td>0</td>\n",
       "      <td>2</td>\n",
       "      <td>BHK</td>\n",
       "      <td>933.159722</td>\n",
       "      <td>1</td>\n",
       "      <td>1</td>\n",
       "      <td>Jigani,Bangalore</td>\n",
       "      <td>12.778033</td>\n",
       "      <td>77.632191</td>\n",
       "      <td>43.0</td>\n",
       "    </tr>\n",
       "    <tr>\n",
       "      <th>3</th>\n",
       "      <td>Owner</td>\n",
       "      <td>0</td>\n",
       "      <td>1</td>\n",
       "      <td>2</td>\n",
       "      <td>BHK</td>\n",
       "      <td>929.921143</td>\n",
       "      <td>1</td>\n",
       "      <td>1</td>\n",
       "      <td>Sector-1 Vaishali,Ghaziabad</td>\n",
       "      <td>28.642300</td>\n",
       "      <td>77.344500</td>\n",
       "      <td>62.5</td>\n",
       "    </tr>\n",
       "    <tr>\n",
       "      <th>4</th>\n",
       "      <td>Dealer</td>\n",
       "      <td>1</td>\n",
       "      <td>0</td>\n",
       "      <td>2</td>\n",
       "      <td>BHK</td>\n",
       "      <td>999.009247</td>\n",
       "      <td>0</td>\n",
       "      <td>1</td>\n",
       "      <td>New Town,Kolkata</td>\n",
       "      <td>22.592200</td>\n",
       "      <td>88.484911</td>\n",
       "      <td>60.5</td>\n",
       "    </tr>\n",
       "    <tr>\n",
       "      <th>5</th>\n",
       "      <td>Owner</td>\n",
       "      <td>0</td>\n",
       "      <td>0</td>\n",
       "      <td>3</td>\n",
       "      <td>BHK</td>\n",
       "      <td>1250.000000</td>\n",
       "      <td>1</td>\n",
       "      <td>1</td>\n",
       "      <td>South Chittoor,Kochi</td>\n",
       "      <td>10.033280</td>\n",
       "      <td>76.282571</td>\n",
       "      <td>42.0</td>\n",
       "    </tr>\n",
       "    <tr>\n",
       "      <th>6</th>\n",
       "      <td>Dealer</td>\n",
       "      <td>0</td>\n",
       "      <td>0</td>\n",
       "      <td>3</td>\n",
       "      <td>BHK</td>\n",
       "      <td>1495.053957</td>\n",
       "      <td>1</td>\n",
       "      <td>1</td>\n",
       "      <td>Sodala,Jaipur</td>\n",
       "      <td>26.916347</td>\n",
       "      <td>75.795600</td>\n",
       "      <td>66.5</td>\n",
       "    </tr>\n",
       "    <tr>\n",
       "      <th>7</th>\n",
       "      <td>Owner</td>\n",
       "      <td>0</td>\n",
       "      <td>1</td>\n",
       "      <td>3</td>\n",
       "      <td>BHK</td>\n",
       "      <td>1181.012946</td>\n",
       "      <td>1</td>\n",
       "      <td>1</td>\n",
       "      <td>Kharar,Mohali</td>\n",
       "      <td>30.740000</td>\n",
       "      <td>76.650000</td>\n",
       "      <td>52.0</td>\n",
       "    </tr>\n",
       "    <tr>\n",
       "      <th>8</th>\n",
       "      <td>Dealer</td>\n",
       "      <td>0</td>\n",
       "      <td>1</td>\n",
       "      <td>2</td>\n",
       "      <td>BHK</td>\n",
       "      <td>1040.000000</td>\n",
       "      <td>1</td>\n",
       "      <td>1</td>\n",
       "      <td>Bileshivale,Bangalore</td>\n",
       "      <td>13.054202</td>\n",
       "      <td>77.674002</td>\n",
       "      <td>41.6</td>\n",
       "    </tr>\n",
       "    <tr>\n",
       "      <th>9</th>\n",
       "      <td>Owner</td>\n",
       "      <td>0</td>\n",
       "      <td>1</td>\n",
       "      <td>2</td>\n",
       "      <td>BHK</td>\n",
       "      <td>879.120879</td>\n",
       "      <td>1</td>\n",
       "      <td>1</td>\n",
       "      <td>Chromepet,Chennai</td>\n",
       "      <td>12.951610</td>\n",
       "      <td>80.140970</td>\n",
       "      <td>36.0</td>\n",
       "    </tr>\n",
       "  </tbody>\n",
       "</table>\n",
       "</div>"
      ],
      "text/plain": [
       "  POSTED_BY  UNDER_CONSTRUCTION  RERA  BHK_NO. BHK_OR_RK    SQUARE_FT  \\\n",
       "0     Owner                   0     0        2       BHK  1300.236407   \n",
       "1    Dealer                   0     0        2       BHK  1275.000000   \n",
       "2     Owner                   0     0        2       BHK   933.159722   \n",
       "3     Owner                   0     1        2       BHK   929.921143   \n",
       "4    Dealer                   1     0        2       BHK   999.009247   \n",
       "5     Owner                   0     0        3       BHK  1250.000000   \n",
       "6    Dealer                   0     0        3       BHK  1495.053957   \n",
       "7     Owner                   0     1        3       BHK  1181.012946   \n",
       "8    Dealer                   0     1        2       BHK  1040.000000   \n",
       "9     Owner                   0     1        2       BHK   879.120879   \n",
       "\n",
       "   READY_TO_MOVE  RESALE                      ADDRESS  LONGITUDE   LATITUDE  \\\n",
       "0              1       1        Ksfc Layout,Bangalore  12.969910  77.597960   \n",
       "1              1       1    Vishweshwara Nagar,Mysore  12.274538  76.644605   \n",
       "2              1       1             Jigani,Bangalore  12.778033  77.632191   \n",
       "3              1       1  Sector-1 Vaishali,Ghaziabad  28.642300  77.344500   \n",
       "4              0       1             New Town,Kolkata  22.592200  88.484911   \n",
       "5              1       1         South Chittoor,Kochi  10.033280  76.282571   \n",
       "6              1       1                Sodala,Jaipur  26.916347  75.795600   \n",
       "7              1       1                Kharar,Mohali  30.740000  76.650000   \n",
       "8              1       1        Bileshivale,Bangalore  13.054202  77.674002   \n",
       "9              1       1            Chromepet,Chennai  12.951610  80.140970   \n",
       "\n",
       "   TARGET(PRICE_IN_LACS)  \n",
       "0                   55.0  \n",
       "1                   51.0  \n",
       "2                   43.0  \n",
       "3                   62.5  \n",
       "4                   60.5  \n",
       "5                   42.0  \n",
       "6                   66.5  \n",
       "7                   52.0  \n",
       "8                   41.6  \n",
       "9                   36.0  "
      ]
     },
     "execution_count": 2,
     "metadata": {},
     "output_type": "execute_result"
    }
   ],
   "source": [
    "df=pd.read_csv(r\"C:\\Users\\singh\\Downloads\\train_data.csv\")\n",
    "df.head(10)"
   ]
  },
  {
   "cell_type": "code",
   "execution_count": 3,
   "metadata": {},
   "outputs": [
    {
     "data": {
      "text/plain": [
       "(29451, 12)"
      ]
     },
     "execution_count": 3,
     "metadata": {},
     "output_type": "execute_result"
    }
   ],
   "source": [
    "df.shape"
   ]
  },
  {
   "cell_type": "code",
   "execution_count": 4,
   "metadata": {
    "scrolled": true
   },
   "outputs": [
    {
     "data": {
      "text/plain": [
       "POSTED_BY                0\n",
       "UNDER_CONSTRUCTION       0\n",
       "RERA                     0\n",
       "BHK_NO.                  0\n",
       "BHK_OR_RK                0\n",
       "SQUARE_FT                0\n",
       "READY_TO_MOVE            0\n",
       "RESALE                   0\n",
       "ADDRESS                  0\n",
       "LONGITUDE                0\n",
       "LATITUDE                 0\n",
       "TARGET(PRICE_IN_LACS)    0\n",
       "dtype: int64"
      ]
     },
     "execution_count": 4,
     "metadata": {},
     "output_type": "execute_result"
    }
   ],
   "source": [
    "df.isna().sum()"
   ]
  },
  {
   "cell_type": "code",
   "execution_count": 5,
   "metadata": {},
   "outputs": [
    {
     "data": {
      "text/plain": [
       "Dealer     18291\n",
       "Owner      10538\n",
       "Builder      622\n",
       "Name: POSTED_BY, dtype: int64"
      ]
     },
     "execution_count": 5,
     "metadata": {},
     "output_type": "execute_result"
    }
   ],
   "source": [
    "df[\"POSTED_BY\"].value_counts()"
   ]
  },
  {
   "cell_type": "code",
   "execution_count": 6,
   "metadata": {},
   "outputs": [
    {
     "data": {
      "text/plain": [
       "array(['Owner', 'Dealer', 'Builder'], dtype=object)"
      ]
     },
     "execution_count": 6,
     "metadata": {},
     "output_type": "execute_result"
    }
   ],
   "source": [
    "df[\"POSTED_BY\"].unique()"
   ]
  },
  {
   "cell_type": "code",
   "execution_count": 7,
   "metadata": {},
   "outputs": [
    {
     "name": "stdout",
     "output_type": "stream",
     "text": [
      "<class 'pandas.core.frame.DataFrame'>\n",
      "RangeIndex: 29451 entries, 0 to 29450\n",
      "Data columns (total 12 columns):\n",
      " #   Column                 Non-Null Count  Dtype  \n",
      "---  ------                 --------------  -----  \n",
      " 0   POSTED_BY              29451 non-null  object \n",
      " 1   UNDER_CONSTRUCTION     29451 non-null  int64  \n",
      " 2   RERA                   29451 non-null  int64  \n",
      " 3   BHK_NO.                29451 non-null  int64  \n",
      " 4   BHK_OR_RK              29451 non-null  object \n",
      " 5   SQUARE_FT              29451 non-null  float64\n",
      " 6   READY_TO_MOVE          29451 non-null  int64  \n",
      " 7   RESALE                 29451 non-null  int64  \n",
      " 8   ADDRESS                29451 non-null  object \n",
      " 9   LONGITUDE              29451 non-null  float64\n",
      " 10  LATITUDE               29451 non-null  float64\n",
      " 11  TARGET(PRICE_IN_LACS)  29451 non-null  float64\n",
      "dtypes: float64(4), int64(5), object(3)\n",
      "memory usage: 2.7+ MB\n"
     ]
    }
   ],
   "source": [
    "df.info()"
   ]
  },
  {
   "cell_type": "code",
   "execution_count": 8,
   "metadata": {},
   "outputs": [
    {
     "data": {
      "text/html": [
       "<div>\n",
       "<style scoped>\n",
       "    .dataframe tbody tr th:only-of-type {\n",
       "        vertical-align: middle;\n",
       "    }\n",
       "\n",
       "    .dataframe tbody tr th {\n",
       "        vertical-align: top;\n",
       "    }\n",
       "\n",
       "    .dataframe thead th {\n",
       "        text-align: right;\n",
       "    }\n",
       "</style>\n",
       "<table border=\"1\" class=\"dataframe\">\n",
       "  <thead>\n",
       "    <tr style=\"text-align: right;\">\n",
       "      <th></th>\n",
       "      <th>UNDER_CONSTRUCTION</th>\n",
       "      <th>RERA</th>\n",
       "      <th>BHK_NO.</th>\n",
       "      <th>SQUARE_FT</th>\n",
       "      <th>READY_TO_MOVE</th>\n",
       "      <th>RESALE</th>\n",
       "      <th>LONGITUDE</th>\n",
       "      <th>LATITUDE</th>\n",
       "      <th>TARGET(PRICE_IN_LACS)</th>\n",
       "    </tr>\n",
       "  </thead>\n",
       "  <tbody>\n",
       "    <tr>\n",
       "      <th>count</th>\n",
       "      <td>29451.000000</td>\n",
       "      <td>29451.000000</td>\n",
       "      <td>29451.000000</td>\n",
       "      <td>2.945100e+04</td>\n",
       "      <td>29451.000000</td>\n",
       "      <td>29451.000000</td>\n",
       "      <td>29451.000000</td>\n",
       "      <td>29451.000000</td>\n",
       "      <td>29451.000000</td>\n",
       "    </tr>\n",
       "    <tr>\n",
       "      <th>mean</th>\n",
       "      <td>0.179756</td>\n",
       "      <td>0.317918</td>\n",
       "      <td>2.392279</td>\n",
       "      <td>1.980217e+04</td>\n",
       "      <td>0.820244</td>\n",
       "      <td>0.929578</td>\n",
       "      <td>21.300255</td>\n",
       "      <td>76.837695</td>\n",
       "      <td>142.898746</td>\n",
       "    </tr>\n",
       "    <tr>\n",
       "      <th>std</th>\n",
       "      <td>0.383991</td>\n",
       "      <td>0.465675</td>\n",
       "      <td>0.879091</td>\n",
       "      <td>1.901335e+06</td>\n",
       "      <td>0.383991</td>\n",
       "      <td>0.255861</td>\n",
       "      <td>6.205306</td>\n",
       "      <td>10.557747</td>\n",
       "      <td>656.880713</td>\n",
       "    </tr>\n",
       "    <tr>\n",
       "      <th>min</th>\n",
       "      <td>0.000000</td>\n",
       "      <td>0.000000</td>\n",
       "      <td>1.000000</td>\n",
       "      <td>3.000000e+00</td>\n",
       "      <td>0.000000</td>\n",
       "      <td>0.000000</td>\n",
       "      <td>-37.713008</td>\n",
       "      <td>-121.761248</td>\n",
       "      <td>0.250000</td>\n",
       "    </tr>\n",
       "    <tr>\n",
       "      <th>25%</th>\n",
       "      <td>0.000000</td>\n",
       "      <td>0.000000</td>\n",
       "      <td>2.000000</td>\n",
       "      <td>9.000211e+02</td>\n",
       "      <td>1.000000</td>\n",
       "      <td>1.000000</td>\n",
       "      <td>18.452663</td>\n",
       "      <td>73.798100</td>\n",
       "      <td>38.000000</td>\n",
       "    </tr>\n",
       "    <tr>\n",
       "      <th>50%</th>\n",
       "      <td>0.000000</td>\n",
       "      <td>0.000000</td>\n",
       "      <td>2.000000</td>\n",
       "      <td>1.175057e+03</td>\n",
       "      <td>1.000000</td>\n",
       "      <td>1.000000</td>\n",
       "      <td>20.750000</td>\n",
       "      <td>77.324137</td>\n",
       "      <td>62.000000</td>\n",
       "    </tr>\n",
       "    <tr>\n",
       "      <th>75%</th>\n",
       "      <td>0.000000</td>\n",
       "      <td>1.000000</td>\n",
       "      <td>3.000000</td>\n",
       "      <td>1.550688e+03</td>\n",
       "      <td>1.000000</td>\n",
       "      <td>1.000000</td>\n",
       "      <td>26.900926</td>\n",
       "      <td>77.828740</td>\n",
       "      <td>100.000000</td>\n",
       "    </tr>\n",
       "    <tr>\n",
       "      <th>max</th>\n",
       "      <td>1.000000</td>\n",
       "      <td>1.000000</td>\n",
       "      <td>20.000000</td>\n",
       "      <td>2.545455e+08</td>\n",
       "      <td>1.000000</td>\n",
       "      <td>1.000000</td>\n",
       "      <td>59.912884</td>\n",
       "      <td>152.962676</td>\n",
       "      <td>30000.000000</td>\n",
       "    </tr>\n",
       "  </tbody>\n",
       "</table>\n",
       "</div>"
      ],
      "text/plain": [
       "       UNDER_CONSTRUCTION          RERA       BHK_NO.     SQUARE_FT  \\\n",
       "count        29451.000000  29451.000000  29451.000000  2.945100e+04   \n",
       "mean             0.179756      0.317918      2.392279  1.980217e+04   \n",
       "std              0.383991      0.465675      0.879091  1.901335e+06   \n",
       "min              0.000000      0.000000      1.000000  3.000000e+00   \n",
       "25%              0.000000      0.000000      2.000000  9.000211e+02   \n",
       "50%              0.000000      0.000000      2.000000  1.175057e+03   \n",
       "75%              0.000000      1.000000      3.000000  1.550688e+03   \n",
       "max              1.000000      1.000000     20.000000  2.545455e+08   \n",
       "\n",
       "       READY_TO_MOVE        RESALE     LONGITUDE      LATITUDE  \\\n",
       "count   29451.000000  29451.000000  29451.000000  29451.000000   \n",
       "mean        0.820244      0.929578     21.300255     76.837695   \n",
       "std         0.383991      0.255861      6.205306     10.557747   \n",
       "min         0.000000      0.000000    -37.713008   -121.761248   \n",
       "25%         1.000000      1.000000     18.452663     73.798100   \n",
       "50%         1.000000      1.000000     20.750000     77.324137   \n",
       "75%         1.000000      1.000000     26.900926     77.828740   \n",
       "max         1.000000      1.000000     59.912884    152.962676   \n",
       "\n",
       "       TARGET(PRICE_IN_LACS)  \n",
       "count           29451.000000  \n",
       "mean              142.898746  \n",
       "std               656.880713  \n",
       "min                 0.250000  \n",
       "25%                38.000000  \n",
       "50%                62.000000  \n",
       "75%               100.000000  \n",
       "max             30000.000000  "
      ]
     },
     "execution_count": 8,
     "metadata": {},
     "output_type": "execute_result"
    }
   ],
   "source": [
    "df.describe()"
   ]
  },
  {
   "cell_type": "code",
   "execution_count": 9,
   "metadata": {},
   "outputs": [],
   "source": [
    "myname=pd.DataFrame({\"name\":[\"shubham\",\"krishna\"],\n",
    "                     \"age\":[22,20]})"
   ]
  },
  {
   "cell_type": "code",
   "execution_count": 10,
   "metadata": {},
   "outputs": [
    {
     "data": {
      "text/html": [
       "<div>\n",
       "<style scoped>\n",
       "    .dataframe tbody tr th:only-of-type {\n",
       "        vertical-align: middle;\n",
       "    }\n",
       "\n",
       "    .dataframe tbody tr th {\n",
       "        vertical-align: top;\n",
       "    }\n",
       "\n",
       "    .dataframe thead th {\n",
       "        text-align: right;\n",
       "    }\n",
       "</style>\n",
       "<table border=\"1\" class=\"dataframe\">\n",
       "  <thead>\n",
       "    <tr style=\"text-align: right;\">\n",
       "      <th></th>\n",
       "      <th>POSTED_BY</th>\n",
       "      <th>UNDER_CONSTRUCTION</th>\n",
       "      <th>RERA</th>\n",
       "      <th>BHK_NO.</th>\n",
       "      <th>BHK_OR_RK</th>\n",
       "      <th>SQUARE_FT</th>\n",
       "      <th>READY_TO_MOVE</th>\n",
       "      <th>RESALE</th>\n",
       "      <th>ADDRESS</th>\n",
       "      <th>LONGITUDE</th>\n",
       "      <th>LATITUDE</th>\n",
       "      <th>TARGET(PRICE_IN_LACS)</th>\n",
       "    </tr>\n",
       "  </thead>\n",
       "  <tbody>\n",
       "    <tr>\n",
       "      <th>0</th>\n",
       "      <td>Owner</td>\n",
       "      <td>0</td>\n",
       "      <td>0</td>\n",
       "      <td>2</td>\n",
       "      <td>BHK</td>\n",
       "      <td>1300.236407</td>\n",
       "      <td>1</td>\n",
       "      <td>1</td>\n",
       "      <td>Ksfc Layout,Bangalore</td>\n",
       "      <td>12.969910</td>\n",
       "      <td>77.597960</td>\n",
       "      <td>55.0</td>\n",
       "    </tr>\n",
       "    <tr>\n",
       "      <th>1</th>\n",
       "      <td>Dealer</td>\n",
       "      <td>0</td>\n",
       "      <td>0</td>\n",
       "      <td>2</td>\n",
       "      <td>BHK</td>\n",
       "      <td>1275.000000</td>\n",
       "      <td>1</td>\n",
       "      <td>1</td>\n",
       "      <td>Vishweshwara Nagar,Mysore</td>\n",
       "      <td>12.274538</td>\n",
       "      <td>76.644605</td>\n",
       "      <td>51.0</td>\n",
       "    </tr>\n",
       "    <tr>\n",
       "      <th>2</th>\n",
       "      <td>Owner</td>\n",
       "      <td>0</td>\n",
       "      <td>0</td>\n",
       "      <td>2</td>\n",
       "      <td>BHK</td>\n",
       "      <td>933.159722</td>\n",
       "      <td>1</td>\n",
       "      <td>1</td>\n",
       "      <td>Jigani,Bangalore</td>\n",
       "      <td>12.778033</td>\n",
       "      <td>77.632191</td>\n",
       "      <td>43.0</td>\n",
       "    </tr>\n",
       "    <tr>\n",
       "      <th>3</th>\n",
       "      <td>Owner</td>\n",
       "      <td>0</td>\n",
       "      <td>1</td>\n",
       "      <td>2</td>\n",
       "      <td>BHK</td>\n",
       "      <td>929.921143</td>\n",
       "      <td>1</td>\n",
       "      <td>1</td>\n",
       "      <td>Sector-1 Vaishali,Ghaziabad</td>\n",
       "      <td>28.642300</td>\n",
       "      <td>77.344500</td>\n",
       "      <td>62.5</td>\n",
       "    </tr>\n",
       "    <tr>\n",
       "      <th>4</th>\n",
       "      <td>Dealer</td>\n",
       "      <td>1</td>\n",
       "      <td>0</td>\n",
       "      <td>2</td>\n",
       "      <td>BHK</td>\n",
       "      <td>999.009247</td>\n",
       "      <td>0</td>\n",
       "      <td>1</td>\n",
       "      <td>New Town,Kolkata</td>\n",
       "      <td>22.592200</td>\n",
       "      <td>88.484911</td>\n",
       "      <td>60.5</td>\n",
       "    </tr>\n",
       "    <tr>\n",
       "      <th>...</th>\n",
       "      <td>...</td>\n",
       "      <td>...</td>\n",
       "      <td>...</td>\n",
       "      <td>...</td>\n",
       "      <td>...</td>\n",
       "      <td>...</td>\n",
       "      <td>...</td>\n",
       "      <td>...</td>\n",
       "      <td>...</td>\n",
       "      <td>...</td>\n",
       "      <td>...</td>\n",
       "      <td>...</td>\n",
       "    </tr>\n",
       "    <tr>\n",
       "      <th>29446</th>\n",
       "      <td>Owner</td>\n",
       "      <td>0</td>\n",
       "      <td>0</td>\n",
       "      <td>3</td>\n",
       "      <td>BHK</td>\n",
       "      <td>2500.000000</td>\n",
       "      <td>1</td>\n",
       "      <td>1</td>\n",
       "      <td>Shamshabad Road,Agra</td>\n",
       "      <td>27.140626</td>\n",
       "      <td>78.043277</td>\n",
       "      <td>45.0</td>\n",
       "    </tr>\n",
       "    <tr>\n",
       "      <th>29447</th>\n",
       "      <td>Owner</td>\n",
       "      <td>0</td>\n",
       "      <td>0</td>\n",
       "      <td>2</td>\n",
       "      <td>BHK</td>\n",
       "      <td>769.230769</td>\n",
       "      <td>1</td>\n",
       "      <td>1</td>\n",
       "      <td>E3-108, Lake View Recidency,,Vapi</td>\n",
       "      <td>39.945409</td>\n",
       "      <td>-86.150721</td>\n",
       "      <td>16.0</td>\n",
       "    </tr>\n",
       "    <tr>\n",
       "      <th>29448</th>\n",
       "      <td>Dealer</td>\n",
       "      <td>0</td>\n",
       "      <td>0</td>\n",
       "      <td>2</td>\n",
       "      <td>BHK</td>\n",
       "      <td>1022.641509</td>\n",
       "      <td>1</td>\n",
       "      <td>1</td>\n",
       "      <td>Ajmer Road,Jaipur</td>\n",
       "      <td>26.928785</td>\n",
       "      <td>75.828002</td>\n",
       "      <td>27.1</td>\n",
       "    </tr>\n",
       "    <tr>\n",
       "      <th>29449</th>\n",
       "      <td>Owner</td>\n",
       "      <td>0</td>\n",
       "      <td>0</td>\n",
       "      <td>2</td>\n",
       "      <td>BHK</td>\n",
       "      <td>927.079009</td>\n",
       "      <td>1</td>\n",
       "      <td>1</td>\n",
       "      <td>Sholinganallur,Chennai</td>\n",
       "      <td>12.900150</td>\n",
       "      <td>80.227910</td>\n",
       "      <td>67.0</td>\n",
       "    </tr>\n",
       "    <tr>\n",
       "      <th>29450</th>\n",
       "      <td>Dealer</td>\n",
       "      <td>0</td>\n",
       "      <td>1</td>\n",
       "      <td>2</td>\n",
       "      <td>BHK</td>\n",
       "      <td>896.774194</td>\n",
       "      <td>1</td>\n",
       "      <td>1</td>\n",
       "      <td>Jagatpura,Jaipur</td>\n",
       "      <td>26.832353</td>\n",
       "      <td>75.841749</td>\n",
       "      <td>27.8</td>\n",
       "    </tr>\n",
       "  </tbody>\n",
       "</table>\n",
       "<p>29451 rows × 12 columns</p>\n",
       "</div>"
      ],
      "text/plain": [
       "      POSTED_BY  UNDER_CONSTRUCTION  RERA  BHK_NO. BHK_OR_RK    SQUARE_FT  \\\n",
       "0         Owner                   0     0        2       BHK  1300.236407   \n",
       "1        Dealer                   0     0        2       BHK  1275.000000   \n",
       "2         Owner                   0     0        2       BHK   933.159722   \n",
       "3         Owner                   0     1        2       BHK   929.921143   \n",
       "4        Dealer                   1     0        2       BHK   999.009247   \n",
       "...         ...                 ...   ...      ...       ...          ...   \n",
       "29446     Owner                   0     0        3       BHK  2500.000000   \n",
       "29447     Owner                   0     0        2       BHK   769.230769   \n",
       "29448    Dealer                   0     0        2       BHK  1022.641509   \n",
       "29449     Owner                   0     0        2       BHK   927.079009   \n",
       "29450    Dealer                   0     1        2       BHK   896.774194   \n",
       "\n",
       "       READY_TO_MOVE  RESALE                            ADDRESS  LONGITUDE  \\\n",
       "0                  1       1              Ksfc Layout,Bangalore  12.969910   \n",
       "1                  1       1          Vishweshwara Nagar,Mysore  12.274538   \n",
       "2                  1       1                   Jigani,Bangalore  12.778033   \n",
       "3                  1       1        Sector-1 Vaishali,Ghaziabad  28.642300   \n",
       "4                  0       1                   New Town,Kolkata  22.592200   \n",
       "...              ...     ...                                ...        ...   \n",
       "29446              1       1               Shamshabad Road,Agra  27.140626   \n",
       "29447              1       1  E3-108, Lake View Recidency,,Vapi  39.945409   \n",
       "29448              1       1                  Ajmer Road,Jaipur  26.928785   \n",
       "29449              1       1             Sholinganallur,Chennai  12.900150   \n",
       "29450              1       1                   Jagatpura,Jaipur  26.832353   \n",
       "\n",
       "        LATITUDE  TARGET(PRICE_IN_LACS)  \n",
       "0      77.597960                   55.0  \n",
       "1      76.644605                   51.0  \n",
       "2      77.632191                   43.0  \n",
       "3      77.344500                   62.5  \n",
       "4      88.484911                   60.5  \n",
       "...          ...                    ...  \n",
       "29446  78.043277                   45.0  \n",
       "29447 -86.150721                   16.0  \n",
       "29448  75.828002                   27.1  \n",
       "29449  80.227910                   67.0  \n",
       "29450  75.841749                   27.8  \n",
       "\n",
       "[29451 rows x 12 columns]"
      ]
     },
     "execution_count": 10,
     "metadata": {},
     "output_type": "execute_result"
    }
   ],
   "source": [
    "df"
   ]
  },
  {
   "cell_type": "code",
   "execution_count": 11,
   "metadata": {},
   "outputs": [
    {
     "data": {
      "text/plain": [
       "0        Bangalore\n",
       "1           Mysore\n",
       "2        Bangalore\n",
       "3        Ghaziabad\n",
       "4          Kolkata\n",
       "           ...    \n",
       "29446         Agra\n",
       "29447         Vapi\n",
       "29448       Jaipur\n",
       "29449      Chennai\n",
       "29450       Jaipur\n",
       "Name: CITY, Length: 29451, dtype: object"
      ]
     },
     "execution_count": 11,
     "metadata": {},
     "output_type": "execute_result"
    }
   ],
   "source": [
    "df[\"CITY\"]=df[\"ADDRESS\"].str.split(\",\").str[-1]\n",
    "df[\"CITY\"] # extracting city name from address column"
   ]
  },
  {
   "cell_type": "code",
   "execution_count": 12,
   "metadata": {},
   "outputs": [
    {
     "data": {
      "text/html": [
       "<div>\n",
       "<style scoped>\n",
       "    .dataframe tbody tr th:only-of-type {\n",
       "        vertical-align: middle;\n",
       "    }\n",
       "\n",
       "    .dataframe tbody tr th {\n",
       "        vertical-align: top;\n",
       "    }\n",
       "\n",
       "    .dataframe thead th {\n",
       "        text-align: right;\n",
       "    }\n",
       "</style>\n",
       "<table border=\"1\" class=\"dataframe\">\n",
       "  <thead>\n",
       "    <tr style=\"text-align: right;\">\n",
       "      <th></th>\n",
       "      <th>POSTED_BY</th>\n",
       "      <th>UNDER_CONSTRUCTION</th>\n",
       "      <th>RERA</th>\n",
       "      <th>BHK_NO.</th>\n",
       "      <th>BHK_OR_RK</th>\n",
       "      <th>SQUARE_FT</th>\n",
       "      <th>READY_TO_MOVE</th>\n",
       "      <th>RESALE</th>\n",
       "      <th>ADDRESS</th>\n",
       "      <th>LONGITUDE</th>\n",
       "      <th>LATITUDE</th>\n",
       "      <th>TARGET(PRICE_IN_LACS)</th>\n",
       "      <th>CITY</th>\n",
       "    </tr>\n",
       "  </thead>\n",
       "  <tbody>\n",
       "    <tr>\n",
       "      <th>0</th>\n",
       "      <td>Owner</td>\n",
       "      <td>0</td>\n",
       "      <td>0</td>\n",
       "      <td>2</td>\n",
       "      <td>BHK</td>\n",
       "      <td>1300.236407</td>\n",
       "      <td>1</td>\n",
       "      <td>1</td>\n",
       "      <td>Ksfc Layout,Bangalore</td>\n",
       "      <td>12.969910</td>\n",
       "      <td>77.597960</td>\n",
       "      <td>55.0</td>\n",
       "      <td>Bangalore</td>\n",
       "    </tr>\n",
       "    <tr>\n",
       "      <th>1</th>\n",
       "      <td>Dealer</td>\n",
       "      <td>0</td>\n",
       "      <td>0</td>\n",
       "      <td>2</td>\n",
       "      <td>BHK</td>\n",
       "      <td>1275.000000</td>\n",
       "      <td>1</td>\n",
       "      <td>1</td>\n",
       "      <td>Vishweshwara Nagar,Mysore</td>\n",
       "      <td>12.274538</td>\n",
       "      <td>76.644605</td>\n",
       "      <td>51.0</td>\n",
       "      <td>Mysore</td>\n",
       "    </tr>\n",
       "    <tr>\n",
       "      <th>2</th>\n",
       "      <td>Owner</td>\n",
       "      <td>0</td>\n",
       "      <td>0</td>\n",
       "      <td>2</td>\n",
       "      <td>BHK</td>\n",
       "      <td>933.159722</td>\n",
       "      <td>1</td>\n",
       "      <td>1</td>\n",
       "      <td>Jigani,Bangalore</td>\n",
       "      <td>12.778033</td>\n",
       "      <td>77.632191</td>\n",
       "      <td>43.0</td>\n",
       "      <td>Bangalore</td>\n",
       "    </tr>\n",
       "    <tr>\n",
       "      <th>3</th>\n",
       "      <td>Owner</td>\n",
       "      <td>0</td>\n",
       "      <td>1</td>\n",
       "      <td>2</td>\n",
       "      <td>BHK</td>\n",
       "      <td>929.921143</td>\n",
       "      <td>1</td>\n",
       "      <td>1</td>\n",
       "      <td>Sector-1 Vaishali,Ghaziabad</td>\n",
       "      <td>28.642300</td>\n",
       "      <td>77.344500</td>\n",
       "      <td>62.5</td>\n",
       "      <td>Ghaziabad</td>\n",
       "    </tr>\n",
       "    <tr>\n",
       "      <th>4</th>\n",
       "      <td>Dealer</td>\n",
       "      <td>1</td>\n",
       "      <td>0</td>\n",
       "      <td>2</td>\n",
       "      <td>BHK</td>\n",
       "      <td>999.009247</td>\n",
       "      <td>0</td>\n",
       "      <td>1</td>\n",
       "      <td>New Town,Kolkata</td>\n",
       "      <td>22.592200</td>\n",
       "      <td>88.484911</td>\n",
       "      <td>60.5</td>\n",
       "      <td>Kolkata</td>\n",
       "    </tr>\n",
       "  </tbody>\n",
       "</table>\n",
       "</div>"
      ],
      "text/plain": [
       "  POSTED_BY  UNDER_CONSTRUCTION  RERA  BHK_NO. BHK_OR_RK    SQUARE_FT  \\\n",
       "0     Owner                   0     0        2       BHK  1300.236407   \n",
       "1    Dealer                   0     0        2       BHK  1275.000000   \n",
       "2     Owner                   0     0        2       BHK   933.159722   \n",
       "3     Owner                   0     1        2       BHK   929.921143   \n",
       "4    Dealer                   1     0        2       BHK   999.009247   \n",
       "\n",
       "   READY_TO_MOVE  RESALE                      ADDRESS  LONGITUDE   LATITUDE  \\\n",
       "0              1       1        Ksfc Layout,Bangalore  12.969910  77.597960   \n",
       "1              1       1    Vishweshwara Nagar,Mysore  12.274538  76.644605   \n",
       "2              1       1             Jigani,Bangalore  12.778033  77.632191   \n",
       "3              1       1  Sector-1 Vaishali,Ghaziabad  28.642300  77.344500   \n",
       "4              0       1             New Town,Kolkata  22.592200  88.484911   \n",
       "\n",
       "   TARGET(PRICE_IN_LACS)       CITY  \n",
       "0                   55.0  Bangalore  \n",
       "1                   51.0     Mysore  \n",
       "2                   43.0  Bangalore  \n",
       "3                   62.5  Ghaziabad  \n",
       "4                   60.5    Kolkata  "
      ]
     },
     "execution_count": 12,
     "metadata": {},
     "output_type": "execute_result"
    }
   ],
   "source": [
    "df.head()"
   ]
  },
  {
   "cell_type": "code",
   "execution_count": 13,
   "metadata": {},
   "outputs": [
    {
     "data": {
      "text/plain": [
       "array(['Bangalore', 'Mysore', 'Ghaziabad', 'Kolkata', 'Kochi', 'Jaipur',\n",
       "       'Mohali', 'Chennai', 'Siliguri', 'Noida', 'Raigad', 'Bhubaneswar',\n",
       "       'Wardha', 'Pune', 'Mumbai', 'Nagpur', 'Deoghar', 'Bhiwadi',\n",
       "       'Faridabad', 'Lalitpur', 'Maharashtra', 'Vadodara',\n",
       "       'Visakhapatnam', 'Vapi', 'Mangalore', 'Aurangabad', 'Ottapalam',\n",
       "       'Vijayawada', 'Belgaum', 'Bhopal', 'Lucknow', 'Kanpur',\n",
       "       'Gandhinagar', 'Pondicherry', 'Agra', 'Ranchi', 'Gurgaon', 'Udupi',\n",
       "       'Indore', 'Jodhpur', 'Coimbatore', 'Valsad', 'Palghar', 'Surat',\n",
       "       'Varanasi', 'Guwahati', 'Amravati', 'Anand', 'Tirupati',\n",
       "       'Secunderabad', 'Raipur', 'Vizianagaram', 'Thrissur', 'Satna',\n",
       "       'Madurai', 'Chandigarh', 'Shimla', 'Gwalior', 'Rajkot', 'Sonipat',\n",
       "       'Allahabad', 'Berhampur', 'Roorkee', 'Dharuhera', 'Latur',\n",
       "       'Durgapur', 'Panchkula', 'Solapur', 'Durg', 'Goa', 'Jamshedpur',\n",
       "       'Hazaribagh', 'Jabalpur', 'Hosur', 'Morbi', 'Hubli', 'Karnal',\n",
       "       'Patna', 'Bilaspur', 'Ratnagiri', 'Meerut', 'Kotdwara',\n",
       "       'Jalandhar', 'Amritsar', 'Patiala', 'Ludhiana', 'Alwar', 'Kota',\n",
       "       'Panaji', 'Kolhapur', 'Ernakulam', 'Bhavnagar', 'Bharuch',\n",
       "       'Asansol', 'Jhansi', 'Margao', 'Anantapur', 'Eluru', 'Bhilai',\n",
       "       'Dehradun', 'Guntur', 'Jalgaon', 'Udaipur', 'Gurdaspur',\n",
       "       'Neemrana', 'Hassan', 'Sindhudurg', 'Hoshangabad', 'Kottayam',\n",
       "       'Dhanbad', 'Navsari', 'Bahadurgarh', 'Nellore', 'Dhule',\n",
       "       'Tirunelveli', 'Cuttack', 'Haridwar', 'Nainital', 'Jamnagar',\n",
       "       'Kanchipuram', 'Kadi', 'Karad', 'Jagdalpur', 'Panipat',\n",
       "       'Muzaffarpur', 'Salem', 'Jhunjhunu', 'Gandhidham', 'Junagadh',\n",
       "       'Moradabad', 'Ahmednagar', 'Jalna', 'Bhiwani', 'Palakkad',\n",
       "       'Kannur', 'Karjat', 'Akola', 'Jind', 'Gaya', 'Ambala', 'Ajmer',\n",
       "       'Hajipur', 'Dharwad', 'Pudukkottai', 'Kollam', 'Ooty', 'Bhandara',\n",
       "       'Barabanki', 'Rajpura', 'Palwal', 'Aligarh', 'Erode', 'Rudrapur',\n",
       "       'Tenali', 'Ongole', 'Nizamabad', 'Puri', 'Dalhousie', 'Siddipet',\n",
       "       'Solan', 'Darbhanga', 'Kadapa', 'Kakinada', 'Agartala', 'Warangal',\n",
       "       'Haldwani', 'Osmanabad', 'Bhagalpur', 'Bardhaman', 'Rishikesh',\n",
       "       'Chandrapur', 'Bokaro', 'Jharsuguda', 'Bhimavaram', 'Kurnool',\n",
       "       'Amroha', 'Hapur', 'Sabarkantha', 'Harda', 'Ujjain', 'Thoothukudi',\n",
       "       'Karaikudi', 'Mathura', 'Gadhinglaj', 'Rewari', 'Godhra',\n",
       "       'Kharagpur', 'Srikakulam', 'Srinagar', 'Midnapore', 'Rayagada',\n",
       "       'Banswara', 'Shirdi', 'Rohtak', 'Pali', 'Hathras', 'Yavatmal',\n",
       "       'Balasore', 'Chhindwara', 'Bareilly', 'Vidisha', 'Thanjavur',\n",
       "       'Kangra', 'Bikaner', 'Rewa', 'Porbandar', 'Nagaur', 'Nanded',\n",
       "       'Rourkela', 'Nadiad', 'Gulbarga', 'Palanpur', 'Bhadrak',\n",
       "       'Kurukshetra', 'Dibrugarh', 'Sagar', 'Machilipatnam',\n",
       "       'Pathanamthitta', 'Bankura', 'Jammu', 'Idukki', 'Korba', 'Raigarh',\n",
       "       'Silchar', 'Arrah', 'Nagaon', 'Karwar', 'Dahod', 'Nagapattinam',\n",
       "       'Sikar', 'Angul', 'Baddi', 'Darjeeling', 'Raisen', 'Hoshiarpur',\n",
       "       'Beed', 'Gadarwara', 'Jajpur', 'Haldia', 'Chittoor', 'Faizabad',\n",
       "       'Malappuram', 'Betul', 'Surendranagar', 'Phagwara', 'Visnagar',\n",
       "       'Rajnandgaon', 'Cuddalore', 'Raichur', 'Sambalpur', 'Gondia',\n",
       "       'Vellore', 'Bharatpur', 'Bhuj', 'Siwan', 'Washim'], dtype=object)"
      ]
     },
     "execution_count": 13,
     "metadata": {},
     "output_type": "execute_result"
    }
   ],
   "source": [
    "df[\"CITY\"].unique()\n"
   ]
  },
  {
   "cell_type": "code",
   "execution_count": 14,
   "metadata": {},
   "outputs": [],
   "source": [
    "X=\"Ahmedabad, Bangalore, Chennai, Delhi, Hyderabad, Kolkata, Mumbai ,Pune\"\n",
    "X=X.split(\",\")"
   ]
  },
  {
   "cell_type": "code",
   "execution_count": 15,
   "metadata": {},
   "outputs": [
    {
     "data": {
      "text/plain": [
       "['Ahmedabad',\n",
       " ' Bangalore',\n",
       " ' Chennai',\n",
       " ' Delhi',\n",
       " ' Hyderabad',\n",
       " ' Kolkata',\n",
       " ' Mumbai ',\n",
       " 'Pune']"
      ]
     },
     "execution_count": 15,
     "metadata": {},
     "output_type": "execute_result"
    }
   ],
   "source": [
    "X"
   ]
  },
  {
   "cell_type": "code",
   "execution_count": 16,
   "metadata": {},
   "outputs": [
    {
     "data": {
      "text/plain": [
       "['Ahmedabad',\n",
       " 'Bangalore',\n",
       " 'Chennai',\n",
       " 'Delhi',\n",
       " 'Hyderabad',\n",
       " 'Kolkata',\n",
       " 'Mumbai',\n",
       " 'Pune']"
      ]
     },
     "execution_count": 16,
     "metadata": {},
     "output_type": "execute_result"
    }
   ],
   "source": [
    "X=list(map(str.strip, X)) # converting to list and removing spaces from string\n",
    "X"
   ]
  },
  {
   "cell_type": "code",
   "execution_count": 17,
   "metadata": {},
   "outputs": [
    {
     "data": {
      "text/plain": [
       "['Agra',\n",
       " 'Ajmer',\n",
       " 'Aligarh',\n",
       " 'Amravati',\n",
       " 'Amritsar',\n",
       " 'Asansol',\n",
       " 'Aurangabad',\n",
       " 'Bareilly',\n",
       " 'Belgaum',\n",
       " 'Bhavnagar',\n",
       " 'Bhiwandi',\n",
       " 'Bhopal',\n",
       " 'Bhubaneswar',\n",
       " 'Bikaner',\n",
       " 'Bilaspur',\n",
       " 'Bokaro Steel City',\n",
       " 'Chandigarh',\n",
       " 'Coimbatore',\n",
       " 'Cuttack',\n",
       " 'Dehradun',\n",
       " 'Dhanbad',\n",
       " 'Bhilai',\n",
       " 'Durgapur',\n",
       " 'Erode',\n",
       " 'Faridabad',\n",
       " 'Firozabad',\n",
       " 'Ghaziabad',\n",
       " 'Gorakhpur',\n",
       " 'Gulbarga',\n",
       " 'Guntur',\n",
       " 'Gwalior',\n",
       " 'Gurgaon',\n",
       " 'Guwahati',\n",
       " 'Hamirpur',\n",
       " 'Hubli–Dharwad',\n",
       " 'Indore',\n",
       " 'Jabalpur',\n",
       " 'Jaipur',\n",
       " 'Jalandhar',\n",
       " 'Jalgaon',\n",
       " 'Jammu',\n",
       " 'Jamnagar',\n",
       " 'Jamshedpur',\n",
       " 'Jhansi',\n",
       " 'Jodhpur',\n",
       " 'Kakinada',\n",
       " 'Kannur',\n",
       " 'Kanpur',\n",
       " 'Karnal',\n",
       " 'Kochi',\n",
       " 'Kolhapur',\n",
       " 'Kollam',\n",
       " 'Kozhikode',\n",
       " 'Kurnool',\n",
       " 'Ludhiana',\n",
       " 'Lucknow',\n",
       " 'Madurai',\n",
       " 'Malappuram',\n",
       " 'Mathura',\n",
       " 'Mangalore',\n",
       " 'Meerut',\n",
       " 'Moradabad',\n",
       " 'Mysore',\n",
       " 'Nagpur',\n",
       " 'Nanded',\n",
       " 'Nashik',\n",
       " 'Nellore',\n",
       " 'Noida',\n",
       " 'Patna',\n",
       " 'Pondicherry',\n",
       " 'Purulia',\n",
       " 'Prayagraj',\n",
       " 'Raipur',\n",
       " 'Rajkot',\n",
       " 'Rajahmundry',\n",
       " 'Ranchi',\n",
       " 'Rourkela',\n",
       " 'Ratlam',\n",
       " 'Salem',\n",
       " 'Sangli',\n",
       " 'Shimla',\n",
       " 'Siliguri',\n",
       " 'Solapur',\n",
       " 'Srinagar',\n",
       " 'Surat',\n",
       " 'Thanjavur',\n",
       " 'Thiruvananthapuram',\n",
       " 'Thrissur',\n",
       " 'Tiruchirappalli',\n",
       " 'Tirunelveli',\n",
       " 'Tiruvannamalai',\n",
       " 'Ujjain',\n",
       " 'Bijapur',\n",
       " 'Vadodara',\n",
       " 'Varanasi',\n",
       " 'Vasai-Virar City',\n",
       " 'Vijayawada',\n",
       " 'Visakhapatnam',\n",
       " 'Vellore',\n",
       " 'Warangal']"
      ]
     },
     "execution_count": 17,
     "metadata": {},
     "output_type": "execute_result"
    }
   ],
   "source": [
    "Y=\"Agra, Ajmer, Aligarh, Amravati, Amritsar, Asansol, Aurangabad, Bareilly, Belgaum, Bhavnagar, Bhiwandi, Bhopal, Bhubaneswar, Bikaner, Bilaspur, Bokaro Steel City, Chandigarh, Coimbatore, Cuttack, Dehradun, Dhanbad, Bhilai, Durgapur, Erode, Faridabad, Firozabad, Ghaziabad, Gorakhpur, Gulbarga, Guntur, Gwalior, Gurgaon, Guwahati, Hamirpur, Hubli–Dharwad, Indore, Jabalpur, Jaipur, Jalandhar, Jalgaon, Jammu, Jamnagar, Jamshedpur, Jhansi, Jodhpur, Kakinada, Kannur, Kanpur, Karnal, Kochi, Kolhapur, Kollam, Kozhikode, Kurnool, Ludhiana, Lucknow, Madurai, Malappuram, Mathura, Mangalore, Meerut, Moradabad, Mysore, Nagpur, Nanded, Nashik, Nellore, Noida, Patna, Pondicherry, Purulia, Prayagraj, Raipur, Rajkot, Rajahmundry, Ranchi, Rourkela, Ratlam, Salem, Sangli, Shimla, Siliguri, Solapur, Srinagar, Surat, Thanjavur, Thiruvananthapuram, Thrissur, Tiruchirappalli, Tirunelveli, Tiruvannamalai, Ujjain, Bijapur, Vadodara, Varanasi, Vasai-Virar City, Vijayawada, Visakhapatnam, Vellore , Warangal\"\n",
    "#  tier 2 cities from Wiki \n",
    "Y=Y.split(\",\")\n",
    "Y=list(map(str.strip,Y)) # converting to list and removing spaces from string\n",
    "Y"
   ]
  },
  {
   "cell_type": "code",
   "execution_count": 18,
   "metadata": {},
   "outputs": [
    {
     "data": {
      "text/plain": [
       "1"
      ]
     },
     "execution_count": 18,
     "metadata": {},
     "output_type": "execute_result"
    }
   ],
   "source": [
    "def tier1(l): # simple function to identify Tier 1 cities. returns 1 if city is tier 1 otherwise 0\n",
    "    if l in X:\n",
    "        return 1\n",
    "    else:\n",
    "        return 0\n",
    "tier1(\"Bangalore\")"
   ]
  },
  {
   "cell_type": "code",
   "execution_count": 19,
   "metadata": {},
   "outputs": [
    {
     "data": {
      "text/plain": [
       "0    1\n",
       "1    0\n",
       "2    1\n",
       "3    0\n",
       "4    1\n",
       "5    0\n",
       "6    0\n",
       "7    0\n",
       "8    1\n",
       "9    1\n",
       "Name: tier1, dtype: int64"
      ]
     },
     "execution_count": 19,
     "metadata": {},
     "output_type": "execute_result"
    }
   ],
   "source": [
    "df[\"tier1\"]=df[\"CITY\"].apply(tier1) # apply tier1 function to city column\n",
    "df[\"tier1\"].head(10)"
   ]
  },
  {
   "cell_type": "code",
   "execution_count": 20,
   "metadata": {},
   "outputs": [
    {
     "data": {
      "text/plain": [
       "0    Bangalore\n",
       "1       Mysore\n",
       "2    Bangalore\n",
       "3    Ghaziabad\n",
       "4      Kolkata\n",
       "5        Kochi\n",
       "6       Jaipur\n",
       "7       Mohali\n",
       "8    Bangalore\n",
       "9      Chennai\n",
       "Name: CITY, dtype: object"
      ]
     },
     "execution_count": 20,
     "metadata": {},
     "output_type": "execute_result"
    }
   ],
   "source": [
    "df[\"CITY\"].head(10)"
   ]
  },
  {
   "cell_type": "code",
   "execution_count": 21,
   "metadata": {},
   "outputs": [
    {
     "data": {
      "text/plain": [
       "0"
      ]
     },
     "execution_count": 21,
     "metadata": {},
     "output_type": "execute_result"
    }
   ],
   "source": [
    "def tier2(l): # simple function to identify Tier 2 cities. returns 1 if city is tier 2 otherwise 0\n",
    "    if l in Y:\n",
    "        return 1\n",
    "    else:\n",
    "        return 0\n",
    "tier2(\"Bangalore\")"
   ]
  },
  {
   "cell_type": "code",
   "execution_count": 22,
   "metadata": {},
   "outputs": [
    {
     "data": {
      "text/plain": [
       "0        0\n",
       "1        1\n",
       "2        0\n",
       "3        1\n",
       "4        0\n",
       "        ..\n",
       "29446    1\n",
       "29447    0\n",
       "29448    1\n",
       "29449    0\n",
       "29450    1\n",
       "Name: tier2, Length: 29451, dtype: int64"
      ]
     },
     "execution_count": 22,
     "metadata": {},
     "output_type": "execute_result"
    }
   ],
   "source": [
    "df[\"tier2\"]=df[\"CITY\"].apply(tier2) # apply tier2 function to city column\n",
    "df[\"tier2\"]"
   ]
  },
  {
   "cell_type": "code",
   "execution_count": 23,
   "metadata": {},
   "outputs": [
    {
     "data": {
      "text/plain": [
       "0"
      ]
     },
     "execution_count": 23,
     "metadata": {},
     "output_type": "execute_result"
    }
   ],
   "source": [
    "def tier3(l): # simple function to identify Tier 3 cities. returns 1 if city is tier 3 otherwise 0\n",
    "    if l not in X and l not in Y:\n",
    "        return 1\n",
    "    else:\n",
    "        return 0\n",
    "tier3(\"Bangalore\")"
   ]
  },
  {
   "cell_type": "code",
   "execution_count": 24,
   "metadata": {},
   "outputs": [
    {
     "data": {
      "text/plain": [
       "0        0\n",
       "1        0\n",
       "2        0\n",
       "3        0\n",
       "4        0\n",
       "        ..\n",
       "29446    0\n",
       "29447    1\n",
       "29448    0\n",
       "29449    0\n",
       "29450    0\n",
       "Name: tier3, Length: 29451, dtype: int64"
      ]
     },
     "execution_count": 24,
     "metadata": {},
     "output_type": "execute_result"
    }
   ],
   "source": [
    "df[\"tier3\"]=df[\"CITY\"].apply(tier3) # apply tier3 function to city column\n",
    "df[\"tier3\"]"
   ]
  },
  {
   "cell_type": "code",
   "execution_count": 25,
   "metadata": {},
   "outputs": [
    {
     "data": {
      "text/html": [
       "<div>\n",
       "<style scoped>\n",
       "    .dataframe tbody tr th:only-of-type {\n",
       "        vertical-align: middle;\n",
       "    }\n",
       "\n",
       "    .dataframe tbody tr th {\n",
       "        vertical-align: top;\n",
       "    }\n",
       "\n",
       "    .dataframe thead th {\n",
       "        text-align: right;\n",
       "    }\n",
       "</style>\n",
       "<table border=\"1\" class=\"dataframe\">\n",
       "  <thead>\n",
       "    <tr style=\"text-align: right;\">\n",
       "      <th></th>\n",
       "      <th>POSTED_BY</th>\n",
       "      <th>UNDER_CONSTRUCTION</th>\n",
       "      <th>RERA</th>\n",
       "      <th>BHK_NO.</th>\n",
       "      <th>BHK_OR_RK</th>\n",
       "      <th>SQUARE_FT</th>\n",
       "      <th>READY_TO_MOVE</th>\n",
       "      <th>RESALE</th>\n",
       "      <th>ADDRESS</th>\n",
       "      <th>LONGITUDE</th>\n",
       "      <th>LATITUDE</th>\n",
       "      <th>TARGET(PRICE_IN_LACS)</th>\n",
       "      <th>CITY</th>\n",
       "      <th>tier1</th>\n",
       "      <th>tier2</th>\n",
       "      <th>tier3</th>\n",
       "    </tr>\n",
       "  </thead>\n",
       "  <tbody>\n",
       "    <tr>\n",
       "      <th>0</th>\n",
       "      <td>Owner</td>\n",
       "      <td>0</td>\n",
       "      <td>0</td>\n",
       "      <td>2</td>\n",
       "      <td>BHK</td>\n",
       "      <td>1300.236407</td>\n",
       "      <td>1</td>\n",
       "      <td>1</td>\n",
       "      <td>Ksfc Layout,Bangalore</td>\n",
       "      <td>12.969910</td>\n",
       "      <td>77.597960</td>\n",
       "      <td>55.0</td>\n",
       "      <td>Bangalore</td>\n",
       "      <td>1</td>\n",
       "      <td>0</td>\n",
       "      <td>0</td>\n",
       "    </tr>\n",
       "    <tr>\n",
       "      <th>1</th>\n",
       "      <td>Dealer</td>\n",
       "      <td>0</td>\n",
       "      <td>0</td>\n",
       "      <td>2</td>\n",
       "      <td>BHK</td>\n",
       "      <td>1275.000000</td>\n",
       "      <td>1</td>\n",
       "      <td>1</td>\n",
       "      <td>Vishweshwara Nagar,Mysore</td>\n",
       "      <td>12.274538</td>\n",
       "      <td>76.644605</td>\n",
       "      <td>51.0</td>\n",
       "      <td>Mysore</td>\n",
       "      <td>0</td>\n",
       "      <td>1</td>\n",
       "      <td>0</td>\n",
       "    </tr>\n",
       "    <tr>\n",
       "      <th>2</th>\n",
       "      <td>Owner</td>\n",
       "      <td>0</td>\n",
       "      <td>0</td>\n",
       "      <td>2</td>\n",
       "      <td>BHK</td>\n",
       "      <td>933.159722</td>\n",
       "      <td>1</td>\n",
       "      <td>1</td>\n",
       "      <td>Jigani,Bangalore</td>\n",
       "      <td>12.778033</td>\n",
       "      <td>77.632191</td>\n",
       "      <td>43.0</td>\n",
       "      <td>Bangalore</td>\n",
       "      <td>1</td>\n",
       "      <td>0</td>\n",
       "      <td>0</td>\n",
       "    </tr>\n",
       "    <tr>\n",
       "      <th>3</th>\n",
       "      <td>Owner</td>\n",
       "      <td>0</td>\n",
       "      <td>1</td>\n",
       "      <td>2</td>\n",
       "      <td>BHK</td>\n",
       "      <td>929.921143</td>\n",
       "      <td>1</td>\n",
       "      <td>1</td>\n",
       "      <td>Sector-1 Vaishali,Ghaziabad</td>\n",
       "      <td>28.642300</td>\n",
       "      <td>77.344500</td>\n",
       "      <td>62.5</td>\n",
       "      <td>Ghaziabad</td>\n",
       "      <td>0</td>\n",
       "      <td>1</td>\n",
       "      <td>0</td>\n",
       "    </tr>\n",
       "    <tr>\n",
       "      <th>4</th>\n",
       "      <td>Dealer</td>\n",
       "      <td>1</td>\n",
       "      <td>0</td>\n",
       "      <td>2</td>\n",
       "      <td>BHK</td>\n",
       "      <td>999.009247</td>\n",
       "      <td>0</td>\n",
       "      <td>1</td>\n",
       "      <td>New Town,Kolkata</td>\n",
       "      <td>22.592200</td>\n",
       "      <td>88.484911</td>\n",
       "      <td>60.5</td>\n",
       "      <td>Kolkata</td>\n",
       "      <td>1</td>\n",
       "      <td>0</td>\n",
       "      <td>0</td>\n",
       "    </tr>\n",
       "  </tbody>\n",
       "</table>\n",
       "</div>"
      ],
      "text/plain": [
       "  POSTED_BY  UNDER_CONSTRUCTION  RERA  BHK_NO. BHK_OR_RK    SQUARE_FT  \\\n",
       "0     Owner                   0     0        2       BHK  1300.236407   \n",
       "1    Dealer                   0     0        2       BHK  1275.000000   \n",
       "2     Owner                   0     0        2       BHK   933.159722   \n",
       "3     Owner                   0     1        2       BHK   929.921143   \n",
       "4    Dealer                   1     0        2       BHK   999.009247   \n",
       "\n",
       "   READY_TO_MOVE  RESALE                      ADDRESS  LONGITUDE   LATITUDE  \\\n",
       "0              1       1        Ksfc Layout,Bangalore  12.969910  77.597960   \n",
       "1              1       1    Vishweshwara Nagar,Mysore  12.274538  76.644605   \n",
       "2              1       1             Jigani,Bangalore  12.778033  77.632191   \n",
       "3              1       1  Sector-1 Vaishali,Ghaziabad  28.642300  77.344500   \n",
       "4              0       1             New Town,Kolkata  22.592200  88.484911   \n",
       "\n",
       "   TARGET(PRICE_IN_LACS)       CITY  tier1  tier2  tier3  \n",
       "0                   55.0  Bangalore      1      0      0  \n",
       "1                   51.0     Mysore      0      1      0  \n",
       "2                   43.0  Bangalore      1      0      0  \n",
       "3                   62.5  Ghaziabad      0      1      0  \n",
       "4                   60.5    Kolkata      1      0      0  "
      ]
     },
     "execution_count": 25,
     "metadata": {},
     "output_type": "execute_result"
    }
   ],
   "source": [
    "df.head()"
   ]
  },
  {
   "cell_type": "code",
   "execution_count": 26,
   "metadata": {},
   "outputs": [],
   "source": [
    "df.drop([\"CITY\",\"ADDRESS\"],axis=1,inplace=True ) # drop address and city column"
   ]
  },
  {
   "cell_type": "code",
   "execution_count": 27,
   "metadata": {},
   "outputs": [
    {
     "data": {
      "text/html": [
       "<div>\n",
       "<style scoped>\n",
       "    .dataframe tbody tr th:only-of-type {\n",
       "        vertical-align: middle;\n",
       "    }\n",
       "\n",
       "    .dataframe tbody tr th {\n",
       "        vertical-align: top;\n",
       "    }\n",
       "\n",
       "    .dataframe thead th {\n",
       "        text-align: right;\n",
       "    }\n",
       "</style>\n",
       "<table border=\"1\" class=\"dataframe\">\n",
       "  <thead>\n",
       "    <tr style=\"text-align: right;\">\n",
       "      <th></th>\n",
       "      <th>POSTED_BY</th>\n",
       "      <th>UNDER_CONSTRUCTION</th>\n",
       "      <th>RERA</th>\n",
       "      <th>BHK_NO.</th>\n",
       "      <th>BHK_OR_RK</th>\n",
       "      <th>SQUARE_FT</th>\n",
       "      <th>READY_TO_MOVE</th>\n",
       "      <th>RESALE</th>\n",
       "      <th>LONGITUDE</th>\n",
       "      <th>LATITUDE</th>\n",
       "      <th>TARGET(PRICE_IN_LACS)</th>\n",
       "      <th>tier1</th>\n",
       "      <th>tier2</th>\n",
       "      <th>tier3</th>\n",
       "    </tr>\n",
       "  </thead>\n",
       "  <tbody>\n",
       "    <tr>\n",
       "      <th>0</th>\n",
       "      <td>Owner</td>\n",
       "      <td>0</td>\n",
       "      <td>0</td>\n",
       "      <td>2</td>\n",
       "      <td>BHK</td>\n",
       "      <td>1300.236407</td>\n",
       "      <td>1</td>\n",
       "      <td>1</td>\n",
       "      <td>12.969910</td>\n",
       "      <td>77.597960</td>\n",
       "      <td>55.0</td>\n",
       "      <td>1</td>\n",
       "      <td>0</td>\n",
       "      <td>0</td>\n",
       "    </tr>\n",
       "    <tr>\n",
       "      <th>1</th>\n",
       "      <td>Dealer</td>\n",
       "      <td>0</td>\n",
       "      <td>0</td>\n",
       "      <td>2</td>\n",
       "      <td>BHK</td>\n",
       "      <td>1275.000000</td>\n",
       "      <td>1</td>\n",
       "      <td>1</td>\n",
       "      <td>12.274538</td>\n",
       "      <td>76.644605</td>\n",
       "      <td>51.0</td>\n",
       "      <td>0</td>\n",
       "      <td>1</td>\n",
       "      <td>0</td>\n",
       "    </tr>\n",
       "    <tr>\n",
       "      <th>2</th>\n",
       "      <td>Owner</td>\n",
       "      <td>0</td>\n",
       "      <td>0</td>\n",
       "      <td>2</td>\n",
       "      <td>BHK</td>\n",
       "      <td>933.159722</td>\n",
       "      <td>1</td>\n",
       "      <td>1</td>\n",
       "      <td>12.778033</td>\n",
       "      <td>77.632191</td>\n",
       "      <td>43.0</td>\n",
       "      <td>1</td>\n",
       "      <td>0</td>\n",
       "      <td>0</td>\n",
       "    </tr>\n",
       "    <tr>\n",
       "      <th>3</th>\n",
       "      <td>Owner</td>\n",
       "      <td>0</td>\n",
       "      <td>1</td>\n",
       "      <td>2</td>\n",
       "      <td>BHK</td>\n",
       "      <td>929.921143</td>\n",
       "      <td>1</td>\n",
       "      <td>1</td>\n",
       "      <td>28.642300</td>\n",
       "      <td>77.344500</td>\n",
       "      <td>62.5</td>\n",
       "      <td>0</td>\n",
       "      <td>1</td>\n",
       "      <td>0</td>\n",
       "    </tr>\n",
       "    <tr>\n",
       "      <th>4</th>\n",
       "      <td>Dealer</td>\n",
       "      <td>1</td>\n",
       "      <td>0</td>\n",
       "      <td>2</td>\n",
       "      <td>BHK</td>\n",
       "      <td>999.009247</td>\n",
       "      <td>0</td>\n",
       "      <td>1</td>\n",
       "      <td>22.592200</td>\n",
       "      <td>88.484911</td>\n",
       "      <td>60.5</td>\n",
       "      <td>1</td>\n",
       "      <td>0</td>\n",
       "      <td>0</td>\n",
       "    </tr>\n",
       "    <tr>\n",
       "      <th>...</th>\n",
       "      <td>...</td>\n",
       "      <td>...</td>\n",
       "      <td>...</td>\n",
       "      <td>...</td>\n",
       "      <td>...</td>\n",
       "      <td>...</td>\n",
       "      <td>...</td>\n",
       "      <td>...</td>\n",
       "      <td>...</td>\n",
       "      <td>...</td>\n",
       "      <td>...</td>\n",
       "      <td>...</td>\n",
       "      <td>...</td>\n",
       "      <td>...</td>\n",
       "    </tr>\n",
       "    <tr>\n",
       "      <th>29446</th>\n",
       "      <td>Owner</td>\n",
       "      <td>0</td>\n",
       "      <td>0</td>\n",
       "      <td>3</td>\n",
       "      <td>BHK</td>\n",
       "      <td>2500.000000</td>\n",
       "      <td>1</td>\n",
       "      <td>1</td>\n",
       "      <td>27.140626</td>\n",
       "      <td>78.043277</td>\n",
       "      <td>45.0</td>\n",
       "      <td>0</td>\n",
       "      <td>1</td>\n",
       "      <td>0</td>\n",
       "    </tr>\n",
       "    <tr>\n",
       "      <th>29447</th>\n",
       "      <td>Owner</td>\n",
       "      <td>0</td>\n",
       "      <td>0</td>\n",
       "      <td>2</td>\n",
       "      <td>BHK</td>\n",
       "      <td>769.230769</td>\n",
       "      <td>1</td>\n",
       "      <td>1</td>\n",
       "      <td>39.945409</td>\n",
       "      <td>-86.150721</td>\n",
       "      <td>16.0</td>\n",
       "      <td>0</td>\n",
       "      <td>0</td>\n",
       "      <td>1</td>\n",
       "    </tr>\n",
       "    <tr>\n",
       "      <th>29448</th>\n",
       "      <td>Dealer</td>\n",
       "      <td>0</td>\n",
       "      <td>0</td>\n",
       "      <td>2</td>\n",
       "      <td>BHK</td>\n",
       "      <td>1022.641509</td>\n",
       "      <td>1</td>\n",
       "      <td>1</td>\n",
       "      <td>26.928785</td>\n",
       "      <td>75.828002</td>\n",
       "      <td>27.1</td>\n",
       "      <td>0</td>\n",
       "      <td>1</td>\n",
       "      <td>0</td>\n",
       "    </tr>\n",
       "    <tr>\n",
       "      <th>29449</th>\n",
       "      <td>Owner</td>\n",
       "      <td>0</td>\n",
       "      <td>0</td>\n",
       "      <td>2</td>\n",
       "      <td>BHK</td>\n",
       "      <td>927.079009</td>\n",
       "      <td>1</td>\n",
       "      <td>1</td>\n",
       "      <td>12.900150</td>\n",
       "      <td>80.227910</td>\n",
       "      <td>67.0</td>\n",
       "      <td>1</td>\n",
       "      <td>0</td>\n",
       "      <td>0</td>\n",
       "    </tr>\n",
       "    <tr>\n",
       "      <th>29450</th>\n",
       "      <td>Dealer</td>\n",
       "      <td>0</td>\n",
       "      <td>1</td>\n",
       "      <td>2</td>\n",
       "      <td>BHK</td>\n",
       "      <td>896.774194</td>\n",
       "      <td>1</td>\n",
       "      <td>1</td>\n",
       "      <td>26.832353</td>\n",
       "      <td>75.841749</td>\n",
       "      <td>27.8</td>\n",
       "      <td>0</td>\n",
       "      <td>1</td>\n",
       "      <td>0</td>\n",
       "    </tr>\n",
       "  </tbody>\n",
       "</table>\n",
       "<p>29451 rows × 14 columns</p>\n",
       "</div>"
      ],
      "text/plain": [
       "      POSTED_BY  UNDER_CONSTRUCTION  RERA  BHK_NO. BHK_OR_RK    SQUARE_FT  \\\n",
       "0         Owner                   0     0        2       BHK  1300.236407   \n",
       "1        Dealer                   0     0        2       BHK  1275.000000   \n",
       "2         Owner                   0     0        2       BHK   933.159722   \n",
       "3         Owner                   0     1        2       BHK   929.921143   \n",
       "4        Dealer                   1     0        2       BHK   999.009247   \n",
       "...         ...                 ...   ...      ...       ...          ...   \n",
       "29446     Owner                   0     0        3       BHK  2500.000000   \n",
       "29447     Owner                   0     0        2       BHK   769.230769   \n",
       "29448    Dealer                   0     0        2       BHK  1022.641509   \n",
       "29449     Owner                   0     0        2       BHK   927.079009   \n",
       "29450    Dealer                   0     1        2       BHK   896.774194   \n",
       "\n",
       "       READY_TO_MOVE  RESALE  LONGITUDE   LATITUDE  TARGET(PRICE_IN_LACS)  \\\n",
       "0                  1       1  12.969910  77.597960                   55.0   \n",
       "1                  1       1  12.274538  76.644605                   51.0   \n",
       "2                  1       1  12.778033  77.632191                   43.0   \n",
       "3                  1       1  28.642300  77.344500                   62.5   \n",
       "4                  0       1  22.592200  88.484911                   60.5   \n",
       "...              ...     ...        ...        ...                    ...   \n",
       "29446              1       1  27.140626  78.043277                   45.0   \n",
       "29447              1       1  39.945409 -86.150721                   16.0   \n",
       "29448              1       1  26.928785  75.828002                   27.1   \n",
       "29449              1       1  12.900150  80.227910                   67.0   \n",
       "29450              1       1  26.832353  75.841749                   27.8   \n",
       "\n",
       "       tier1  tier2  tier3  \n",
       "0          1      0      0  \n",
       "1          0      1      0  \n",
       "2          1      0      0  \n",
       "3          0      1      0  \n",
       "4          1      0      0  \n",
       "...      ...    ...    ...  \n",
       "29446      0      1      0  \n",
       "29447      0      0      1  \n",
       "29448      0      1      0  \n",
       "29449      1      0      0  \n",
       "29450      0      1      0  \n",
       "\n",
       "[29451 rows x 14 columns]"
      ]
     },
     "execution_count": 27,
     "metadata": {},
     "output_type": "execute_result"
    }
   ],
   "source": [
    "df"
   ]
  },
  {
   "cell_type": "code",
   "execution_count": 28,
   "metadata": {},
   "outputs": [
    {
     "data": {
      "text/plain": [
       "Text(0, 0.5, 'Frequency')"
      ]
     },
     "execution_count": 28,
     "metadata": {},
     "output_type": "execute_result"
    },
    {
     "data": {
      "image/png": "[encoded data removed]",
      "text/plain": [
       "<Figure size 1080x1080 with 1 Axes>"
      ]
     },
     "metadata": {
      "needs_background": "light"
     },
     "output_type": "display_data"
    }
   ],
   "source": [
    "plt.figure(figsize=(15,15))\n",
    "plt.hist(df[\"TARGET(PRICE_IN_LACS)\"],bins=100)\n",
    "plt.title(\"Historam for TARGET(PRICE_IN_LACS)\")\n",
    "plt.xlabel(\"TARGET(PRICE_IN_LACS)\")\n",
    "plt.ylabel(\"Frequency\")"
   ]
  },
  {
   "cell_type": "code",
   "execution_count": 29,
   "metadata": {
    "scrolled": true
   },
   "outputs": [
    {
     "data": {
      "text/html": [
       "<div>\n",
       "<style scoped>\n",
       "    .dataframe tbody tr th:only-of-type {\n",
       "        vertical-align: middle;\n",
       "    }\n",
       "\n",
       "    .dataframe tbody tr th {\n",
       "        vertical-align: top;\n",
       "    }\n",
       "\n",
       "    .dataframe thead th {\n",
       "        text-align: right;\n",
       "    }\n",
       "</style>\n",
       "<table border=\"1\" class=\"dataframe\">\n",
       "  <thead>\n",
       "    <tr style=\"text-align: right;\">\n",
       "      <th></th>\n",
       "      <th>POSTED_BY</th>\n",
       "      <th>UNDER_CONSTRUCTION</th>\n",
       "      <th>RERA</th>\n",
       "      <th>BHK_NO.</th>\n",
       "      <th>BHK_OR_RK</th>\n",
       "      <th>SQUARE_FT</th>\n",
       "      <th>READY_TO_MOVE</th>\n",
       "      <th>RESALE</th>\n",
       "      <th>LONGITUDE</th>\n",
       "      <th>LATITUDE</th>\n",
       "      <th>TARGET(PRICE_IN_LACS)</th>\n",
       "      <th>tier1</th>\n",
       "      <th>tier2</th>\n",
       "      <th>tier3</th>\n",
       "    </tr>\n",
       "  </thead>\n",
       "  <tbody>\n",
       "    <tr>\n",
       "      <th>0</th>\n",
       "      <td>Owner</td>\n",
       "      <td>0</td>\n",
       "      <td>0</td>\n",
       "      <td>2</td>\n",
       "      <td>BHK</td>\n",
       "      <td>1300.236407</td>\n",
       "      <td>1</td>\n",
       "      <td>1</td>\n",
       "      <td>12.969910</td>\n",
       "      <td>77.597960</td>\n",
       "      <td>55.0</td>\n",
       "      <td>1</td>\n",
       "      <td>0</td>\n",
       "      <td>0</td>\n",
       "    </tr>\n",
       "    <tr>\n",
       "      <th>1</th>\n",
       "      <td>Dealer</td>\n",
       "      <td>0</td>\n",
       "      <td>0</td>\n",
       "      <td>2</td>\n",
       "      <td>BHK</td>\n",
       "      <td>1275.000000</td>\n",
       "      <td>1</td>\n",
       "      <td>1</td>\n",
       "      <td>12.274538</td>\n",
       "      <td>76.644605</td>\n",
       "      <td>51.0</td>\n",
       "      <td>0</td>\n",
       "      <td>1</td>\n",
       "      <td>0</td>\n",
       "    </tr>\n",
       "    <tr>\n",
       "      <th>2</th>\n",
       "      <td>Owner</td>\n",
       "      <td>0</td>\n",
       "      <td>0</td>\n",
       "      <td>2</td>\n",
       "      <td>BHK</td>\n",
       "      <td>933.159722</td>\n",
       "      <td>1</td>\n",
       "      <td>1</td>\n",
       "      <td>12.778033</td>\n",
       "      <td>77.632191</td>\n",
       "      <td>43.0</td>\n",
       "      <td>1</td>\n",
       "      <td>0</td>\n",
       "      <td>0</td>\n",
       "    </tr>\n",
       "    <tr>\n",
       "      <th>3</th>\n",
       "      <td>Owner</td>\n",
       "      <td>0</td>\n",
       "      <td>1</td>\n",
       "      <td>2</td>\n",
       "      <td>BHK</td>\n",
       "      <td>929.921143</td>\n",
       "      <td>1</td>\n",
       "      <td>1</td>\n",
       "      <td>28.642300</td>\n",
       "      <td>77.344500</td>\n",
       "      <td>62.5</td>\n",
       "      <td>0</td>\n",
       "      <td>1</td>\n",
       "      <td>0</td>\n",
       "    </tr>\n",
       "    <tr>\n",
       "      <th>4</th>\n",
       "      <td>Dealer</td>\n",
       "      <td>1</td>\n",
       "      <td>0</td>\n",
       "      <td>2</td>\n",
       "      <td>BHK</td>\n",
       "      <td>999.009247</td>\n",
       "      <td>0</td>\n",
       "      <td>1</td>\n",
       "      <td>22.592200</td>\n",
       "      <td>88.484911</td>\n",
       "      <td>60.5</td>\n",
       "      <td>1</td>\n",
       "      <td>0</td>\n",
       "      <td>0</td>\n",
       "    </tr>\n",
       "    <tr>\n",
       "      <th>5</th>\n",
       "      <td>Owner</td>\n",
       "      <td>0</td>\n",
       "      <td>0</td>\n",
       "      <td>3</td>\n",
       "      <td>BHK</td>\n",
       "      <td>1250.000000</td>\n",
       "      <td>1</td>\n",
       "      <td>1</td>\n",
       "      <td>10.033280</td>\n",
       "      <td>76.282571</td>\n",
       "      <td>42.0</td>\n",
       "      <td>0</td>\n",
       "      <td>1</td>\n",
       "      <td>0</td>\n",
       "    </tr>\n",
       "    <tr>\n",
       "      <th>6</th>\n",
       "      <td>Dealer</td>\n",
       "      <td>0</td>\n",
       "      <td>0</td>\n",
       "      <td>3</td>\n",
       "      <td>BHK</td>\n",
       "      <td>1495.053957</td>\n",
       "      <td>1</td>\n",
       "      <td>1</td>\n",
       "      <td>26.916347</td>\n",
       "      <td>75.795600</td>\n",
       "      <td>66.5</td>\n",
       "      <td>0</td>\n",
       "      <td>1</td>\n",
       "      <td>0</td>\n",
       "    </tr>\n",
       "    <tr>\n",
       "      <th>7</th>\n",
       "      <td>Owner</td>\n",
       "      <td>0</td>\n",
       "      <td>1</td>\n",
       "      <td>3</td>\n",
       "      <td>BHK</td>\n",
       "      <td>1181.012946</td>\n",
       "      <td>1</td>\n",
       "      <td>1</td>\n",
       "      <td>30.740000</td>\n",
       "      <td>76.650000</td>\n",
       "      <td>52.0</td>\n",
       "      <td>0</td>\n",
       "      <td>0</td>\n",
       "      <td>1</td>\n",
       "    </tr>\n",
       "    <tr>\n",
       "      <th>8</th>\n",
       "      <td>Dealer</td>\n",
       "      <td>0</td>\n",
       "      <td>1</td>\n",
       "      <td>2</td>\n",
       "      <td>BHK</td>\n",
       "      <td>1040.000000</td>\n",
       "      <td>1</td>\n",
       "      <td>1</td>\n",
       "      <td>13.054202</td>\n",
       "      <td>77.674002</td>\n",
       "      <td>41.6</td>\n",
       "      <td>1</td>\n",
       "      <td>0</td>\n",
       "      <td>0</td>\n",
       "    </tr>\n",
       "    <tr>\n",
       "      <th>9</th>\n",
       "      <td>Owner</td>\n",
       "      <td>0</td>\n",
       "      <td>1</td>\n",
       "      <td>2</td>\n",
       "      <td>BHK</td>\n",
       "      <td>879.120879</td>\n",
       "      <td>1</td>\n",
       "      <td>1</td>\n",
       "      <td>12.951610</td>\n",
       "      <td>80.140970</td>\n",
       "      <td>36.0</td>\n",
       "      <td>1</td>\n",
       "      <td>0</td>\n",
       "      <td>0</td>\n",
       "    </tr>\n",
       "  </tbody>\n",
       "</table>\n",
       "</div>"
      ],
      "text/plain": [
       "  POSTED_BY  UNDER_CONSTRUCTION  RERA  BHK_NO. BHK_OR_RK    SQUARE_FT  \\\n",
       "0     Owner                   0     0        2       BHK  1300.236407   \n",
       "1    Dealer                   0     0        2       BHK  1275.000000   \n",
       "2     Owner                   0     0        2       BHK   933.159722   \n",
       "3     Owner                   0     1        2       BHK   929.921143   \n",
       "4    Dealer                   1     0        2       BHK   999.009247   \n",
       "5     Owner                   0     0        3       BHK  1250.000000   \n",
       "6    Dealer                   0     0        3       BHK  1495.053957   \n",
       "7     Owner                   0     1        3       BHK  1181.012946   \n",
       "8    Dealer                   0     1        2       BHK  1040.000000   \n",
       "9     Owner                   0     1        2       BHK   879.120879   \n",
       "\n",
       "   READY_TO_MOVE  RESALE  LONGITUDE   LATITUDE  TARGET(PRICE_IN_LACS)  tier1  \\\n",
       "0              1       1  12.969910  77.597960                   55.0      1   \n",
       "1              1       1  12.274538  76.644605                   51.0      0   \n",
       "2              1       1  12.778033  77.632191                   43.0      1   \n",
       "3              1       1  28.642300  77.344500                   62.5      0   \n",
       "4              0       1  22.592200  88.484911                   60.5      1   \n",
       "5              1       1  10.033280  76.282571                   42.0      0   \n",
       "6              1       1  26.916347  75.795600                   66.5      0   \n",
       "7              1       1  30.740000  76.650000                   52.0      0   \n",
       "8              1       1  13.054202  77.674002                   41.6      1   \n",
       "9              1       1  12.951610  80.140970                   36.0      1   \n",
       "\n",
       "   tier2  tier3  \n",
       "0      0      0  \n",
       "1      1      0  \n",
       "2      0      0  \n",
       "3      1      0  \n",
       "4      0      0  \n",
       "5      1      0  \n",
       "6      1      0  \n",
       "7      0      1  \n",
       "8      0      0  \n",
       "9      0      0  "
      ]
     },
     "execution_count": 29,
     "metadata": {},
     "output_type": "execute_result"
    }
   ],
   "source": [
    "df.head(10) # final dataset "
   ]
  },
  {
   "cell_type": "code",
   "execution_count": 30,
   "metadata": {},
   "outputs": [
    {
     "data": {
      "text/plain": [
       "254545454.5"
      ]
     },
     "execution_count": 30,
     "metadata": {},
     "output_type": "execute_result"
    }
   ],
   "source": [
    "df[\"SQUARE_FT\"].max()"
   ]
  },
  {
   "cell_type": "code",
   "execution_count": 31,
   "metadata": {},
   "outputs": [
    {
     "data": {
      "text/plain": [
       "Text(0, 0.5, 'Frequency')"
      ]
     },
     "execution_count": 31,
     "metadata": {},
     "output_type": "execute_result"
    },
    {
     "data": {
      "image/png": "[encoded data removed]",
      "text/plain": [
       "<Figure size 1080x1080 with 1 Axes>"
      ]
     },
     "metadata": {
      "needs_background": "light"
     },
     "output_type": "display_data"
    }
   ],
   "source": [
    "plt.figure(figsize=(15,15))\n",
    "plt.hist(df[\"TARGET(PRICE_IN_LACS)\"],bins=100)\n",
    "plt.title(\"Historam for TARGET(PRICE_IN_LACS)\")\n",
    "plt.xlabel(\"TARGET(PRICE_IN_LACS)\")\n",
    "plt.ylabel(\"Frequency\")"
   ]
  },
  {
   "cell_type": "code",
   "execution_count": 32,
   "metadata": {},
   "outputs": [
    {
     "data": {
      "text/plain": [
       "Text(0, 0.5, 'Frequency')"
      ]
     },
     "execution_count": 32,
     "metadata": {},
     "output_type": "execute_result"
    },
    {
     "data": {
      "image/png": "[encoded data removed]",
      "text/plain": [
       "<Figure size 720x720 with 1 Axes>"
      ]
     },
     "metadata": {
      "needs_background": "light"
     },
     "output_type": "display_data"
    }
   ],
   "source": [
    "plt.figure(figsize=(10,10))\n",
    "plt.hist(df[\"SQUARE_FT\"],bins=50)\n",
    "plt.title(\"Histogram for SQUARE_FT\")\n",
    "plt.xlabel(\"SQUARE_FT\")\n",
    "plt.ylabel(\"Frequency\")"
   ]
  },
  {
   "cell_type": "code",
   "execution_count": 33,
   "metadata": {
    "scrolled": true
   },
   "outputs": [
    {
     "data": {
      "text/plain": [
       "Text(0.5, 1.0, 'Count of houses based on BHK')"
      ]
     },
     "execution_count": 33,
     "metadata": {},
     "output_type": "execute_result"
    },
    {
     "data": {
      "image/png": "[encoded data removed]",
      "text/plain": [
       "<Figure size 1440x1440 with 1 Axes>"
      ]
     },
     "metadata": {
      "needs_background": "light"
     },
     "output_type": "display_data"
    }
   ],
   "source": [
    "plt.figure(figsize=(20,20))\n",
    "sns.countplot(y=df[\"BHK_NO.\"])\n",
    "plt.title(\"Count of houses based on BHK\")"
   ]
  },
  {
   "cell_type": "code",
   "execution_count": 34,
   "metadata": {},
   "outputs": [
    {
     "data": {
      "text/plain": [
       "Text(0, 0.5, 'count')"
      ]
     },
     "execution_count": 34,
     "metadata": {},
     "output_type": "execute_result"
    },
    {
     "data": {
      "image/png": "[encoded data removed]",
      "text/plain": [
       "<Figure size 432x288 with 1 Axes>"
      ]
     },
     "metadata": {
      "needs_background": "light"
     },
     "output_type": "display_data"
    }
   ],
   "source": [
    "df[\"BHK_NO.\"].value_counts().plot(kind='bar')\n",
    "plt.title('number of bedroom')\n",
    "plt.xlabel('bedrooms')\n",
    "plt.ylabel('count')"
   ]
  },
  {
   "cell_type": "code",
   "execution_count": 35,
   "metadata": {},
   "outputs": [
    {
     "data": {
      "text/plain": [
       "Text(0.5, 1.0, 'Count of Houses based on Construction Status')"
      ]
     },
     "execution_count": 35,
     "metadata": {},
     "output_type": "execute_result"
    },
    {
     "data": {
      "image/png": "[encoded data removed]",
      "text/plain": [
       "<Figure size 1080x216 with 1 Axes>"
      ]
     },
     "metadata": {
      "needs_background": "light"
     },
     "output_type": "display_data"
    }
   ],
   "source": [
    "plt.figure(figsize=(15,3))\n",
    "plot=sns.countplot(y=df[\"UNDER_CONSTRUCTION\"])\n",
    "label=[\"NO\",\"YES\"]\n",
    "plot.set_yticklabels(label)\n",
    "plt.title(\"Count of Houses based on Construction Status\")"
   ]
  },
  {
   "cell_type": "code",
   "execution_count": 36,
   "metadata": {},
   "outputs": [
    {
     "data": {
      "text/plain": [
       "Text(0.5, 1.0, 'Count of houses based on Posted By')"
      ]
     },
     "execution_count": 36,
     "metadata": {},
     "output_type": "execute_result"
    },
    {
     "data": {
      "image/png": "[encoded data removed]",
      "text/plain": [
       "<Figure size 1080x216 with 1 Axes>"
      ]
     },
     "metadata": {
      "needs_background": "light"
     },
     "output_type": "display_data"
    }
   ],
   "source": [
    "plt.figure(figsize=(15,3))\n",
    "sns.countplot(y=df[\"POSTED_BY\"])\n",
    "plt.title(\"Count of houses based on Posted By\")"
   ]
  },
  {
   "cell_type": "code",
   "execution_count": 37,
   "metadata": {},
   "outputs": [
    {
     "data": {
      "text/plain": [
       "Text(0.5, 1.0, 'Count of houses based on City tier')"
      ]
     },
     "execution_count": 37,
     "metadata": {},
     "output_type": "execute_result"
    },
    {
     "data": {
      "image/png": "[encoded data removed]",
      "text/plain": [
       "<Figure size 432x288 with 1 Axes>"
      ]
     },
     "metadata": {
      "needs_background": "light"
     },
     "output_type": "display_data"
    }
   ],
   "source": [
    "tier1=df[\"tier1\"].sum()\n",
    "tier2=df[\"tier2\"].sum()\n",
    "tier3=df[\"tier3\"].sum()\n",
    "temp=[tier1,tier2,tier3]\n",
    "temp1=[\"tier1\",\"tier2\",\"tier3\"]\n",
    "sns.barplot(y=temp1,x=temp)\n",
    "plt.ylabel(\"City Tier\")\n",
    "plt.xlabel(\"Count\")\n",
    "plt.title(\"Count of houses based on City tier\")"
   ]
  },
  {
   "cell_type": "code",
   "execution_count": 38,
   "metadata": {},
   "outputs": [
    {
     "data": {
      "text/plain": [
       "[Text(0, 0, 'NO'), Text(0, 1, 'YES')]"
      ]
     },
     "execution_count": 38,
     "metadata": {},
     "output_type": "execute_result"
    },
    {
     "data": {
      "image/png": "[encoded data removed]",
      "text/plain": [
       "<Figure size 1080x216 with 1 Axes>"
      ]
     },
     "metadata": {
      "needs_background": "light"
     },
     "output_type": "display_data"
    }
   ],
   "source": [
    "plt.figure(figsize=(15,3))\n",
    "plot=sns.countplot(y=df[\"READY_TO_MOVE\"])\n",
    "plot.set_yticklabels(label) # change values for y axis form 0,1 to string"
   ]
  },
  {
   "cell_type": "code",
   "execution_count": 39,
   "metadata": {},
   "outputs": [
    {
     "data": {
      "text/plain": [
       "Text(0.5, 1.0, 'Count of houses based on Resale status')"
      ]
     },
     "execution_count": 39,
     "metadata": {},
     "output_type": "execute_result"
    },
    {
     "data": {
      "image/png": "[encoded data removed]",
      "text/plain": [
       "<Figure size 1080x216 with 1 Axes>"
      ]
     },
     "metadata": {
      "needs_background": "light"
     },
     "output_type": "display_data"
    }
   ],
   "source": [
    "plt.figure(figsize=(15,3))\n",
    "plot1=sns.countplot(y=df[\"RESALE\"])\n",
    "label=[\"NO\",\"YES\"]\n",
    "plot1.set_yticklabels(label)\n",
    "plt.title(\"Count of houses based on Resale status\")"
   ]
  },
  {
   "cell_type": "code",
   "execution_count": 40,
   "metadata": {},
   "outputs": [
    {
     "data": {
      "text/html": [
       "<div>\n",
       "<style scoped>\n",
       "    .dataframe tbody tr th:only-of-type {\n",
       "        vertical-align: middle;\n",
       "    }\n",
       "\n",
       "    .dataframe tbody tr th {\n",
       "        vertical-align: top;\n",
       "    }\n",
       "\n",
       "    .dataframe thead th {\n",
       "        text-align: right;\n",
       "    }\n",
       "</style>\n",
       "<table border=\"1\" class=\"dataframe\">\n",
       "  <thead>\n",
       "    <tr style=\"text-align: right;\">\n",
       "      <th></th>\n",
       "      <th>POSTED_BY</th>\n",
       "      <th>UNDER_CONSTRUCTION</th>\n",
       "      <th>RERA</th>\n",
       "      <th>BHK_NO.</th>\n",
       "      <th>BHK_OR_RK</th>\n",
       "      <th>SQUARE_FT</th>\n",
       "      <th>READY_TO_MOVE</th>\n",
       "      <th>RESALE</th>\n",
       "      <th>LONGITUDE</th>\n",
       "      <th>LATITUDE</th>\n",
       "      <th>TARGET(PRICE_IN_LACS)</th>\n",
       "      <th>tier1</th>\n",
       "      <th>tier2</th>\n",
       "      <th>tier3</th>\n",
       "    </tr>\n",
       "  </thead>\n",
       "  <tbody>\n",
       "    <tr>\n",
       "      <th>0</th>\n",
       "      <td>Owner</td>\n",
       "      <td>0</td>\n",
       "      <td>0</td>\n",
       "      <td>2</td>\n",
       "      <td>BHK</td>\n",
       "      <td>1300.236407</td>\n",
       "      <td>1</td>\n",
       "      <td>1</td>\n",
       "      <td>12.969910</td>\n",
       "      <td>77.597960</td>\n",
       "      <td>55.0</td>\n",
       "      <td>1</td>\n",
       "      <td>0</td>\n",
       "      <td>0</td>\n",
       "    </tr>\n",
       "    <tr>\n",
       "      <th>2</th>\n",
       "      <td>Owner</td>\n",
       "      <td>0</td>\n",
       "      <td>0</td>\n",
       "      <td>2</td>\n",
       "      <td>BHK</td>\n",
       "      <td>933.159722</td>\n",
       "      <td>1</td>\n",
       "      <td>1</td>\n",
       "      <td>12.778033</td>\n",
       "      <td>77.632191</td>\n",
       "      <td>43.0</td>\n",
       "      <td>1</td>\n",
       "      <td>0</td>\n",
       "      <td>0</td>\n",
       "    </tr>\n",
       "    <tr>\n",
       "      <th>9</th>\n",
       "      <td>Owner</td>\n",
       "      <td>0</td>\n",
       "      <td>1</td>\n",
       "      <td>2</td>\n",
       "      <td>BHK</td>\n",
       "      <td>879.120879</td>\n",
       "      <td>1</td>\n",
       "      <td>1</td>\n",
       "      <td>12.951610</td>\n",
       "      <td>80.140970</td>\n",
       "      <td>36.0</td>\n",
       "      <td>1</td>\n",
       "      <td>0</td>\n",
       "      <td>0</td>\n",
       "    </tr>\n",
       "  </tbody>\n",
       "</table>\n",
       "</div>"
      ],
      "text/plain": [
       "  POSTED_BY  UNDER_CONSTRUCTION  RERA  BHK_NO. BHK_OR_RK    SQUARE_FT  \\\n",
       "0     Owner                   0     0        2       BHK  1300.236407   \n",
       "2     Owner                   0     0        2       BHK   933.159722   \n",
       "9     Owner                   0     1        2       BHK   879.120879   \n",
       "\n",
       "   READY_TO_MOVE  RESALE  LONGITUDE   LATITUDE  TARGET(PRICE_IN_LACS)  tier1  \\\n",
       "0              1       1  12.969910  77.597960                   55.0      1   \n",
       "2              1       1  12.778033  77.632191                   43.0      1   \n",
       "9              1       1  12.951610  80.140970                   36.0      1   \n",
       "\n",
       "   tier2  tier3  \n",
       "0      0      0  \n",
       "2      0      0  \n",
       "9      0      0  "
      ]
     },
     "execution_count": 40,
     "metadata": {},
     "output_type": "execute_result"
    }
   ],
   "source": [
    "df[(df[\"tier1\"]==1) & (df[\"POSTED_BY\"]==\"Owner\")].head(3)"
   ]
  },
  {
   "cell_type": "code",
   "execution_count": 41,
   "metadata": {},
   "outputs": [
    {
     "data": {
      "text/plain": [
       "Text(0.5, 1.0, 'Histogram for prices of Tier 1 cities')"
      ]
     },
     "execution_count": 41,
     "metadata": {},
     "output_type": "execute_result"
    },
    {
     "data": {
      "image/png": "[encoded data removed]",
      "text/plain": [
       "<Figure size 1080x720 with 1 Axes>"
      ]
     },
     "metadata": {
      "needs_background": "light"
     },
     "output_type": "display_data"
    }
   ],
   "source": [
    "plt.figure(figsize=(15,10))\n",
    "sns.histplot(df[\"TARGET(PRICE_IN_LACS)\"][df[\"tier3\"]==1],bins=50)\n",
    "plt.title(\"Histogram for prices of Tier 1 cities\")"
   ]
  },
  {
   "cell_type": "code",
   "execution_count": 42,
   "metadata": {},
   "outputs": [
    {
     "data": {
      "text/plain": [
       "Text(0.5, 1.0, 'Histogram for prices of Tier 2 cities')"
      ]
     },
     "execution_count": 42,
     "metadata": {},
     "output_type": "execute_result"
    },
    {
     "data": {
      "image/png": "[encoded data removed]",
      "text/plain": [
       "<Figure size 360x360 with 1 Axes>"
      ]
     },
     "metadata": {
      "needs_background": "light"
     },
     "output_type": "display_data"
    }
   ],
   "source": [
    "plt.figure(figsize=(5,5))\n",
    "sns.histplot(df[\"TARGET(PRICE_IN_LACS)\"][df[\"tier2\"]==1],bins=100)\n",
    "plt.title(\"Histogram for prices of Tier 2 cities\")"
   ]
  },
  {
   "cell_type": "code",
   "execution_count": 43,
   "metadata": {},
   "outputs": [
    {
     "data": {
      "text/plain": [
       "Text(0.5, 1.0, 'Histogram for prices of Tier 3 cities')"
      ]
     },
     "execution_count": 43,
     "metadata": {},
     "output_type": "execute_result"
    },
    {
     "data": {
      "image/png": "[encoded data removed]",
      "text/plain": [
       "<Figure size 1080x360 with 1 Axes>"
      ]
     },
     "metadata": {
      "needs_background": "light"
     },
     "output_type": "display_data"
    }
   ],
   "source": [
    "plt.figure(figsize=(15,5))\n",
    "sns.histplot(df[\"TARGET(PRICE_IN_LACS)\"][df[\"tier3\"]==1],bins=50)\n",
    "plt.title(\"Histogram for prices of Tier 3 cities\")"
   ]
  },
  {
   "cell_type": "code",
   "execution_count": 44,
   "metadata": {},
   "outputs": [
    {
     "data": {
      "text/plain": [
       "Text(0.5, 1.0, 'Count of houses based on RERA approved status')"
      ]
     },
     "execution_count": 44,
     "metadata": {},
     "output_type": "execute_result"
    },
    {
     "data": {
      "image/png": "[encoded data removed]",
      "text/plain": [
       "<Figure size 432x288 with 1 Axes>"
      ]
     },
     "metadata": {
      "needs_background": "light"
     },
     "output_type": "display_data"
    }
   ],
   "source": [
    "plot1=sns.countplot(y=df[\"RERA\"])\n",
    "plt.ylabel(\"RERA Approved\")\n",
    "plot1.set_yticklabels(label)\n",
    "plt.title(\"Count of houses based on RERA approved status\")"
   ]
  },
  {
   "cell_type": "code",
   "execution_count": 45,
   "metadata": {},
   "outputs": [
    {
     "data": {
      "text/plain": [
       "Text(0.5, 1.0, 'KDE plot of Target price')"
      ]
     },
     "execution_count": 45,
     "metadata": {},
     "output_type": "execute_result"
    },
    {
     "data": {
      "text/plain": [
       "<Figure size 1080x1080 with 0 Axes>"
      ]
     },
     "metadata": {},
     "output_type": "display_data"
    },
    {
     "data": {
      "image/png": "[encoded data removed]",
      "text/plain": [
       "<Figure size 360x360 with 1 Axes>"
      ]
     },
     "metadata": {
      "needs_background": "light"
     },
     "output_type": "display_data"
    }
   ],
   "source": [
    "plt.figure(figsize=(15,15))\n",
    "sns.displot(df[\"TARGET(PRICE_IN_LACS)\"],kind=\"kde\")\n",
    "plt.title(\"KDE plot of Target price\")"
   ]
  },
  {
   "cell_type": "code",
   "execution_count": 46,
   "metadata": {},
   "outputs": [],
   "source": [
    "import warnings\n",
    "warnings.filterwarnings(\"ignore\")"
   ]
  },
  {
   "cell_type": "code",
   "execution_count": 47,
   "metadata": {},
   "outputs": [
    {
     "data": {
      "text/plain": [
       "<AxesSubplot:xlabel='TARGET(PRICE_IN_LACS)'>"
      ]
     },
     "execution_count": 47,
     "metadata": {},
     "output_type": "execute_result"
    },
    {
     "data": {
      "image/png": "[encoded data removed]",
      "text/plain": [
       "<Figure size 720x360 with 1 Axes>"
      ]
     },
     "metadata": {
      "needs_background": "light"
     },
     "output_type": "display_data"
    }
   ],
   "source": [
    "plt.figure(figsize=(10,5))\n",
    "sns.boxplot(df[\"TARGET(PRICE_IN_LACS)\"],)"
   ]
  },
  {
   "cell_type": "code",
   "execution_count": 48,
   "metadata": {},
   "outputs": [
    {
     "data": {
      "text/plain": [
       "<AxesSubplot:xlabel='TARGET(PRICE_IN_LACS)', ylabel='SQUARE_FT'>"
      ]
     },
     "execution_count": 48,
     "metadata": {},
     "output_type": "execute_result"
    },
    {
     "data": {
      "image/png": "[encoded data removed]",
      "text/plain": [
       "<Figure size 720x360 with 1 Axes>"
      ]
     },
     "metadata": {
      "needs_background": "light"
     },
     "output_type": "display_data"
    }
   ],
   "source": [
    "plt.figure(figsize=(10,5))\n",
    "sns.scatterplot(x=\"TARGET(PRICE_IN_LACS)\",y=\"SQUARE_FT\",data=df)"
   ]
  },
  {
   "cell_type": "markdown",
   "metadata": {},
   "source": [
    "# Clean Data"
   ]
  },
  {
   "cell_type": "code",
   "execution_count": 49,
   "metadata": {},
   "outputs": [
    {
     "data": {
      "text/html": [
       "<div>\n",
       "<style scoped>\n",
       "    .dataframe tbody tr th:only-of-type {\n",
       "        vertical-align: middle;\n",
       "    }\n",
       "\n",
       "    .dataframe tbody tr th {\n",
       "        vertical-align: top;\n",
       "    }\n",
       "\n",
       "    .dataframe thead th {\n",
       "        text-align: right;\n",
       "    }\n",
       "</style>\n",
       "<table border=\"1\" class=\"dataframe\">\n",
       "  <thead>\n",
       "    <tr style=\"text-align: right;\">\n",
       "      <th></th>\n",
       "      <th>POSTED_BY</th>\n",
       "      <th>UNDER_CONSTRUCTION</th>\n",
       "      <th>RERA</th>\n",
       "      <th>BHK_NO.</th>\n",
       "      <th>BHK_OR_RK</th>\n",
       "      <th>SQUARE_FT</th>\n",
       "      <th>READY_TO_MOVE</th>\n",
       "      <th>RESALE</th>\n",
       "      <th>LONGITUDE</th>\n",
       "      <th>LATITUDE</th>\n",
       "      <th>TARGET(PRICE_IN_LACS)</th>\n",
       "      <th>tier1</th>\n",
       "      <th>tier2</th>\n",
       "      <th>tier3</th>\n",
       "    </tr>\n",
       "  </thead>\n",
       "  <tbody>\n",
       "    <tr>\n",
       "      <th>0</th>\n",
       "      <td>Owner</td>\n",
       "      <td>0</td>\n",
       "      <td>0</td>\n",
       "      <td>2</td>\n",
       "      <td>BHK</td>\n",
       "      <td>1300.236407</td>\n",
       "      <td>1</td>\n",
       "      <td>1</td>\n",
       "      <td>12.969910</td>\n",
       "      <td>77.597960</td>\n",
       "      <td>55.0</td>\n",
       "      <td>1</td>\n",
       "      <td>0</td>\n",
       "      <td>0</td>\n",
       "    </tr>\n",
       "    <tr>\n",
       "      <th>1</th>\n",
       "      <td>Dealer</td>\n",
       "      <td>0</td>\n",
       "      <td>0</td>\n",
       "      <td>2</td>\n",
       "      <td>BHK</td>\n",
       "      <td>1275.000000</td>\n",
       "      <td>1</td>\n",
       "      <td>1</td>\n",
       "      <td>12.274538</td>\n",
       "      <td>76.644605</td>\n",
       "      <td>51.0</td>\n",
       "      <td>0</td>\n",
       "      <td>1</td>\n",
       "      <td>0</td>\n",
       "    </tr>\n",
       "    <tr>\n",
       "      <th>2</th>\n",
       "      <td>Owner</td>\n",
       "      <td>0</td>\n",
       "      <td>0</td>\n",
       "      <td>2</td>\n",
       "      <td>BHK</td>\n",
       "      <td>933.159722</td>\n",
       "      <td>1</td>\n",
       "      <td>1</td>\n",
       "      <td>12.778033</td>\n",
       "      <td>77.632191</td>\n",
       "      <td>43.0</td>\n",
       "      <td>1</td>\n",
       "      <td>0</td>\n",
       "      <td>0</td>\n",
       "    </tr>\n",
       "    <tr>\n",
       "      <th>3</th>\n",
       "      <td>Owner</td>\n",
       "      <td>0</td>\n",
       "      <td>1</td>\n",
       "      <td>2</td>\n",
       "      <td>BHK</td>\n",
       "      <td>929.921143</td>\n",
       "      <td>1</td>\n",
       "      <td>1</td>\n",
       "      <td>28.642300</td>\n",
       "      <td>77.344500</td>\n",
       "      <td>62.5</td>\n",
       "      <td>0</td>\n",
       "      <td>1</td>\n",
       "      <td>0</td>\n",
       "    </tr>\n",
       "    <tr>\n",
       "      <th>4</th>\n",
       "      <td>Dealer</td>\n",
       "      <td>1</td>\n",
       "      <td>0</td>\n",
       "      <td>2</td>\n",
       "      <td>BHK</td>\n",
       "      <td>999.009247</td>\n",
       "      <td>0</td>\n",
       "      <td>1</td>\n",
       "      <td>22.592200</td>\n",
       "      <td>88.484911</td>\n",
       "      <td>60.5</td>\n",
       "      <td>1</td>\n",
       "      <td>0</td>\n",
       "      <td>0</td>\n",
       "    </tr>\n",
       "    <tr>\n",
       "      <th>...</th>\n",
       "      <td>...</td>\n",
       "      <td>...</td>\n",
       "      <td>...</td>\n",
       "      <td>...</td>\n",
       "      <td>...</td>\n",
       "      <td>...</td>\n",
       "      <td>...</td>\n",
       "      <td>...</td>\n",
       "      <td>...</td>\n",
       "      <td>...</td>\n",
       "      <td>...</td>\n",
       "      <td>...</td>\n",
       "      <td>...</td>\n",
       "      <td>...</td>\n",
       "    </tr>\n",
       "    <tr>\n",
       "      <th>29446</th>\n",
       "      <td>Owner</td>\n",
       "      <td>0</td>\n",
       "      <td>0</td>\n",
       "      <td>3</td>\n",
       "      <td>BHK</td>\n",
       "      <td>2500.000000</td>\n",
       "      <td>1</td>\n",
       "      <td>1</td>\n",
       "      <td>27.140626</td>\n",
       "      <td>78.043277</td>\n",
       "      <td>45.0</td>\n",
       "      <td>0</td>\n",
       "      <td>1</td>\n",
       "      <td>0</td>\n",
       "    </tr>\n",
       "    <tr>\n",
       "      <th>29447</th>\n",
       "      <td>Owner</td>\n",
       "      <td>0</td>\n",
       "      <td>0</td>\n",
       "      <td>2</td>\n",
       "      <td>BHK</td>\n",
       "      <td>769.230769</td>\n",
       "      <td>1</td>\n",
       "      <td>1</td>\n",
       "      <td>39.945409</td>\n",
       "      <td>-86.150721</td>\n",
       "      <td>16.0</td>\n",
       "      <td>0</td>\n",
       "      <td>0</td>\n",
       "      <td>1</td>\n",
       "    </tr>\n",
       "    <tr>\n",
       "      <th>29448</th>\n",
       "      <td>Dealer</td>\n",
       "      <td>0</td>\n",
       "      <td>0</td>\n",
       "      <td>2</td>\n",
       "      <td>BHK</td>\n",
       "      <td>1022.641509</td>\n",
       "      <td>1</td>\n",
       "      <td>1</td>\n",
       "      <td>26.928785</td>\n",
       "      <td>75.828002</td>\n",
       "      <td>27.1</td>\n",
       "      <td>0</td>\n",
       "      <td>1</td>\n",
       "      <td>0</td>\n",
       "    </tr>\n",
       "    <tr>\n",
       "      <th>29449</th>\n",
       "      <td>Owner</td>\n",
       "      <td>0</td>\n",
       "      <td>0</td>\n",
       "      <td>2</td>\n",
       "      <td>BHK</td>\n",
       "      <td>927.079009</td>\n",
       "      <td>1</td>\n",
       "      <td>1</td>\n",
       "      <td>12.900150</td>\n",
       "      <td>80.227910</td>\n",
       "      <td>67.0</td>\n",
       "      <td>1</td>\n",
       "      <td>0</td>\n",
       "      <td>0</td>\n",
       "    </tr>\n",
       "    <tr>\n",
       "      <th>29450</th>\n",
       "      <td>Dealer</td>\n",
       "      <td>0</td>\n",
       "      <td>1</td>\n",
       "      <td>2</td>\n",
       "      <td>BHK</td>\n",
       "      <td>896.774194</td>\n",
       "      <td>1</td>\n",
       "      <td>1</td>\n",
       "      <td>26.832353</td>\n",
       "      <td>75.841749</td>\n",
       "      <td>27.8</td>\n",
       "      <td>0</td>\n",
       "      <td>1</td>\n",
       "      <td>0</td>\n",
       "    </tr>\n",
       "  </tbody>\n",
       "</table>\n",
       "<p>29443 rows × 14 columns</p>\n",
       "</div>"
      ],
      "text/plain": [
       "      POSTED_BY  UNDER_CONSTRUCTION  RERA  BHK_NO. BHK_OR_RK    SQUARE_FT  \\\n",
       "0         Owner                   0     0        2       BHK  1300.236407   \n",
       "1        Dealer                   0     0        2       BHK  1275.000000   \n",
       "2         Owner                   0     0        2       BHK   933.159722   \n",
       "3         Owner                   0     1        2       BHK   929.921143   \n",
       "4        Dealer                   1     0        2       BHK   999.009247   \n",
       "...         ...                 ...   ...      ...       ...          ...   \n",
       "29446     Owner                   0     0        3       BHK  2500.000000   \n",
       "29447     Owner                   0     0        2       BHK   769.230769   \n",
       "29448    Dealer                   0     0        2       BHK  1022.641509   \n",
       "29449     Owner                   0     0        2       BHK   927.079009   \n",
       "29450    Dealer                   0     1        2       BHK   896.774194   \n",
       "\n",
       "       READY_TO_MOVE  RESALE  LONGITUDE   LATITUDE  TARGET(PRICE_IN_LACS)  \\\n",
       "0                  1       1  12.969910  77.597960                   55.0   \n",
       "1                  1       1  12.274538  76.644605                   51.0   \n",
       "2                  1       1  12.778033  77.632191                   43.0   \n",
       "3                  1       1  28.642300  77.344500                   62.5   \n",
       "4                  0       1  22.592200  88.484911                   60.5   \n",
       "...              ...     ...        ...        ...                    ...   \n",
       "29446              1       1  27.140626  78.043277                   45.0   \n",
       "29447              1       1  39.945409 -86.150721                   16.0   \n",
       "29448              1       1  26.928785  75.828002                   27.1   \n",
       "29449              1       1  12.900150  80.227910                   67.0   \n",
       "29450              1       1  26.832353  75.841749                   27.8   \n",
       "\n",
       "       tier1  tier2  tier3  \n",
       "0          1      0      0  \n",
       "1          0      1      0  \n",
       "2          1      0      0  \n",
       "3          0      1      0  \n",
       "4          1      0      0  \n",
       "...      ...    ...    ...  \n",
       "29446      0      1      0  \n",
       "29447      0      0      1  \n",
       "29448      0      1      0  \n",
       "29449      1      0      0  \n",
       "29450      0      1      0  \n",
       "\n",
       "[29443 rows x 14 columns]"
      ]
     },
     "execution_count": 49,
     "metadata": {},
     "output_type": "execute_result"
    }
   ],
   "source": [
    "d_f=df[(df[\"TARGET(PRICE_IN_LACS)\"]<10000) & (df[\"SQUARE_FT\"]<300000)]\n",
    "d_f"
   ]
  },
  {
   "cell_type": "code",
   "execution_count": 50,
   "metadata": {},
   "outputs": [
    {
     "data": {
      "text/plain": [
       "<AxesSubplot:xlabel='SQUARE_FT', ylabel='TARGET(PRICE_IN_LACS)'>"
      ]
     },
     "execution_count": 50,
     "metadata": {},
     "output_type": "execute_result"
    },
    {
     "data": {
      "image/png": "[encoded data removed]",
      "text/plain": [
       "<Figure size 432x288 with 1 Axes>"
      ]
     },
     "metadata": {
      "needs_background": "light"
     },
     "output_type": "display_data"
    }
   ],
   "source": [
    "sns.scatterplot(y=\"TARGET(PRICE_IN_LACS)\",x=\"SQUARE_FT\",data=d_f)"
   ]
  },
  {
   "cell_type": "markdown",
   "metadata": {},
   "source": [
    "# Part 3 Fitting LR and Improving it\n"
   ]
  },
  {
   "cell_type": "code",
   "execution_count": 51,
   "metadata": {},
   "outputs": [
    {
     "name": "stdout",
     "output_type": "stream",
     "text": [
      "<class 'pandas.core.frame.DataFrame'>\n",
      "RangeIndex: 29451 entries, 0 to 29450\n",
      "Data columns (total 14 columns):\n",
      " #   Column                 Non-Null Count  Dtype  \n",
      "---  ------                 --------------  -----  \n",
      " 0   POSTED_BY              29451 non-null  object \n",
      " 1   UNDER_CONSTRUCTION     29451 non-null  int64  \n",
      " 2   RERA                   29451 non-null  int64  \n",
      " 3   BHK_NO.                29451 non-null  int64  \n",
      " 4   BHK_OR_RK              29451 non-null  object \n",
      " 5   SQUARE_FT              29451 non-null  float64\n",
      " 6   READY_TO_MOVE          29451 non-null  int64  \n",
      " 7   RESALE                 29451 non-null  int64  \n",
      " 8   LONGITUDE              29451 non-null  float64\n",
      " 9   LATITUDE               29451 non-null  float64\n",
      " 10  TARGET(PRICE_IN_LACS)  29451 non-null  float64\n",
      " 11  tier1                  29451 non-null  int64  \n",
      " 12  tier2                  29451 non-null  int64  \n",
      " 13  tier3                  29451 non-null  int64  \n",
      "dtypes: float64(4), int64(8), object(2)\n",
      "memory usage: 3.1+ MB\n"
     ]
    }
   ],
   "source": [
    "df.info()"
   ]
  },
  {
   "cell_type": "markdown",
   "metadata": {},
   "source": [
    "#calculate correlation coefficient between the features"
   ]
  },
  {
   "cell_type": "code",
   "execution_count": 52,
   "metadata": {},
   "outputs": [
    {
     "data": {
      "text/html": [
       "<div>\n",
       "<style scoped>\n",
       "    .dataframe tbody tr th:only-of-type {\n",
       "        vertical-align: middle;\n",
       "    }\n",
       "\n",
       "    .dataframe tbody tr th {\n",
       "        vertical-align: top;\n",
       "    }\n",
       "\n",
       "    .dataframe thead th {\n",
       "        text-align: right;\n",
       "    }\n",
       "</style>\n",
       "<table border=\"1\" class=\"dataframe\">\n",
       "  <thead>\n",
       "    <tr style=\"text-align: right;\">\n",
       "      <th></th>\n",
       "      <th>UNDER_CONSTRUCTION</th>\n",
       "      <th>RERA</th>\n",
       "      <th>BHK_NO.</th>\n",
       "      <th>SQUARE_FT</th>\n",
       "      <th>READY_TO_MOVE</th>\n",
       "      <th>RESALE</th>\n",
       "      <th>LONGITUDE</th>\n",
       "      <th>LATITUDE</th>\n",
       "      <th>TARGET(PRICE_IN_LACS)</th>\n",
       "      <th>tier1</th>\n",
       "      <th>tier2</th>\n",
       "      <th>tier3</th>\n",
       "    </tr>\n",
       "  </thead>\n",
       "  <tbody>\n",
       "    <tr>\n",
       "      <th>UNDER_CONSTRUCTION</th>\n",
       "      <td>1.000000</td>\n",
       "      <td>0.363773</td>\n",
       "      <td>-0.040685</td>\n",
       "      <td>0.052286</td>\n",
       "      <td>-1.000000</td>\n",
       "      <td>-0.347383</td>\n",
       "      <td>0.006377</td>\n",
       "      <td>-0.000387</td>\n",
       "      <td>0.063369</td>\n",
       "      <td>-0.014057</td>\n",
       "      <td>-0.049128</td>\n",
       "      <td>0.070469</td>\n",
       "    </tr>\n",
       "    <tr>\n",
       "      <th>RERA</th>\n",
       "      <td>0.363773</td>\n",
       "      <td>1.000000</td>\n",
       "      <td>0.009598</td>\n",
       "      <td>0.053039</td>\n",
       "      <td>-0.363773</td>\n",
       "      <td>-0.270320</td>\n",
       "      <td>0.104919</td>\n",
       "      <td>-0.065119</td>\n",
       "      <td>0.077890</td>\n",
       "      <td>-0.066106</td>\n",
       "      <td>0.000634</td>\n",
       "      <td>0.073580</td>\n",
       "    </tr>\n",
       "    <tr>\n",
       "      <th>BHK_NO.</th>\n",
       "      <td>-0.040685</td>\n",
       "      <td>0.009598</td>\n",
       "      <td>1.000000</td>\n",
       "      <td>0.100525</td>\n",
       "      <td>0.040685</td>\n",
       "      <td>0.014563</td>\n",
       "      <td>0.068944</td>\n",
       "      <td>0.046914</td>\n",
       "      <td>0.122359</td>\n",
       "      <td>-0.002901</td>\n",
       "      <td>0.119867</td>\n",
       "      <td>-0.130134</td>\n",
       "    </tr>\n",
       "    <tr>\n",
       "      <th>SQUARE_FT</th>\n",
       "      <td>0.052286</td>\n",
       "      <td>0.053039</td>\n",
       "      <td>0.100525</td>\n",
       "      <td>1.000000</td>\n",
       "      <td>-0.052286</td>\n",
       "      <td>-0.204726</td>\n",
       "      <td>0.002542</td>\n",
       "      <td>0.003929</td>\n",
       "      <td>0.836589</td>\n",
       "      <td>0.004154</td>\n",
       "      <td>0.003009</td>\n",
       "      <td>-0.008016</td>\n",
       "    </tr>\n",
       "    <tr>\n",
       "      <th>READY_TO_MOVE</th>\n",
       "      <td>-1.000000</td>\n",
       "      <td>-0.363773</td>\n",
       "      <td>0.040685</td>\n",
       "      <td>-0.052286</td>\n",
       "      <td>1.000000</td>\n",
       "      <td>0.347383</td>\n",
       "      <td>-0.006377</td>\n",
       "      <td>0.000387</td>\n",
       "      <td>-0.063369</td>\n",
       "      <td>0.014057</td>\n",
       "      <td>0.049128</td>\n",
       "      <td>-0.070469</td>\n",
       "    </tr>\n",
       "    <tr>\n",
       "      <th>RESALE</th>\n",
       "      <td>-0.347383</td>\n",
       "      <td>-0.270320</td>\n",
       "      <td>0.014563</td>\n",
       "      <td>-0.204726</td>\n",
       "      <td>0.347383</td>\n",
       "      <td>1.000000</td>\n",
       "      <td>0.024083</td>\n",
       "      <td>0.014848</td>\n",
       "      <td>-0.230284</td>\n",
       "      <td>0.018274</td>\n",
       "      <td>0.040249</td>\n",
       "      <td>-0.065327</td>\n",
       "    </tr>\n",
       "    <tr>\n",
       "      <th>LONGITUDE</th>\n",
       "      <td>0.006377</td>\n",
       "      <td>0.104919</td>\n",
       "      <td>0.068944</td>\n",
       "      <td>0.002542</td>\n",
       "      <td>-0.006377</td>\n",
       "      <td>0.024083</td>\n",
       "      <td>1.000000</td>\n",
       "      <td>-0.155066</td>\n",
       "      <td>-0.028020</td>\n",
       "      <td>-0.529236</td>\n",
       "      <td>0.471176</td>\n",
       "      <td>0.070374</td>\n",
       "    </tr>\n",
       "    <tr>\n",
       "      <th>LATITUDE</th>\n",
       "      <td>-0.000387</td>\n",
       "      <td>-0.065119</td>\n",
       "      <td>0.046914</td>\n",
       "      <td>0.003929</td>\n",
       "      <td>0.000387</td>\n",
       "      <td>0.014848</td>\n",
       "      <td>-0.155066</td>\n",
       "      <td>1.000000</td>\n",
       "      <td>-0.019410</td>\n",
       "      <td>0.066534</td>\n",
       "      <td>0.014290</td>\n",
       "      <td>-0.090669</td>\n",
       "    </tr>\n",
       "    <tr>\n",
       "      <th>TARGET(PRICE_IN_LACS)</th>\n",
       "      <td>0.063369</td>\n",
       "      <td>0.077890</td>\n",
       "      <td>0.122359</td>\n",
       "      <td>0.836589</td>\n",
       "      <td>-0.063369</td>\n",
       "      <td>-0.230284</td>\n",
       "      <td>-0.028020</td>\n",
       "      <td>-0.019410</td>\n",
       "      <td>1.000000</td>\n",
       "      <td>0.022215</td>\n",
       "      <td>-0.068313</td>\n",
       "      <td>0.051059</td>\n",
       "    </tr>\n",
       "    <tr>\n",
       "      <th>tier1</th>\n",
       "      <td>-0.014057</td>\n",
       "      <td>-0.066106</td>\n",
       "      <td>-0.002901</td>\n",
       "      <td>0.004154</td>\n",
       "      <td>0.014057</td>\n",
       "      <td>0.018274</td>\n",
       "      <td>-0.529236</td>\n",
       "      <td>0.066534</td>\n",
       "      <td>0.022215</td>\n",
       "      <td>1.000000</td>\n",
       "      <td>-0.600223</td>\n",
       "      <td>-0.455780</td>\n",
       "    </tr>\n",
       "    <tr>\n",
       "      <th>tier2</th>\n",
       "      <td>-0.049128</td>\n",
       "      <td>0.000634</td>\n",
       "      <td>0.119867</td>\n",
       "      <td>0.003009</td>\n",
       "      <td>0.049128</td>\n",
       "      <td>0.040249</td>\n",
       "      <td>0.471176</td>\n",
       "      <td>0.014290</td>\n",
       "      <td>-0.068313</td>\n",
       "      <td>-0.600223</td>\n",
       "      <td>1.000000</td>\n",
       "      <td>-0.438355</td>\n",
       "    </tr>\n",
       "    <tr>\n",
       "      <th>tier3</th>\n",
       "      <td>0.070469</td>\n",
       "      <td>0.073580</td>\n",
       "      <td>-0.130134</td>\n",
       "      <td>-0.008016</td>\n",
       "      <td>-0.070469</td>\n",
       "      <td>-0.065327</td>\n",
       "      <td>0.070374</td>\n",
       "      <td>-0.090669</td>\n",
       "      <td>0.051059</td>\n",
       "      <td>-0.455780</td>\n",
       "      <td>-0.438355</td>\n",
       "      <td>1.000000</td>\n",
       "    </tr>\n",
       "  </tbody>\n",
       "</table>\n",
       "</div>"
      ],
      "text/plain": [
       "                       UNDER_CONSTRUCTION      RERA   BHK_NO.  SQUARE_FT  \\\n",
       "UNDER_CONSTRUCTION               1.000000  0.363773 -0.040685   0.052286   \n",
       "RERA                             0.363773  1.000000  0.009598   0.053039   \n",
       "BHK_NO.                         -0.040685  0.009598  1.000000   0.100525   \n",
       "SQUARE_FT                        0.052286  0.053039  0.100525   1.000000   \n",
       "READY_TO_MOVE                   -1.000000 -0.363773  0.040685  -0.052286   \n",
       "RESALE                          -0.347383 -0.270320  0.014563  -0.204726   \n",
       "LONGITUDE                        0.006377  0.104919  0.068944   0.002542   \n",
       "LATITUDE                        -0.000387 -0.065119  0.046914   0.003929   \n",
       "TARGET(PRICE_IN_LACS)            0.063369  0.077890  0.122359   0.836589   \n",
       "tier1                           -0.014057 -0.066106 -0.002901   0.004154   \n",
       "tier2                           -0.049128  0.000634  0.119867   0.003009   \n",
       "tier3                            0.070469  0.073580 -0.130134  -0.008016   \n",
       "\n",
       "                       READY_TO_MOVE    RESALE  LONGITUDE  LATITUDE  \\\n",
       "UNDER_CONSTRUCTION         -1.000000 -0.347383   0.006377 -0.000387   \n",
       "RERA                       -0.363773 -0.270320   0.104919 -0.065119   \n",
       "BHK_NO.                     0.040685  0.014563   0.068944  0.046914   \n",
       "SQUARE_FT                  -0.052286 -0.204726   0.002542  0.003929   \n",
       "READY_TO_MOVE               1.000000  0.347383  -0.006377  0.000387   \n",
       "RESALE                      0.347383  1.000000   0.024083  0.014848   \n",
       "LONGITUDE                  -0.006377  0.024083   1.000000 -0.155066   \n",
       "LATITUDE                    0.000387  0.014848  -0.155066  1.000000   \n",
       "TARGET(PRICE_IN_LACS)      -0.063369 -0.230284  -0.028020 -0.019410   \n",
       "tier1                       0.014057  0.018274  -0.529236  0.066534   \n",
       "tier2                       0.049128  0.040249   0.471176  0.014290   \n",
       "tier3                      -0.070469 -0.065327   0.070374 -0.090669   \n",
       "\n",
       "                       TARGET(PRICE_IN_LACS)     tier1     tier2     tier3  \n",
       "UNDER_CONSTRUCTION                  0.063369 -0.014057 -0.049128  0.070469  \n",
       "RERA                                0.077890 -0.066106  0.000634  0.073580  \n",
       "BHK_NO.                             0.122359 -0.002901  0.119867 -0.130134  \n",
       "SQUARE_FT                           0.836589  0.004154  0.003009 -0.008016  \n",
       "READY_TO_MOVE                      -0.063369  0.014057  0.049128 -0.070469  \n",
       "RESALE                             -0.230284  0.018274  0.040249 -0.065327  \n",
       "LONGITUDE                          -0.028020 -0.529236  0.471176  0.070374  \n",
       "LATITUDE                           -0.019410  0.066534  0.014290 -0.090669  \n",
       "TARGET(PRICE_IN_LACS)               1.000000  0.022215 -0.068313  0.051059  \n",
       "tier1                               0.022215  1.000000 -0.600223 -0.455780  \n",
       "tier2                              -0.068313 -0.600223  1.000000 -0.438355  \n",
       "tier3                               0.051059 -0.455780 -0.438355  1.000000  "
      ]
     },
     "execution_count": 52,
     "metadata": {},
     "output_type": "execute_result"
    }
   ],
   "source": [
    "corrln=d_f.corr()\n",
    "corrln"
   ]
  },
  {
   "cell_type": "code",
   "execution_count": 53,
   "metadata": {},
   "outputs": [
    {
     "data": {
      "text/plain": [
       "<AxesSubplot:>"
      ]
     },
     "execution_count": 53,
     "metadata": {},
     "output_type": "execute_result"
    },
    {
     "data": {
      "image/png": "[encoded data removed]",
      "text/plain": [
       "<Figure size 1080x1080 with 2 Axes>"
      ]
     },
     "metadata": {
      "needs_background": "light"
     },
     "output_type": "display_data"
    }
   ],
   "source": [
    "plt.figure(figsize=(15,15))\n",
    "sns.heatmap(corrln,annot=True)"
   ]
  },
  {
   "cell_type": "code",
   "execution_count": 54,
   "metadata": {
    "scrolled": true
   },
   "outputs": [
    {
     "data": {
      "text/html": [
       "<div>\n",
       "<style scoped>\n",
       "    .dataframe tbody tr th:only-of-type {\n",
       "        vertical-align: middle;\n",
       "    }\n",
       "\n",
       "    .dataframe tbody tr th {\n",
       "        vertical-align: top;\n",
       "    }\n",
       "\n",
       "    .dataframe thead th {\n",
       "        text-align: right;\n",
       "    }\n",
       "</style>\n",
       "<table border=\"1\" class=\"dataframe\">\n",
       "  <thead>\n",
       "    <tr style=\"text-align: right;\">\n",
       "      <th></th>\n",
       "      <th>POSTED_BY</th>\n",
       "      <th>RERA</th>\n",
       "      <th>BHK_NO.</th>\n",
       "      <th>BHK_OR_RK</th>\n",
       "      <th>SQUARE_FT</th>\n",
       "      <th>READY_TO_MOVE</th>\n",
       "      <th>RESALE</th>\n",
       "      <th>LONGITUDE</th>\n",
       "      <th>LATITUDE</th>\n",
       "      <th>TARGET(PRICE_IN_LACS)</th>\n",
       "      <th>tier1</th>\n",
       "      <th>tier2</th>\n",
       "      <th>tier3</th>\n",
       "    </tr>\n",
       "  </thead>\n",
       "  <tbody>\n",
       "    <tr>\n",
       "      <th>0</th>\n",
       "      <td>Owner</td>\n",
       "      <td>0</td>\n",
       "      <td>2</td>\n",
       "      <td>BHK</td>\n",
       "      <td>1300.236407</td>\n",
       "      <td>1</td>\n",
       "      <td>1</td>\n",
       "      <td>12.969910</td>\n",
       "      <td>77.597960</td>\n",
       "      <td>55.0</td>\n",
       "      <td>1</td>\n",
       "      <td>0</td>\n",
       "      <td>0</td>\n",
       "    </tr>\n",
       "    <tr>\n",
       "      <th>1</th>\n",
       "      <td>Dealer</td>\n",
       "      <td>0</td>\n",
       "      <td>2</td>\n",
       "      <td>BHK</td>\n",
       "      <td>1275.000000</td>\n",
       "      <td>1</td>\n",
       "      <td>1</td>\n",
       "      <td>12.274538</td>\n",
       "      <td>76.644605</td>\n",
       "      <td>51.0</td>\n",
       "      <td>0</td>\n",
       "      <td>1</td>\n",
       "      <td>0</td>\n",
       "    </tr>\n",
       "    <tr>\n",
       "      <th>2</th>\n",
       "      <td>Owner</td>\n",
       "      <td>0</td>\n",
       "      <td>2</td>\n",
       "      <td>BHK</td>\n",
       "      <td>933.159722</td>\n",
       "      <td>1</td>\n",
       "      <td>1</td>\n",
       "      <td>12.778033</td>\n",
       "      <td>77.632191</td>\n",
       "      <td>43.0</td>\n",
       "      <td>1</td>\n",
       "      <td>0</td>\n",
       "      <td>0</td>\n",
       "    </tr>\n",
       "    <tr>\n",
       "      <th>3</th>\n",
       "      <td>Owner</td>\n",
       "      <td>1</td>\n",
       "      <td>2</td>\n",
       "      <td>BHK</td>\n",
       "      <td>929.921143</td>\n",
       "      <td>1</td>\n",
       "      <td>1</td>\n",
       "      <td>28.642300</td>\n",
       "      <td>77.344500</td>\n",
       "      <td>62.5</td>\n",
       "      <td>0</td>\n",
       "      <td>1</td>\n",
       "      <td>0</td>\n",
       "    </tr>\n",
       "    <tr>\n",
       "      <th>4</th>\n",
       "      <td>Dealer</td>\n",
       "      <td>0</td>\n",
       "      <td>2</td>\n",
       "      <td>BHK</td>\n",
       "      <td>999.009247</td>\n",
       "      <td>0</td>\n",
       "      <td>1</td>\n",
       "      <td>22.592200</td>\n",
       "      <td>88.484911</td>\n",
       "      <td>60.5</td>\n",
       "      <td>1</td>\n",
       "      <td>0</td>\n",
       "      <td>0</td>\n",
       "    </tr>\n",
       "  </tbody>\n",
       "</table>\n",
       "</div>"
      ],
      "text/plain": [
       "  POSTED_BY  RERA  BHK_NO. BHK_OR_RK    SQUARE_FT  READY_TO_MOVE  RESALE  \\\n",
       "0     Owner     0        2       BHK  1300.236407              1       1   \n",
       "1    Dealer     0        2       BHK  1275.000000              1       1   \n",
       "2     Owner     0        2       BHK   933.159722              1       1   \n",
       "3     Owner     1        2       BHK   929.921143              1       1   \n",
       "4    Dealer     0        2       BHK   999.009247              0       1   \n",
       "\n",
       "   LONGITUDE   LATITUDE  TARGET(PRICE_IN_LACS)  tier1  tier2  tier3  \n",
       "0  12.969910  77.597960                   55.0      1      0      0  \n",
       "1  12.274538  76.644605                   51.0      0      1      0  \n",
       "2  12.778033  77.632191                   43.0      1      0      0  \n",
       "3  28.642300  77.344500                   62.5      0      1      0  \n",
       "4  22.592200  88.484911                   60.5      1      0      0  "
      ]
     },
     "execution_count": 54,
     "metadata": {},
     "output_type": "execute_result"
    }
   ],
   "source": [
    "df_1=d_f.drop([\"UNDER_CONSTRUCTION\"],axis=1)\n",
    "df_1.head() # dropping under_construction feature from our data set"
   ]
  },
  {
   "cell_type": "code",
   "execution_count": 55,
   "metadata": {
    "scrolled": true
   },
   "outputs": [
    {
     "data": {
      "text/html": [
       "<div>\n",
       "<style scoped>\n",
       "    .dataframe tbody tr th:only-of-type {\n",
       "        vertical-align: middle;\n",
       "    }\n",
       "\n",
       "    .dataframe tbody tr th {\n",
       "        vertical-align: top;\n",
       "    }\n",
       "\n",
       "    .dataframe thead th {\n",
       "        text-align: right;\n",
       "    }\n",
       "</style>\n",
       "<table border=\"1\" class=\"dataframe\">\n",
       "  <thead>\n",
       "    <tr style=\"text-align: right;\">\n",
       "      <th></th>\n",
       "      <th>RERA</th>\n",
       "      <th>BHK_NO.</th>\n",
       "      <th>SQUARE_FT</th>\n",
       "      <th>READY_TO_MOVE</th>\n",
       "      <th>RESALE</th>\n",
       "      <th>LONGITUDE</th>\n",
       "      <th>LATITUDE</th>\n",
       "      <th>TARGET(PRICE_IN_LACS)</th>\n",
       "      <th>tier1</th>\n",
       "      <th>tier2</th>\n",
       "      <th>tier3</th>\n",
       "      <th>POSTED_BY_Dealer</th>\n",
       "      <th>POSTED_BY_Owner</th>\n",
       "      <th>BHK_OR_RK_RK</th>\n",
       "    </tr>\n",
       "  </thead>\n",
       "  <tbody>\n",
       "    <tr>\n",
       "      <th>0</th>\n",
       "      <td>0</td>\n",
       "      <td>2</td>\n",
       "      <td>1300.236407</td>\n",
       "      <td>1</td>\n",
       "      <td>1</td>\n",
       "      <td>12.969910</td>\n",
       "      <td>77.597960</td>\n",
       "      <td>55.0</td>\n",
       "      <td>1</td>\n",
       "      <td>0</td>\n",
       "      <td>0</td>\n",
       "      <td>0</td>\n",
       "      <td>1</td>\n",
       "      <td>0</td>\n",
       "    </tr>\n",
       "    <tr>\n",
       "      <th>1</th>\n",
       "      <td>0</td>\n",
       "      <td>2</td>\n",
       "      <td>1275.000000</td>\n",
       "      <td>1</td>\n",
       "      <td>1</td>\n",
       "      <td>12.274538</td>\n",
       "      <td>76.644605</td>\n",
       "      <td>51.0</td>\n",
       "      <td>0</td>\n",
       "      <td>1</td>\n",
       "      <td>0</td>\n",
       "      <td>1</td>\n",
       "      <td>0</td>\n",
       "      <td>0</td>\n",
       "    </tr>\n",
       "    <tr>\n",
       "      <th>2</th>\n",
       "      <td>0</td>\n",
       "      <td>2</td>\n",
       "      <td>933.159722</td>\n",
       "      <td>1</td>\n",
       "      <td>1</td>\n",
       "      <td>12.778033</td>\n",
       "      <td>77.632191</td>\n",
       "      <td>43.0</td>\n",
       "      <td>1</td>\n",
       "      <td>0</td>\n",
       "      <td>0</td>\n",
       "      <td>0</td>\n",
       "      <td>1</td>\n",
       "      <td>0</td>\n",
       "    </tr>\n",
       "    <tr>\n",
       "      <th>3</th>\n",
       "      <td>1</td>\n",
       "      <td>2</td>\n",
       "      <td>929.921143</td>\n",
       "      <td>1</td>\n",
       "      <td>1</td>\n",
       "      <td>28.642300</td>\n",
       "      <td>77.344500</td>\n",
       "      <td>62.5</td>\n",
       "      <td>0</td>\n",
       "      <td>1</td>\n",
       "      <td>0</td>\n",
       "      <td>0</td>\n",
       "      <td>1</td>\n",
       "      <td>0</td>\n",
       "    </tr>\n",
       "    <tr>\n",
       "      <th>4</th>\n",
       "      <td>0</td>\n",
       "      <td>2</td>\n",
       "      <td>999.009247</td>\n",
       "      <td>0</td>\n",
       "      <td>1</td>\n",
       "      <td>22.592200</td>\n",
       "      <td>88.484911</td>\n",
       "      <td>60.5</td>\n",
       "      <td>1</td>\n",
       "      <td>0</td>\n",
       "      <td>0</td>\n",
       "      <td>1</td>\n",
       "      <td>0</td>\n",
       "      <td>0</td>\n",
       "    </tr>\n",
       "  </tbody>\n",
       "</table>\n",
       "</div>"
      ],
      "text/plain": [
       "   RERA  BHK_NO.    SQUARE_FT  READY_TO_MOVE  RESALE  LONGITUDE   LATITUDE  \\\n",
       "0     0        2  1300.236407              1       1  12.969910  77.597960   \n",
       "1     0        2  1275.000000              1       1  12.274538  76.644605   \n",
       "2     0        2   933.159722              1       1  12.778033  77.632191   \n",
       "3     1        2   929.921143              1       1  28.642300  77.344500   \n",
       "4     0        2   999.009247              0       1  22.592200  88.484911   \n",
       "\n",
       "   TARGET(PRICE_IN_LACS)  tier1  tier2  tier3  POSTED_BY_Dealer  \\\n",
       "0                   55.0      1      0      0                 0   \n",
       "1                   51.0      0      1      0                 1   \n",
       "2                   43.0      1      0      0                 0   \n",
       "3                   62.5      0      1      0                 0   \n",
       "4                   60.5      1      0      0                 1   \n",
       "\n",
       "   POSTED_BY_Owner  BHK_OR_RK_RK  \n",
       "0                1             0  \n",
       "1                0             0  \n",
       "2                1             0  \n",
       "3                1             0  \n",
       "4                0             0  "
      ]
     },
     "execution_count": 55,
     "metadata": {},
     "output_type": "execute_result"
    }
   ],
   "source": [
    "df_1=pd.get_dummies(df_1,drop_first=True)\n",
    "df_1.head() # one hot encoding(To create dummy variables)"
   ]
  },
  {
   "cell_type": "code",
   "execution_count": 56,
   "metadata": {
    "scrolled": true
   },
   "outputs": [
    {
     "data": {
      "text/plain": [
       "(29443, 14)"
      ]
     },
     "execution_count": 56,
     "metadata": {},
     "output_type": "execute_result"
    }
   ],
   "source": [
    "df_1.shape"
   ]
  },
  {
   "cell_type": "code",
   "execution_count": 57,
   "metadata": {
    "scrolled": true
   },
   "outputs": [
    {
     "data": {
      "text/html": [
       "<div>\n",
       "<style scoped>\n",
       "    .dataframe tbody tr th:only-of-type {\n",
       "        vertical-align: middle;\n",
       "    }\n",
       "\n",
       "    .dataframe tbody tr th {\n",
       "        vertical-align: top;\n",
       "    }\n",
       "\n",
       "    .dataframe thead th {\n",
       "        text-align: right;\n",
       "    }\n",
       "</style>\n",
       "<table border=\"1\" class=\"dataframe\">\n",
       "  <thead>\n",
       "    <tr style=\"text-align: right;\">\n",
       "      <th></th>\n",
       "      <th>RERA</th>\n",
       "      <th>BHK_NO.</th>\n",
       "      <th>SQUARE_FT</th>\n",
       "      <th>READY_TO_MOVE</th>\n",
       "      <th>RESALE</th>\n",
       "      <th>LONGITUDE</th>\n",
       "      <th>LATITUDE</th>\n",
       "      <th>TARGET(PRICE_IN_LACS)</th>\n",
       "      <th>tier1</th>\n",
       "      <th>tier2</th>\n",
       "      <th>tier3</th>\n",
       "      <th>POSTED_BY_Dealer</th>\n",
       "      <th>POSTED_BY_Owner</th>\n",
       "      <th>BHK_OR_RK_RK</th>\n",
       "    </tr>\n",
       "  </thead>\n",
       "  <tbody>\n",
       "    <tr>\n",
       "      <th>48</th>\n",
       "      <td>1</td>\n",
       "      <td>1</td>\n",
       "      <td>301.917116</td>\n",
       "      <td>0</td>\n",
       "      <td>0</td>\n",
       "      <td>24.690280</td>\n",
       "      <td>78.418890</td>\n",
       "      <td>26.3</td>\n",
       "      <td>0</td>\n",
       "      <td>0</td>\n",
       "      <td>1</td>\n",
       "      <td>0</td>\n",
       "      <td>0</td>\n",
       "      <td>0</td>\n",
       "    </tr>\n",
       "    <tr>\n",
       "      <th>221</th>\n",
       "      <td>0</td>\n",
       "      <td>2</td>\n",
       "      <td>898.507463</td>\n",
       "      <td>0</td>\n",
       "      <td>0</td>\n",
       "      <td>26.154874</td>\n",
       "      <td>91.670312</td>\n",
       "      <td>30.1</td>\n",
       "      <td>0</td>\n",
       "      <td>1</td>\n",
       "      <td>0</td>\n",
       "      <td>0</td>\n",
       "      <td>0</td>\n",
       "      <td>0</td>\n",
       "    </tr>\n",
       "    <tr>\n",
       "      <th>230</th>\n",
       "      <td>0</td>\n",
       "      <td>1</td>\n",
       "      <td>300.026089</td>\n",
       "      <td>0</td>\n",
       "      <td>0</td>\n",
       "      <td>24.690280</td>\n",
       "      <td>78.418890</td>\n",
       "      <td>11.5</td>\n",
       "      <td>0</td>\n",
       "      <td>0</td>\n",
       "      <td>1</td>\n",
       "      <td>0</td>\n",
       "      <td>0</td>\n",
       "      <td>0</td>\n",
       "    </tr>\n",
       "    <tr>\n",
       "      <th>245</th>\n",
       "      <td>1</td>\n",
       "      <td>2</td>\n",
       "      <td>600.549522</td>\n",
       "      <td>0</td>\n",
       "      <td>0</td>\n",
       "      <td>24.690280</td>\n",
       "      <td>78.418890</td>\n",
       "      <td>45.9</td>\n",
       "      <td>0</td>\n",
       "      <td>0</td>\n",
       "      <td>1</td>\n",
       "      <td>0</td>\n",
       "      <td>0</td>\n",
       "      <td>0</td>\n",
       "    </tr>\n",
       "    <tr>\n",
       "      <th>261</th>\n",
       "      <td>1</td>\n",
       "      <td>1</td>\n",
       "      <td>524.000000</td>\n",
       "      <td>0</td>\n",
       "      <td>0</td>\n",
       "      <td>18.618200</td>\n",
       "      <td>73.744700</td>\n",
       "      <td>26.2</td>\n",
       "      <td>1</td>\n",
       "      <td>0</td>\n",
       "      <td>0</td>\n",
       "      <td>0</td>\n",
       "      <td>0</td>\n",
       "      <td>0</td>\n",
       "    </tr>\n",
       "    <tr>\n",
       "      <th>...</th>\n",
       "      <td>...</td>\n",
       "      <td>...</td>\n",
       "      <td>...</td>\n",
       "      <td>...</td>\n",
       "      <td>...</td>\n",
       "      <td>...</td>\n",
       "      <td>...</td>\n",
       "      <td>...</td>\n",
       "      <td>...</td>\n",
       "      <td>...</td>\n",
       "      <td>...</td>\n",
       "      <td>...</td>\n",
       "      <td>...</td>\n",
       "      <td>...</td>\n",
       "    </tr>\n",
       "    <tr>\n",
       "      <th>29389</th>\n",
       "      <td>0</td>\n",
       "      <td>3</td>\n",
       "      <td>979.290979</td>\n",
       "      <td>0</td>\n",
       "      <td>0</td>\n",
       "      <td>22.747639</td>\n",
       "      <td>88.600902</td>\n",
       "      <td>27.9</td>\n",
       "      <td>1</td>\n",
       "      <td>0</td>\n",
       "      <td>0</td>\n",
       "      <td>0</td>\n",
       "      <td>0</td>\n",
       "      <td>0</td>\n",
       "    </tr>\n",
       "    <tr>\n",
       "      <th>29414</th>\n",
       "      <td>1</td>\n",
       "      <td>3</td>\n",
       "      <td>1750.000000</td>\n",
       "      <td>1</td>\n",
       "      <td>0</td>\n",
       "      <td>22.750000</td>\n",
       "      <td>77.720000</td>\n",
       "      <td>84.0</td>\n",
       "      <td>0</td>\n",
       "      <td>1</td>\n",
       "      <td>0</td>\n",
       "      <td>0</td>\n",
       "      <td>0</td>\n",
       "      <td>0</td>\n",
       "    </tr>\n",
       "    <tr>\n",
       "      <th>29429</th>\n",
       "      <td>1</td>\n",
       "      <td>2</td>\n",
       "      <td>974.930362</td>\n",
       "      <td>1</td>\n",
       "      <td>0</td>\n",
       "      <td>24.166621</td>\n",
       "      <td>78.140498</td>\n",
       "      <td>21.0</td>\n",
       "      <td>0</td>\n",
       "      <td>0</td>\n",
       "      <td>1</td>\n",
       "      <td>0</td>\n",
       "      <td>0</td>\n",
       "      <td>0</td>\n",
       "    </tr>\n",
       "    <tr>\n",
       "      <th>29438</th>\n",
       "      <td>1</td>\n",
       "      <td>3</td>\n",
       "      <td>1560.000000</td>\n",
       "      <td>0</td>\n",
       "      <td>0</td>\n",
       "      <td>19.075483</td>\n",
       "      <td>82.029995</td>\n",
       "      <td>54.6</td>\n",
       "      <td>0</td>\n",
       "      <td>1</td>\n",
       "      <td>0</td>\n",
       "      <td>0</td>\n",
       "      <td>0</td>\n",
       "      <td>0</td>\n",
       "    </tr>\n",
       "    <tr>\n",
       "      <th>29440</th>\n",
       "      <td>1</td>\n",
       "      <td>3</td>\n",
       "      <td>1652.634861</td>\n",
       "      <td>1</td>\n",
       "      <td>0</td>\n",
       "      <td>17.357159</td>\n",
       "      <td>76.841908</td>\n",
       "      <td>53.0</td>\n",
       "      <td>0</td>\n",
       "      <td>1</td>\n",
       "      <td>0</td>\n",
       "      <td>0</td>\n",
       "      <td>0</td>\n",
       "      <td>0</td>\n",
       "    </tr>\n",
       "  </tbody>\n",
       "</table>\n",
       "<p>622 rows × 14 columns</p>\n",
       "</div>"
      ],
      "text/plain": [
       "       RERA  BHK_NO.    SQUARE_FT  READY_TO_MOVE  RESALE  LONGITUDE  \\\n",
       "48        1        1   301.917116              0       0  24.690280   \n",
       "221       0        2   898.507463              0       0  26.154874   \n",
       "230       0        1   300.026089              0       0  24.690280   \n",
       "245       1        2   600.549522              0       0  24.690280   \n",
       "261       1        1   524.000000              0       0  18.618200   \n",
       "...     ...      ...          ...            ...     ...        ...   \n",
       "29389     0        3   979.290979              0       0  22.747639   \n",
       "29414     1        3  1750.000000              1       0  22.750000   \n",
       "29429     1        2   974.930362              1       0  24.166621   \n",
       "29438     1        3  1560.000000              0       0  19.075483   \n",
       "29440     1        3  1652.634861              1       0  17.357159   \n",
       "\n",
       "        LATITUDE  TARGET(PRICE_IN_LACS)  tier1  tier2  tier3  \\\n",
       "48     78.418890                   26.3      0      0      1   \n",
       "221    91.670312                   30.1      0      1      0   \n",
       "230    78.418890                   11.5      0      0      1   \n",
       "245    78.418890                   45.9      0      0      1   \n",
       "261    73.744700                   26.2      1      0      0   \n",
       "...          ...                    ...    ...    ...    ...   \n",
       "29389  88.600902                   27.9      1      0      0   \n",
       "29414  77.720000                   84.0      0      1      0   \n",
       "29429  78.140498                   21.0      0      0      1   \n",
       "29438  82.029995                   54.6      0      1      0   \n",
       "29440  76.841908                   53.0      0      1      0   \n",
       "\n",
       "       POSTED_BY_Dealer  POSTED_BY_Owner  BHK_OR_RK_RK  \n",
       "48                    0                0             0  \n",
       "221                   0                0             0  \n",
       "230                   0                0             0  \n",
       "245                   0                0             0  \n",
       "261                   0                0             0  \n",
       "...                 ...              ...           ...  \n",
       "29389                 0                0             0  \n",
       "29414                 0                0             0  \n",
       "29429                 0                0             0  \n",
       "29438                 0                0             0  \n",
       "29440                 0                0             0  \n",
       "\n",
       "[622 rows x 14 columns]"
      ]
     },
     "execution_count": 57,
     "metadata": {},
     "output_type": "execute_result"
    }
   ],
   "source": [
    "df_1[(df_1[\"POSTED_BY_Dealer\"]==0) & (df_1[\"POSTED_BY_Owner\"]==0)]"
   ]
  },
  {
   "cell_type": "code",
   "execution_count": 58,
   "metadata": {},
   "outputs": [
    {
     "data": {
      "text/html": [
       "<div>\n",
       "<style scoped>\n",
       "    .dataframe tbody tr th:only-of-type {\n",
       "        vertical-align: middle;\n",
       "    }\n",
       "\n",
       "    .dataframe tbody tr th {\n",
       "        vertical-align: top;\n",
       "    }\n",
       "\n",
       "    .dataframe thead th {\n",
       "        text-align: right;\n",
       "    }\n",
       "</style>\n",
       "<table border=\"1\" class=\"dataframe\">\n",
       "  <thead>\n",
       "    <tr style=\"text-align: right;\">\n",
       "      <th></th>\n",
       "      <th>RERA</th>\n",
       "      <th>BHK_NO.</th>\n",
       "      <th>SQUARE_FT</th>\n",
       "      <th>READY_TO_MOVE</th>\n",
       "      <th>RESALE</th>\n",
       "      <th>LONGITUDE</th>\n",
       "      <th>LATITUDE</th>\n",
       "      <th>TARGET(PRICE_IN_LACS)</th>\n",
       "      <th>tier1</th>\n",
       "      <th>tier2</th>\n",
       "      <th>tier3</th>\n",
       "      <th>POSTED_BY_Dealer</th>\n",
       "      <th>POSTED_BY_Owner</th>\n",
       "      <th>BHK_OR_RK_RK</th>\n",
       "    </tr>\n",
       "  </thead>\n",
       "  <tbody>\n",
       "    <tr>\n",
       "      <th>RERA</th>\n",
       "      <td>1.000000</td>\n",
       "      <td>0.009598</td>\n",
       "      <td>0.053039</td>\n",
       "      <td>-0.363773</td>\n",
       "      <td>-0.270320</td>\n",
       "      <td>0.104919</td>\n",
       "      <td>-0.065119</td>\n",
       "      <td>0.077890</td>\n",
       "      <td>-0.066106</td>\n",
       "      <td>0.000634</td>\n",
       "      <td>0.073580</td>\n",
       "      <td>0.236448</td>\n",
       "      <td>-0.272953</td>\n",
       "      <td>0.006051</td>\n",
       "    </tr>\n",
       "    <tr>\n",
       "      <th>BHK_NO.</th>\n",
       "      <td>0.009598</td>\n",
       "      <td>1.000000</td>\n",
       "      <td>0.100525</td>\n",
       "      <td>0.040685</td>\n",
       "      <td>0.014563</td>\n",
       "      <td>0.068944</td>\n",
       "      <td>0.046914</td>\n",
       "      <td>0.122359</td>\n",
       "      <td>-0.002901</td>\n",
       "      <td>0.119867</td>\n",
       "      <td>-0.130134</td>\n",
       "      <td>0.091545</td>\n",
       "      <td>-0.085316</td>\n",
       "      <td>-0.045235</td>\n",
       "    </tr>\n",
       "    <tr>\n",
       "      <th>SQUARE_FT</th>\n",
       "      <td>0.053039</td>\n",
       "      <td>0.100525</td>\n",
       "      <td>1.000000</td>\n",
       "      <td>-0.052286</td>\n",
       "      <td>-0.204726</td>\n",
       "      <td>0.002542</td>\n",
       "      <td>0.003929</td>\n",
       "      <td>0.836589</td>\n",
       "      <td>0.004154</td>\n",
       "      <td>0.003009</td>\n",
       "      <td>-0.008016</td>\n",
       "      <td>0.040034</td>\n",
       "      <td>-0.052713</td>\n",
       "      <td>-0.005267</td>\n",
       "    </tr>\n",
       "    <tr>\n",
       "      <th>READY_TO_MOVE</th>\n",
       "      <td>-0.363773</td>\n",
       "      <td>0.040685</td>\n",
       "      <td>-0.052286</td>\n",
       "      <td>1.000000</td>\n",
       "      <td>0.347383</td>\n",
       "      <td>-0.006377</td>\n",
       "      <td>0.000387</td>\n",
       "      <td>-0.063369</td>\n",
       "      <td>0.014057</td>\n",
       "      <td>0.049128</td>\n",
       "      <td>-0.070469</td>\n",
       "      <td>-0.168896</td>\n",
       "      <td>0.227053</td>\n",
       "      <td>-0.020716</td>\n",
       "    </tr>\n",
       "    <tr>\n",
       "      <th>RESALE</th>\n",
       "      <td>-0.270320</td>\n",
       "      <td>0.014563</td>\n",
       "      <td>-0.204726</td>\n",
       "      <td>0.347383</td>\n",
       "      <td>1.000000</td>\n",
       "      <td>0.024083</td>\n",
       "      <td>0.014848</td>\n",
       "      <td>-0.230284</td>\n",
       "      <td>0.018274</td>\n",
       "      <td>0.040249</td>\n",
       "      <td>-0.065327</td>\n",
       "      <td>-0.039300</td>\n",
       "      <td>0.198496</td>\n",
       "      <td>-0.029344</td>\n",
       "    </tr>\n",
       "    <tr>\n",
       "      <th>LONGITUDE</th>\n",
       "      <td>0.104919</td>\n",
       "      <td>0.068944</td>\n",
       "      <td>0.002542</td>\n",
       "      <td>-0.006377</td>\n",
       "      <td>0.024083</td>\n",
       "      <td>1.000000</td>\n",
       "      <td>-0.155066</td>\n",
       "      <td>-0.028020</td>\n",
       "      <td>-0.529236</td>\n",
       "      <td>0.471176</td>\n",
       "      <td>0.070374</td>\n",
       "      <td>0.071467</td>\n",
       "      <td>-0.062556</td>\n",
       "      <td>0.009094</td>\n",
       "    </tr>\n",
       "    <tr>\n",
       "      <th>LATITUDE</th>\n",
       "      <td>-0.065119</td>\n",
       "      <td>0.046914</td>\n",
       "      <td>0.003929</td>\n",
       "      <td>0.000387</td>\n",
       "      <td>0.014848</td>\n",
       "      <td>-0.155066</td>\n",
       "      <td>1.000000</td>\n",
       "      <td>-0.019410</td>\n",
       "      <td>0.066534</td>\n",
       "      <td>0.014290</td>\n",
       "      <td>-0.090669</td>\n",
       "      <td>-0.026312</td>\n",
       "      <td>0.026996</td>\n",
       "      <td>0.000303</td>\n",
       "    </tr>\n",
       "    <tr>\n",
       "      <th>TARGET(PRICE_IN_LACS)</th>\n",
       "      <td>0.077890</td>\n",
       "      <td>0.122359</td>\n",
       "      <td>0.836589</td>\n",
       "      <td>-0.063369</td>\n",
       "      <td>-0.230284</td>\n",
       "      <td>-0.028020</td>\n",
       "      <td>-0.019410</td>\n",
       "      <td>1.000000</td>\n",
       "      <td>0.022215</td>\n",
       "      <td>-0.068313</td>\n",
       "      <td>0.051059</td>\n",
       "      <td>0.096932</td>\n",
       "      <td>-0.105922</td>\n",
       "      <td>-0.004756</td>\n",
       "    </tr>\n",
       "    <tr>\n",
       "      <th>tier1</th>\n",
       "      <td>-0.066106</td>\n",
       "      <td>-0.002901</td>\n",
       "      <td>0.004154</td>\n",
       "      <td>0.014057</td>\n",
       "      <td>0.018274</td>\n",
       "      <td>-0.529236</td>\n",
       "      <td>0.066534</td>\n",
       "      <td>0.022215</td>\n",
       "      <td>1.000000</td>\n",
       "      <td>-0.600223</td>\n",
       "      <td>-0.455780</td>\n",
       "      <td>0.066175</td>\n",
       "      <td>-0.058958</td>\n",
       "      <td>-0.022564</td>\n",
       "    </tr>\n",
       "    <tr>\n",
       "      <th>tier2</th>\n",
       "      <td>0.000634</td>\n",
       "      <td>0.119867</td>\n",
       "      <td>0.003009</td>\n",
       "      <td>0.049128</td>\n",
       "      <td>0.040249</td>\n",
       "      <td>0.471176</td>\n",
       "      <td>0.014290</td>\n",
       "      <td>-0.068313</td>\n",
       "      <td>-0.600223</td>\n",
       "      <td>1.000000</td>\n",
       "      <td>-0.438355</td>\n",
       "      <td>-0.181404</td>\n",
       "      <td>0.182360</td>\n",
       "      <td>-0.021701</td>\n",
       "    </tr>\n",
       "    <tr>\n",
       "      <th>tier3</th>\n",
       "      <td>0.073580</td>\n",
       "      <td>-0.130134</td>\n",
       "      <td>-0.008016</td>\n",
       "      <td>-0.070469</td>\n",
       "      <td>-0.065327</td>\n",
       "      <td>0.070374</td>\n",
       "      <td>-0.090669</td>\n",
       "      <td>0.051059</td>\n",
       "      <td>-0.455780</td>\n",
       "      <td>-0.438355</td>\n",
       "      <td>1.000000</td>\n",
       "      <td>0.127511</td>\n",
       "      <td>-0.136686</td>\n",
       "      <td>0.049506</td>\n",
       "    </tr>\n",
       "    <tr>\n",
       "      <th>POSTED_BY_Dealer</th>\n",
       "      <td>0.236448</td>\n",
       "      <td>0.091545</td>\n",
       "      <td>0.040034</td>\n",
       "      <td>-0.168896</td>\n",
       "      <td>-0.039300</td>\n",
       "      <td>0.071467</td>\n",
       "      <td>-0.026312</td>\n",
       "      <td>0.096932</td>\n",
       "      <td>0.066175</td>\n",
       "      <td>-0.181404</td>\n",
       "      <td>0.127511</td>\n",
       "      <td>1.000000</td>\n",
       "      <td>-0.955602</td>\n",
       "      <td>0.007584</td>\n",
       "    </tr>\n",
       "    <tr>\n",
       "      <th>POSTED_BY_Owner</th>\n",
       "      <td>-0.272953</td>\n",
       "      <td>-0.085316</td>\n",
       "      <td>-0.052713</td>\n",
       "      <td>0.227053</td>\n",
       "      <td>0.198496</td>\n",
       "      <td>-0.062556</td>\n",
       "      <td>0.026996</td>\n",
       "      <td>-0.105922</td>\n",
       "      <td>-0.058958</td>\n",
       "      <td>0.182360</td>\n",
       "      <td>-0.136686</td>\n",
       "      <td>-0.955602</td>\n",
       "      <td>1.000000</td>\n",
       "      <td>-0.018831</td>\n",
       "    </tr>\n",
       "    <tr>\n",
       "      <th>BHK_OR_RK_RK</th>\n",
       "      <td>0.006051</td>\n",
       "      <td>-0.045235</td>\n",
       "      <td>-0.005267</td>\n",
       "      <td>-0.020716</td>\n",
       "      <td>-0.029344</td>\n",
       "      <td>0.009094</td>\n",
       "      <td>0.000303</td>\n",
       "      <td>-0.004756</td>\n",
       "      <td>-0.022564</td>\n",
       "      <td>-0.021701</td>\n",
       "      <td>0.049506</td>\n",
       "      <td>0.007584</td>\n",
       "      <td>-0.018831</td>\n",
       "      <td>1.000000</td>\n",
       "    </tr>\n",
       "  </tbody>\n",
       "</table>\n",
       "</div>"
      ],
      "text/plain": [
       "                           RERA   BHK_NO.  SQUARE_FT  READY_TO_MOVE    RESALE  \\\n",
       "RERA                   1.000000  0.009598   0.053039      -0.363773 -0.270320   \n",
       "BHK_NO.                0.009598  1.000000   0.100525       0.040685  0.014563   \n",
       "SQUARE_FT              0.053039  0.100525   1.000000      -0.052286 -0.204726   \n",
       "READY_TO_MOVE         -0.363773  0.040685  -0.052286       1.000000  0.347383   \n",
       "RESALE                -0.270320  0.014563  -0.204726       0.347383  1.000000   \n",
       "LONGITUDE              0.104919  0.068944   0.002542      -0.006377  0.024083   \n",
       "LATITUDE              -0.065119  0.046914   0.003929       0.000387  0.014848   \n",
       "TARGET(PRICE_IN_LACS)  0.077890  0.122359   0.836589      -0.063369 -0.230284   \n",
       "tier1                 -0.066106 -0.002901   0.004154       0.014057  0.018274   \n",
       "tier2                  0.000634  0.119867   0.003009       0.049128  0.040249   \n",
       "tier3                  0.073580 -0.130134  -0.008016      -0.070469 -0.065327   \n",
       "POSTED_BY_Dealer       0.236448  0.091545   0.040034      -0.168896 -0.039300   \n",
       "POSTED_BY_Owner       -0.272953 -0.085316  -0.052713       0.227053  0.198496   \n",
       "BHK_OR_RK_RK           0.006051 -0.045235  -0.005267      -0.020716 -0.029344   \n",
       "\n",
       "                       LONGITUDE  LATITUDE  TARGET(PRICE_IN_LACS)     tier1  \\\n",
       "RERA                    0.104919 -0.065119               0.077890 -0.066106   \n",
       "BHK_NO.                 0.068944  0.046914               0.122359 -0.002901   \n",
       "SQUARE_FT               0.002542  0.003929               0.836589  0.004154   \n",
       "READY_TO_MOVE          -0.006377  0.000387              -0.063369  0.014057   \n",
       "RESALE                  0.024083  0.014848              -0.230284  0.018274   \n",
       "LONGITUDE               1.000000 -0.155066              -0.028020 -0.529236   \n",
       "LATITUDE               -0.155066  1.000000              -0.019410  0.066534   \n",
       "TARGET(PRICE_IN_LACS)  -0.028020 -0.019410               1.000000  0.022215   \n",
       "tier1                  -0.529236  0.066534               0.022215  1.000000   \n",
       "tier2                   0.471176  0.014290              -0.068313 -0.600223   \n",
       "tier3                   0.070374 -0.090669               0.051059 -0.455780   \n",
       "POSTED_BY_Dealer        0.071467 -0.026312               0.096932  0.066175   \n",
       "POSTED_BY_Owner        -0.062556  0.026996              -0.105922 -0.058958   \n",
       "BHK_OR_RK_RK            0.009094  0.000303              -0.004756 -0.022564   \n",
       "\n",
       "                          tier2     tier3  POSTED_BY_Dealer  POSTED_BY_Owner  \\\n",
       "RERA                   0.000634  0.073580          0.236448        -0.272953   \n",
       "BHK_NO.                0.119867 -0.130134          0.091545        -0.085316   \n",
       "SQUARE_FT              0.003009 -0.008016          0.040034        -0.052713   \n",
       "READY_TO_MOVE          0.049128 -0.070469         -0.168896         0.227053   \n",
       "RESALE                 0.040249 -0.065327         -0.039300         0.198496   \n",
       "LONGITUDE              0.471176  0.070374          0.071467        -0.062556   \n",
       "LATITUDE               0.014290 -0.090669         -0.026312         0.026996   \n",
       "TARGET(PRICE_IN_LACS) -0.068313  0.051059          0.096932        -0.105922   \n",
       "tier1                 -0.600223 -0.455780          0.066175        -0.058958   \n",
       "tier2                  1.000000 -0.438355         -0.181404         0.182360   \n",
       "tier3                 -0.438355  1.000000          0.127511        -0.136686   \n",
       "POSTED_BY_Dealer      -0.181404  0.127511          1.000000        -0.955602   \n",
       "POSTED_BY_Owner        0.182360 -0.136686         -0.955602         1.000000   \n",
       "BHK_OR_RK_RK          -0.021701  0.049506          0.007584        -0.018831   \n",
       "\n",
       "                       BHK_OR_RK_RK  \n",
       "RERA                       0.006051  \n",
       "BHK_NO.                   -0.045235  \n",
       "SQUARE_FT                 -0.005267  \n",
       "READY_TO_MOVE             -0.020716  \n",
       "RESALE                    -0.029344  \n",
       "LONGITUDE                  0.009094  \n",
       "LATITUDE                   0.000303  \n",
       "TARGET(PRICE_IN_LACS)     -0.004756  \n",
       "tier1                     -0.022564  \n",
       "tier2                     -0.021701  \n",
       "tier3                      0.049506  \n",
       "POSTED_BY_Dealer           0.007584  \n",
       "POSTED_BY_Owner           -0.018831  \n",
       "BHK_OR_RK_RK               1.000000  "
      ]
     },
     "execution_count": 58,
     "metadata": {},
     "output_type": "execute_result"
    }
   ],
   "source": [
    "corrln2=df_1.corr()\n",
    "corrln2"
   ]
  },
  {
   "cell_type": "code",
   "execution_count": 59,
   "metadata": {},
   "outputs": [
    {
     "data": {
      "text/plain": [
       "<AxesSubplot:>"
      ]
     },
     "execution_count": 59,
     "metadata": {},
     "output_type": "execute_result"
    },
    {
     "data": {
      "image/png": "[encoded data removed]",
      "text/plain": [
       "<Figure size 1080x1080 with 2 Axes>"
      ]
     },
     "metadata": {
      "needs_background": "light"
     },
     "output_type": "display_data"
    }
   ],
   "source": [
    "plt.figure(figsize=(15,15))\n",
    "sns.heatmap(corrln2,annot=True)"
   ]
  },
  {
   "cell_type": "code",
   "execution_count": 60,
   "metadata": {},
   "outputs": [],
   "source": [
    "X=df_1.drop([\"TARGET(PRICE_IN_LACS)\"],axis=1)\n",
    "y=df_1[\"TARGET(PRICE_IN_LACS)\"] "
   ]
  },
  {
   "cell_type": "code",
   "execution_count": 61,
   "metadata": {},
   "outputs": [
    {
     "data": {
      "text/html": [
       "<div>\n",
       "<style scoped>\n",
       "    .dataframe tbody tr th:only-of-type {\n",
       "        vertical-align: middle;\n",
       "    }\n",
       "\n",
       "    .dataframe tbody tr th {\n",
       "        vertical-align: top;\n",
       "    }\n",
       "\n",
       "    .dataframe thead th {\n",
       "        text-align: right;\n",
       "    }\n",
       "</style>\n",
       "<table border=\"1\" class=\"dataframe\">\n",
       "  <thead>\n",
       "    <tr style=\"text-align: right;\">\n",
       "      <th></th>\n",
       "      <th>RERA</th>\n",
       "      <th>BHK_NO.</th>\n",
       "      <th>SQUARE_FT</th>\n",
       "      <th>READY_TO_MOVE</th>\n",
       "      <th>RESALE</th>\n",
       "      <th>LONGITUDE</th>\n",
       "      <th>LATITUDE</th>\n",
       "      <th>tier1</th>\n",
       "      <th>tier2</th>\n",
       "      <th>tier3</th>\n",
       "      <th>POSTED_BY_Dealer</th>\n",
       "      <th>POSTED_BY_Owner</th>\n",
       "      <th>BHK_OR_RK_RK</th>\n",
       "    </tr>\n",
       "  </thead>\n",
       "  <tbody>\n",
       "    <tr>\n",
       "      <th>0</th>\n",
       "      <td>0</td>\n",
       "      <td>2</td>\n",
       "      <td>1300.236407</td>\n",
       "      <td>1</td>\n",
       "      <td>1</td>\n",
       "      <td>12.969910</td>\n",
       "      <td>77.597960</td>\n",
       "      <td>1</td>\n",
       "      <td>0</td>\n",
       "      <td>0</td>\n",
       "      <td>0</td>\n",
       "      <td>1</td>\n",
       "      <td>0</td>\n",
       "    </tr>\n",
       "    <tr>\n",
       "      <th>1</th>\n",
       "      <td>0</td>\n",
       "      <td>2</td>\n",
       "      <td>1275.000000</td>\n",
       "      <td>1</td>\n",
       "      <td>1</td>\n",
       "      <td>12.274538</td>\n",
       "      <td>76.644605</td>\n",
       "      <td>0</td>\n",
       "      <td>1</td>\n",
       "      <td>0</td>\n",
       "      <td>1</td>\n",
       "      <td>0</td>\n",
       "      <td>0</td>\n",
       "    </tr>\n",
       "    <tr>\n",
       "      <th>2</th>\n",
       "      <td>0</td>\n",
       "      <td>2</td>\n",
       "      <td>933.159722</td>\n",
       "      <td>1</td>\n",
       "      <td>1</td>\n",
       "      <td>12.778033</td>\n",
       "      <td>77.632191</td>\n",
       "      <td>1</td>\n",
       "      <td>0</td>\n",
       "      <td>0</td>\n",
       "      <td>0</td>\n",
       "      <td>1</td>\n",
       "      <td>0</td>\n",
       "    </tr>\n",
       "    <tr>\n",
       "      <th>3</th>\n",
       "      <td>1</td>\n",
       "      <td>2</td>\n",
       "      <td>929.921143</td>\n",
       "      <td>1</td>\n",
       "      <td>1</td>\n",
       "      <td>28.642300</td>\n",
       "      <td>77.344500</td>\n",
       "      <td>0</td>\n",
       "      <td>1</td>\n",
       "      <td>0</td>\n",
       "      <td>0</td>\n",
       "      <td>1</td>\n",
       "      <td>0</td>\n",
       "    </tr>\n",
       "    <tr>\n",
       "      <th>4</th>\n",
       "      <td>0</td>\n",
       "      <td>2</td>\n",
       "      <td>999.009247</td>\n",
       "      <td>0</td>\n",
       "      <td>1</td>\n",
       "      <td>22.592200</td>\n",
       "      <td>88.484911</td>\n",
       "      <td>1</td>\n",
       "      <td>0</td>\n",
       "      <td>0</td>\n",
       "      <td>1</td>\n",
       "      <td>0</td>\n",
       "      <td>0</td>\n",
       "    </tr>\n",
       "    <tr>\n",
       "      <th>...</th>\n",
       "      <td>...</td>\n",
       "      <td>...</td>\n",
       "      <td>...</td>\n",
       "      <td>...</td>\n",
       "      <td>...</td>\n",
       "      <td>...</td>\n",
       "      <td>...</td>\n",
       "      <td>...</td>\n",
       "      <td>...</td>\n",
       "      <td>...</td>\n",
       "      <td>...</td>\n",
       "      <td>...</td>\n",
       "      <td>...</td>\n",
       "    </tr>\n",
       "    <tr>\n",
       "      <th>29446</th>\n",
       "      <td>0</td>\n",
       "      <td>3</td>\n",
       "      <td>2500.000000</td>\n",
       "      <td>1</td>\n",
       "      <td>1</td>\n",
       "      <td>27.140626</td>\n",
       "      <td>78.043277</td>\n",
       "      <td>0</td>\n",
       "      <td>1</td>\n",
       "      <td>0</td>\n",
       "      <td>0</td>\n",
       "      <td>1</td>\n",
       "      <td>0</td>\n",
       "    </tr>\n",
       "    <tr>\n",
       "      <th>29447</th>\n",
       "      <td>0</td>\n",
       "      <td>2</td>\n",
       "      <td>769.230769</td>\n",
       "      <td>1</td>\n",
       "      <td>1</td>\n",
       "      <td>39.945409</td>\n",
       "      <td>-86.150721</td>\n",
       "      <td>0</td>\n",
       "      <td>0</td>\n",
       "      <td>1</td>\n",
       "      <td>0</td>\n",
       "      <td>1</td>\n",
       "      <td>0</td>\n",
       "    </tr>\n",
       "    <tr>\n",
       "      <th>29448</th>\n",
       "      <td>0</td>\n",
       "      <td>2</td>\n",
       "      <td>1022.641509</td>\n",
       "      <td>1</td>\n",
       "      <td>1</td>\n",
       "      <td>26.928785</td>\n",
       "      <td>75.828002</td>\n",
       "      <td>0</td>\n",
       "      <td>1</td>\n",
       "      <td>0</td>\n",
       "      <td>1</td>\n",
       "      <td>0</td>\n",
       "      <td>0</td>\n",
       "    </tr>\n",
       "    <tr>\n",
       "      <th>29449</th>\n",
       "      <td>0</td>\n",
       "      <td>2</td>\n",
       "      <td>927.079009</td>\n",
       "      <td>1</td>\n",
       "      <td>1</td>\n",
       "      <td>12.900150</td>\n",
       "      <td>80.227910</td>\n",
       "      <td>1</td>\n",
       "      <td>0</td>\n",
       "      <td>0</td>\n",
       "      <td>0</td>\n",
       "      <td>1</td>\n",
       "      <td>0</td>\n",
       "    </tr>\n",
       "    <tr>\n",
       "      <th>29450</th>\n",
       "      <td>1</td>\n",
       "      <td>2</td>\n",
       "      <td>896.774194</td>\n",
       "      <td>1</td>\n",
       "      <td>1</td>\n",
       "      <td>26.832353</td>\n",
       "      <td>75.841749</td>\n",
       "      <td>0</td>\n",
       "      <td>1</td>\n",
       "      <td>0</td>\n",
       "      <td>1</td>\n",
       "      <td>0</td>\n",
       "      <td>0</td>\n",
       "    </tr>\n",
       "  </tbody>\n",
       "</table>\n",
       "<p>29443 rows × 13 columns</p>\n",
       "</div>"
      ],
      "text/plain": [
       "       RERA  BHK_NO.    SQUARE_FT  READY_TO_MOVE  RESALE  LONGITUDE  \\\n",
       "0         0        2  1300.236407              1       1  12.969910   \n",
       "1         0        2  1275.000000              1       1  12.274538   \n",
       "2         0        2   933.159722              1       1  12.778033   \n",
       "3         1        2   929.921143              1       1  28.642300   \n",
       "4         0        2   999.009247              0       1  22.592200   \n",
       "...     ...      ...          ...            ...     ...        ...   \n",
       "29446     0        3  2500.000000              1       1  27.140626   \n",
       "29447     0        2   769.230769              1       1  39.945409   \n",
       "29448     0        2  1022.641509              1       1  26.928785   \n",
       "29449     0        2   927.079009              1       1  12.900150   \n",
       "29450     1        2   896.774194              1       1  26.832353   \n",
       "\n",
       "        LATITUDE  tier1  tier2  tier3  POSTED_BY_Dealer  POSTED_BY_Owner  \\\n",
       "0      77.597960      1      0      0                 0                1   \n",
       "1      76.644605      0      1      0                 1                0   \n",
       "2      77.632191      1      0      0                 0                1   \n",
       "3      77.344500      0      1      0                 0                1   \n",
       "4      88.484911      1      0      0                 1                0   \n",
       "...          ...    ...    ...    ...               ...              ...   \n",
       "29446  78.043277      0      1      0                 0                1   \n",
       "29447 -86.150721      0      0      1                 0                1   \n",
       "29448  75.828002      0      1      0                 1                0   \n",
       "29449  80.227910      1      0      0                 0                1   \n",
       "29450  75.841749      0      1      0                 1                0   \n",
       "\n",
       "       BHK_OR_RK_RK  \n",
       "0                 0  \n",
       "1                 0  \n",
       "2                 0  \n",
       "3                 0  \n",
       "4                 0  \n",
       "...             ...  \n",
       "29446             0  \n",
       "29447             0  \n",
       "29448             0  \n",
       "29449             0  \n",
       "29450             0  \n",
       "\n",
       "[29443 rows x 13 columns]"
      ]
     },
     "execution_count": 61,
     "metadata": {},
     "output_type": "execute_result"
    }
   ],
   "source": [
    "X"
   ]
  },
  {
   "cell_type": "code",
   "execution_count": 62,
   "metadata": {},
   "outputs": [
    {
     "data": {
      "text/plain": [
       "(29443, 13)"
      ]
     },
     "execution_count": 62,
     "metadata": {},
     "output_type": "execute_result"
    }
   ],
   "source": [
    "X.shape"
   ]
  },
  {
   "cell_type": "code",
   "execution_count": 63,
   "metadata": {},
   "outputs": [
    {
     "data": {
      "text/plain": [
       "BHK    29427\n",
       "RK        24\n",
       "Name: BHK_OR_RK, dtype: int64"
      ]
     },
     "execution_count": 63,
     "metadata": {},
     "output_type": "execute_result"
    }
   ],
   "source": [
    "df[\"BHK_OR_RK\"].value_counts()"
   ]
  },
  {
   "cell_type": "code",
   "execution_count": 64,
   "metadata": {
    "scrolled": true
   },
   "outputs": [
    {
     "data": {
      "text/plain": [
       "0        55.0\n",
       "1        51.0\n",
       "2        43.0\n",
       "3        62.5\n",
       "4        60.5\n",
       "         ... \n",
       "29446    45.0\n",
       "29447    16.0\n",
       "29448    27.1\n",
       "29449    67.0\n",
       "29450    27.8\n",
       "Name: TARGET(PRICE_IN_LACS), Length: 29443, dtype: float64"
      ]
     },
     "execution_count": 64,
     "metadata": {},
     "output_type": "execute_result"
    }
   ],
   "source": [
    "y"
   ]
  },
  {
   "cell_type": "code",
   "execution_count": 65,
   "metadata": {},
   "outputs": [
    {
     "data": {
      "text/plain": [
       "(29443,)"
      ]
     },
     "execution_count": 65,
     "metadata": {},
     "output_type": "execute_result"
    }
   ],
   "source": [
    "y.shape"
   ]
  },
  {
   "cell_type": "code",
   "execution_count": 66,
   "metadata": {},
   "outputs": [],
   "source": [
    "import statsmodels.api as sm"
   ]
  },
  {
   "cell_type": "code",
   "execution_count": 67,
   "metadata": {},
   "outputs": [
    {
     "data": {
      "text/html": [
       "<table class=\"simpletable\">\n",
       "<caption>OLS Regression Results</caption>\n",
       "<tr>\n",
       "  <th>Dep. Variable:</th>    <td>TARGET(PRICE_IN_LACS)</td> <th>  R-squared:         </th>  <td>   0.725</td>  \n",
       "</tr>\n",
       "<tr>\n",
       "  <th>Model:</th>                     <td>OLS</td>          <th>  Adj. R-squared:    </th>  <td>   0.724</td>  \n",
       "</tr>\n",
       "<tr>\n",
       "  <th>Method:</th>               <td>Least Squares</td>     <th>  F-statistic:       </th>  <td>   4839.</td>  \n",
       "</tr>\n",
       "<tr>\n",
       "  <th>Date:</th>               <td>Thu, 28 Apr 2022</td>    <th>  Prob (F-statistic):</th>   <td>  0.00</td>   \n",
       "</tr>\n",
       "<tr>\n",
       "  <th>Time:</th>                   <td>01:41:39</td>        <th>  Log-Likelihood:    </th> <td>-1.5706e+05</td>\n",
       "</tr>\n",
       "<tr>\n",
       "  <th>No. Observations:</th>        <td> 22082</td>         <th>  AIC:               </th>  <td>3.142e+05</td> \n",
       "</tr>\n",
       "<tr>\n",
       "  <th>Df Residuals:</th>            <td> 22069</td>         <th>  BIC:               </th>  <td>3.143e+05</td> \n",
       "</tr>\n",
       "<tr>\n",
       "  <th>Df Model:</th>                <td>    12</td>         <th>                     </th>      <td> </td>     \n",
       "</tr>\n",
       "<tr>\n",
       "  <th>Covariance Type:</th>        <td>nonrobust</td>       <th>                     </th>      <td> </td>     \n",
       "</tr>\n",
       "</table>\n",
       "<table class=\"simpletable\">\n",
       "<tr>\n",
       "          <td></td>            <th>coef</th>     <th>std err</th>      <th>t</th>      <th>P>|t|</th>  <th>[0.025</th>    <th>0.975]</th>  \n",
       "</tr>\n",
       "<tr>\n",
       "  <th>const</th>            <td>   42.7526</td> <td>   17.472</td> <td>    2.447</td> <td> 0.014</td> <td>    8.506</td> <td>   76.999</td>\n",
       "</tr>\n",
       "<tr>\n",
       "  <th>RERA</th>             <td>   12.3097</td> <td>    4.781</td> <td>    2.575</td> <td> 0.010</td> <td>    2.939</td> <td>   21.680</td>\n",
       "</tr>\n",
       "<tr>\n",
       "  <th>BHK_NO.</th>          <td>   30.0384</td> <td>    2.321</td> <td>   12.940</td> <td> 0.000</td> <td>   25.488</td> <td>   34.588</td>\n",
       "</tr>\n",
       "<tr>\n",
       "  <th>SQUARE_FT</th>        <td>    0.0608</td> <td>    0.000</td> <td>  226.137</td> <td> 0.000</td> <td>    0.060</td> <td>    0.061</td>\n",
       "</tr>\n",
       "<tr>\n",
       "  <th>READY_TO_MOVE</th>    <td>   22.4560</td> <td>    5.867</td> <td>    3.827</td> <td> 0.000</td> <td>   10.955</td> <td>   33.957</td>\n",
       "</tr>\n",
       "<tr>\n",
       "  <th>RESALE</th>           <td> -153.0310</td> <td>   10.074</td> <td>  -15.190</td> <td> 0.000</td> <td> -172.778</td> <td> -133.284</td>\n",
       "</tr>\n",
       "<tr>\n",
       "  <th>LONGITUDE</th>        <td>   -2.3357</td> <td>    0.403</td> <td>   -5.793</td> <td> 0.000</td> <td>   -3.126</td> <td>   -1.545</td>\n",
       "</tr>\n",
       "<tr>\n",
       "  <th>LATITUDE</th>         <td>   -1.1729</td> <td>    0.195</td> <td>   -6.020</td> <td> 0.000</td> <td>   -1.555</td> <td>   -0.791</td>\n",
       "</tr>\n",
       "<tr>\n",
       "  <th>tier1</th>            <td>    8.9770</td> <td>    6.125</td> <td>    1.466</td> <td> 0.143</td> <td>   -3.028</td> <td>   20.982</td>\n",
       "</tr>\n",
       "<tr>\n",
       "  <th>tier2</th>            <td>  -35.4488</td> <td>    7.338</td> <td>   -4.831</td> <td> 0.000</td> <td>  -49.833</td> <td>  -21.065</td>\n",
       "</tr>\n",
       "<tr>\n",
       "  <th>tier3</th>            <td>   69.2244</td> <td>    6.470</td> <td>   10.700</td> <td> 0.000</td> <td>   56.543</td> <td>   81.906</td>\n",
       "</tr>\n",
       "<tr>\n",
       "  <th>POSTED_BY_Dealer</th> <td>  187.2631</td> <td>   16.424</td> <td>   11.402</td> <td> 0.000</td> <td>  155.071</td> <td>  219.455</td>\n",
       "</tr>\n",
       "<tr>\n",
       "  <th>POSTED_BY_Owner</th>  <td>  138.5829</td> <td>   16.917</td> <td>    8.192</td> <td> 0.000</td> <td>  105.425</td> <td>  171.741</td>\n",
       "</tr>\n",
       "<tr>\n",
       "  <th>BHK_OR_RK_RK</th>     <td>  -28.6331</td> <td>   79.616</td> <td>   -0.360</td> <td> 0.719</td> <td> -184.685</td> <td>  127.419</td>\n",
       "</tr>\n",
       "</table>\n",
       "<table class=\"simpletable\">\n",
       "<tr>\n",
       "  <th>Omnibus:</th>       <td>33530.062</td> <th>  Durbin-Watson:     </th>   <td>   2.012</td>  \n",
       "</tr>\n",
       "<tr>\n",
       "  <th>Prob(Omnibus):</th>  <td> 0.000</td>   <th>  Jarque-Bera (JB):  </th> <td>59308372.128</td>\n",
       "</tr>\n",
       "<tr>\n",
       "  <th>Skew:</th>           <td> 8.944</td>   <th>  Prob(JB):          </th>   <td>    0.00</td>  \n",
       "</tr>\n",
       "<tr>\n",
       "  <th>Kurtosis:</th>       <td>256.258</td>  <th>  Cond. No.          </th>   <td>4.33e+19</td>  \n",
       "</tr>\n",
       "</table><br/><br/>Notes:<br/>[1] Standard Errors assume that the covariance matrix of the errors is correctly specified.<br/>[2] The smallest eigenvalue is 7.29e-28. This might indicate that there are<br/>strong multicollinearity problems or that the design matrix is singular."
      ],
      "text/plain": [
       "<class 'statsmodels.iolib.summary.Summary'>\n",
       "\"\"\"\n",
       "                              OLS Regression Results                             \n",
       "=================================================================================\n",
       "Dep. Variable:     TARGET(PRICE_IN_LACS)   R-squared:                       0.725\n",
       "Model:                               OLS   Adj. R-squared:                  0.724\n",
       "Method:                    Least Squares   F-statistic:                     4839.\n",
       "Date:                   Thu, 28 Apr 2022   Prob (F-statistic):               0.00\n",
       "Time:                           01:41:39   Log-Likelihood:            -1.5706e+05\n",
       "No. Observations:                  22082   AIC:                         3.142e+05\n",
       "Df Residuals:                      22069   BIC:                         3.143e+05\n",
       "Df Model:                             12                                         \n",
       "Covariance Type:               nonrobust                                         \n",
       "====================================================================================\n",
       "                       coef    std err          t      P>|t|      [0.025      0.975]\n",
       "------------------------------------------------------------------------------------\n",
       "const               42.7526     17.472      2.447      0.014       8.506      76.999\n",
       "RERA                12.3097      4.781      2.575      0.010       2.939      21.680\n",
       "BHK_NO.             30.0384      2.321     12.940      0.000      25.488      34.588\n",
       "SQUARE_FT            0.0608      0.000    226.137      0.000       0.060       0.061\n",
       "READY_TO_MOVE       22.4560      5.867      3.827      0.000      10.955      33.957\n",
       "RESALE            -153.0310     10.074    -15.190      0.000    -172.778    -133.284\n",
       "LONGITUDE           -2.3357      0.403     -5.793      0.000      -3.126      -1.545\n",
       "LATITUDE            -1.1729      0.195     -6.020      0.000      -1.555      -0.791\n",
       "tier1                8.9770      6.125      1.466      0.143      -3.028      20.982\n",
       "tier2              -35.4488      7.338     -4.831      0.000     -49.833     -21.065\n",
       "tier3               69.2244      6.470     10.700      0.000      56.543      81.906\n",
       "POSTED_BY_Dealer   187.2631     16.424     11.402      0.000     155.071     219.455\n",
       "POSTED_BY_Owner    138.5829     16.917      8.192      0.000     105.425     171.741\n",
       "BHK_OR_RK_RK       -28.6331     79.616     -0.360      0.719    -184.685     127.419\n",
       "==============================================================================\n",
       "Omnibus:                    33530.062   Durbin-Watson:                   2.012\n",
       "Prob(Omnibus):                  0.000   Jarque-Bera (JB):         59308372.128\n",
       "Skew:                           8.944   Prob(JB):                         0.00\n",
       "Kurtosis:                     256.258   Cond. No.                     4.33e+19\n",
       "==============================================================================\n",
       "\n",
       "Notes:\n",
       "[1] Standard Errors assume that the covariance matrix of the errors is correctly specified.\n",
       "[2] The smallest eigenvalue is 7.29e-28. This might indicate that there are\n",
       "strong multicollinearity problems or that the design matrix is singular.\n",
       "\"\"\""
      ]
     },
     "execution_count": 67,
     "metadata": {},
     "output_type": "execute_result"
    }
   ],
   "source": [
    "from sklearn.model_selection import train_test_split\n",
    "X_train,X_test,y_train,y_test=train_test_split(X,y,random_state=1)\n",
    "X_train=sm.add_constant(X_train)\n",
    "lin_reg=sm.OLS(y_train,X_train).fit()\n",
    "lin_reg.summary()"
   ]
  },
  {
   "cell_type": "code",
   "execution_count": 68,
   "metadata": {
    "scrolled": false
   },
   "outputs": [
    {
     "data": {
      "text/plain": [
       "0.7246058050499264"
      ]
     },
     "execution_count": 68,
     "metadata": {},
     "output_type": "execute_result"
    }
   ],
   "source": [
    "lin_reg.rsquared"
   ]
  },
  {
   "cell_type": "code",
   "execution_count": 69,
   "metadata": {},
   "outputs": [
    {
     "name": "stdout",
     "output_type": "stream",
     "text": [
      "train rmse is 297.0376244204375\n",
      "test rmse is 372.0956112572216\n"
     ]
    }
   ],
   "source": [
    "X_test=sm.add_constant(X_test)\n",
    "y_pred_test=lin_reg.predict(X_test)\n",
    "from statsmodels.tools.eval_measures import rmse\n",
    "test_rmse=rmse(y_test,y_pred_test)\n",
    "train_rmse=rmse(y_train,lin_reg.predict(X_train))\n",
    "print(\"train rmse is {}\".format(train_rmse))\n",
    "print(\"test rmse is {}\".format(test_rmse))"
   ]
  },
  {
   "cell_type": "markdown",
   "metadata": {},
   "source": [
    "## Detection of Multicollinearity using VIF technique"
   ]
  },
  {
   "cell_type": "code",
   "execution_count": 70,
   "metadata": {},
   "outputs": [
    {
     "data": {
      "text/plain": [
       "[('RERA', 1.2503200363934914),\n",
       " ('BHK_NO.', 1.0555964859802793),\n",
       " ('SQUARE_FT', 1.0627962804398468),\n",
       " ('READY_TO_MOVE', 1.2705493640454333),\n",
       " ('RESALE', 1.6512699910404158),\n",
       " ('LONGITUDE', 1.5591179670438302),\n",
       " ('LATITUDE', 1.0413827269944695),\n",
       " ('tier1', 50.707670397324975),\n",
       " ('tier2', 54.27391700996524),\n",
       " ('tier3', 34.1485063496788),\n",
       " ('POSTED_BY_Dealer', 16.003253942337395),\n",
       " ('POSTED_BY_Owner', 16.577728304483987),\n",
       " ('BHK_OR_RK_RK', 1.005722740503891)]"
      ]
     },
     "execution_count": 70,
     "metadata": {},
     "output_type": "execute_result"
    }
   ],
   "source": [
    "from statsmodels.stats.outliers_influence import variance_inflation_factor\n",
    "\n",
    "vif = [(X.columns[i],variance_inflation_factor(X.values, i)) for i in range(X.shape[1])]\n",
    "vif"
   ]
  },
  {
   "cell_type": "code",
   "execution_count": 71,
   "metadata": {
    "scrolled": true
   },
   "outputs": [
    {
     "data": {
      "text/plain": [
       "['RERA',\n",
       " 'BHK_NO.',\n",
       " 'SQUARE_FT',\n",
       " 'READY_TO_MOVE',\n",
       " 'RESALE',\n",
       " 'LONGITUDE',\n",
       " 'LATITUDE',\n",
       " 'BHK_OR_RK_RK']"
      ]
     },
     "execution_count": 71,
     "metadata": {},
     "output_type": "execute_result"
    }
   ],
   "source": [
    "vif_1=[] ## selecting columns whose vif values <10\n",
    "for i in range(len(vif)):\n",
    "    if vif[i][1]<10:\n",
    "        vif_1.append(vif[i][0])\n",
    "vif_1"
   ]
  },
  {
   "cell_type": "code",
   "execution_count": 72,
   "metadata": {},
   "outputs": [
    {
     "data": {
      "text/plain": [
       "['RERA',\n",
       " 'BHK_NO.',\n",
       " 'SQUARE_FT',\n",
       " 'READY_TO_MOVE',\n",
       " 'RESALE',\n",
       " 'LONGITUDE',\n",
       " 'LATITUDE',\n",
       " 'BHK_OR_RK_RK']"
      ]
     },
     "execution_count": 72,
     "metadata": {},
     "output_type": "execute_result"
    }
   ],
   "source": [
    "vif_1"
   ]
  },
  {
   "cell_type": "markdown",
   "metadata": {},
   "source": [
    "## Model fitting after VIF"
   ]
  },
  {
   "cell_type": "code",
   "execution_count": 73,
   "metadata": {
    "scrolled": true
   },
   "outputs": [
    {
     "data": {
      "text/html": [
       "<div>\n",
       "<style scoped>\n",
       "    .dataframe tbody tr th:only-of-type {\n",
       "        vertical-align: middle;\n",
       "    }\n",
       "\n",
       "    .dataframe tbody tr th {\n",
       "        vertical-align: top;\n",
       "    }\n",
       "\n",
       "    .dataframe thead th {\n",
       "        text-align: right;\n",
       "    }\n",
       "</style>\n",
       "<table border=\"1\" class=\"dataframe\">\n",
       "  <thead>\n",
       "    <tr style=\"text-align: right;\">\n",
       "      <th></th>\n",
       "      <th>RERA</th>\n",
       "      <th>BHK_NO.</th>\n",
       "      <th>SQUARE_FT</th>\n",
       "      <th>READY_TO_MOVE</th>\n",
       "      <th>RESALE</th>\n",
       "      <th>LONGITUDE</th>\n",
       "      <th>LATITUDE</th>\n",
       "      <th>BHK_OR_RK_RK</th>\n",
       "    </tr>\n",
       "  </thead>\n",
       "  <tbody>\n",
       "    <tr>\n",
       "      <th>0</th>\n",
       "      <td>0</td>\n",
       "      <td>2</td>\n",
       "      <td>1300.236407</td>\n",
       "      <td>1</td>\n",
       "      <td>1</td>\n",
       "      <td>12.969910</td>\n",
       "      <td>77.597960</td>\n",
       "      <td>0</td>\n",
       "    </tr>\n",
       "    <tr>\n",
       "      <th>1</th>\n",
       "      <td>0</td>\n",
       "      <td>2</td>\n",
       "      <td>1275.000000</td>\n",
       "      <td>1</td>\n",
       "      <td>1</td>\n",
       "      <td>12.274538</td>\n",
       "      <td>76.644605</td>\n",
       "      <td>0</td>\n",
       "    </tr>\n",
       "    <tr>\n",
       "      <th>2</th>\n",
       "      <td>0</td>\n",
       "      <td>2</td>\n",
       "      <td>933.159722</td>\n",
       "      <td>1</td>\n",
       "      <td>1</td>\n",
       "      <td>12.778033</td>\n",
       "      <td>77.632191</td>\n",
       "      <td>0</td>\n",
       "    </tr>\n",
       "    <tr>\n",
       "      <th>3</th>\n",
       "      <td>1</td>\n",
       "      <td>2</td>\n",
       "      <td>929.921143</td>\n",
       "      <td>1</td>\n",
       "      <td>1</td>\n",
       "      <td>28.642300</td>\n",
       "      <td>77.344500</td>\n",
       "      <td>0</td>\n",
       "    </tr>\n",
       "    <tr>\n",
       "      <th>4</th>\n",
       "      <td>0</td>\n",
       "      <td>2</td>\n",
       "      <td>999.009247</td>\n",
       "      <td>0</td>\n",
       "      <td>1</td>\n",
       "      <td>22.592200</td>\n",
       "      <td>88.484911</td>\n",
       "      <td>0</td>\n",
       "    </tr>\n",
       "  </tbody>\n",
       "</table>\n",
       "</div>"
      ],
      "text/plain": [
       "   RERA  BHK_NO.    SQUARE_FT  READY_TO_MOVE  RESALE  LONGITUDE   LATITUDE  \\\n",
       "0     0        2  1300.236407              1       1  12.969910  77.597960   \n",
       "1     0        2  1275.000000              1       1  12.274538  76.644605   \n",
       "2     0        2   933.159722              1       1  12.778033  77.632191   \n",
       "3     1        2   929.921143              1       1  28.642300  77.344500   \n",
       "4     0        2   999.009247              0       1  22.592200  88.484911   \n",
       "\n",
       "   BHK_OR_RK_RK  \n",
       "0             0  \n",
       "1             0  \n",
       "2             0  \n",
       "3             0  \n",
       "4             0  "
      ]
     },
     "execution_count": 73,
     "metadata": {},
     "output_type": "execute_result"
    }
   ],
   "source": [
    "X_1=X[vif_1]\n",
    "X_1.head()"
   ]
  },
  {
   "cell_type": "code",
   "execution_count": 74,
   "metadata": {},
   "outputs": [
    {
     "data": {
      "text/plain": [
       "(29443, 8)"
      ]
     },
     "execution_count": 74,
     "metadata": {},
     "output_type": "execute_result"
    }
   ],
   "source": [
    "X_1.shape"
   ]
  },
  {
   "cell_type": "code",
   "execution_count": 75,
   "metadata": {
    "scrolled": true
   },
   "outputs": [
    {
     "data": {
      "text/html": [
       "<table class=\"simpletable\">\n",
       "<caption>OLS Regression Results</caption>\n",
       "<tr>\n",
       "  <th>Dep. Variable:</th>    <td>TARGET(PRICE_IN_LACS)</td> <th>  R-squared:         </th>  <td>   0.716</td>  \n",
       "</tr>\n",
       "<tr>\n",
       "  <th>Model:</th>                     <td>OLS</td>          <th>  Adj. R-squared:    </th>  <td>   0.715</td>  \n",
       "</tr>\n",
       "<tr>\n",
       "  <th>Method:</th>               <td>Least Squares</td>     <th>  F-statistic:       </th>  <td>   6941.</td>  \n",
       "</tr>\n",
       "<tr>\n",
       "  <th>Date:</th>               <td>Thu, 28 Apr 2022</td>    <th>  Prob (F-statistic):</th>   <td>  0.00</td>   \n",
       "</tr>\n",
       "<tr>\n",
       "  <th>Time:</th>                   <td>01:41:42</td>        <th>  Log-Likelihood:    </th> <td>-1.5742e+05</td>\n",
       "</tr>\n",
       "<tr>\n",
       "  <th>No. Observations:</th>        <td> 22082</td>         <th>  AIC:               </th>  <td>3.149e+05</td> \n",
       "</tr>\n",
       "<tr>\n",
       "  <th>Df Residuals:</th>            <td> 22073</td>         <th>  BIC:               </th>  <td>3.149e+05</td> \n",
       "</tr>\n",
       "<tr>\n",
       "  <th>Df Model:</th>                <td>     8</td>         <th>                     </th>      <td> </td>     \n",
       "</tr>\n",
       "<tr>\n",
       "  <th>Covariance Type:</th>        <td>nonrobust</td>       <th>                     </th>      <td> </td>     \n",
       "</tr>\n",
       "</table>\n",
       "<table class=\"simpletable\">\n",
       "<tr>\n",
       "        <td></td>           <th>coef</th>     <th>std err</th>      <th>t</th>      <th>P>|t|</th>  <th>[0.025</th>    <th>0.975]</th>  \n",
       "</tr>\n",
       "<tr>\n",
       "  <th>const</th>         <td>  240.6915</td> <td>   20.007</td> <td>   12.030</td> <td> 0.000</td> <td>  201.476</td> <td>  279.907</td>\n",
       "</tr>\n",
       "<tr>\n",
       "  <th>RERA</th>          <td>   27.4989</td> <td>    4.768</td> <td>    5.767</td> <td> 0.000</td> <td>   18.153</td> <td>   36.845</td>\n",
       "</tr>\n",
       "<tr>\n",
       "  <th>BHK_NO.</th>       <td>   26.9969</td> <td>    2.322</td> <td>   11.624</td> <td> 0.000</td> <td>   22.445</td> <td>   31.549</td>\n",
       "</tr>\n",
       "<tr>\n",
       "  <th>SQUARE_FT</th>     <td>    0.0611</td> <td>    0.000</td> <td>  224.701</td> <td> 0.000</td> <td>    0.061</td> <td>    0.062</td>\n",
       "</tr>\n",
       "<tr>\n",
       "  <th>READY_TO_MOVE</th> <td>   10.4797</td> <td>    5.916</td> <td>    1.772</td> <td> 0.076</td> <td>   -1.116</td> <td>   22.075</td>\n",
       "</tr>\n",
       "<tr>\n",
       "  <th>RESALE</th>        <td> -107.8852</td> <td>    8.763</td> <td>  -12.312</td> <td> 0.000</td> <td> -125.061</td> <td>  -90.709</td>\n",
       "</tr>\n",
       "<tr>\n",
       "  <th>LONGITUDE</th>     <td>   -3.5227</td> <td>    0.335</td> <td>  -10.516</td> <td> 0.000</td> <td>   -4.179</td> <td>   -2.866</td>\n",
       "</tr>\n",
       "<tr>\n",
       "  <th>LATITUDE</th>      <td>   -1.5546</td> <td>    0.197</td> <td>   -7.888</td> <td> 0.000</td> <td>   -1.941</td> <td>   -1.168</td>\n",
       "</tr>\n",
       "<tr>\n",
       "  <th>BHK_OR_RK_RK</th>  <td>   19.0958</td> <td>   80.814</td> <td>    0.236</td> <td> 0.813</td> <td> -139.305</td> <td>  177.496</td>\n",
       "</tr>\n",
       "</table>\n",
       "<table class=\"simpletable\">\n",
       "<tr>\n",
       "  <th>Omnibus:</th>       <td>33456.889</td> <th>  Durbin-Watson:     </th>   <td>   2.011</td>  \n",
       "</tr>\n",
       "<tr>\n",
       "  <th>Prob(Omnibus):</th>  <td> 0.000</td>   <th>  Jarque-Bera (JB):  </th> <td>56949669.954</td>\n",
       "</tr>\n",
       "<tr>\n",
       "  <th>Skew:</th>           <td> 8.917</td>   <th>  Prob(JB):          </th>   <td>    0.00</td>  \n",
       "</tr>\n",
       "<tr>\n",
       "  <th>Kurtosis:</th>       <td>251.149</td>  <th>  Cond. No.          </th>   <td>3.13e+05</td>  \n",
       "</tr>\n",
       "</table><br/><br/>Notes:<br/>[1] Standard Errors assume that the covariance matrix of the errors is correctly specified.<br/>[2] The condition number is large, 3.13e+05. This might indicate that there are<br/>strong multicollinearity or other numerical problems."
      ],
      "text/plain": [
       "<class 'statsmodels.iolib.summary.Summary'>\n",
       "\"\"\"\n",
       "                              OLS Regression Results                             \n",
       "=================================================================================\n",
       "Dep. Variable:     TARGET(PRICE_IN_LACS)   R-squared:                       0.716\n",
       "Model:                               OLS   Adj. R-squared:                  0.715\n",
       "Method:                    Least Squares   F-statistic:                     6941.\n",
       "Date:                   Thu, 28 Apr 2022   Prob (F-statistic):               0.00\n",
       "Time:                           01:41:42   Log-Likelihood:            -1.5742e+05\n",
       "No. Observations:                  22082   AIC:                         3.149e+05\n",
       "Df Residuals:                      22073   BIC:                         3.149e+05\n",
       "Df Model:                              8                                         \n",
       "Covariance Type:               nonrobust                                         \n",
       "=================================================================================\n",
       "                    coef    std err          t      P>|t|      [0.025      0.975]\n",
       "---------------------------------------------------------------------------------\n",
       "const           240.6915     20.007     12.030      0.000     201.476     279.907\n",
       "RERA             27.4989      4.768      5.767      0.000      18.153      36.845\n",
       "BHK_NO.          26.9969      2.322     11.624      0.000      22.445      31.549\n",
       "SQUARE_FT         0.0611      0.000    224.701      0.000       0.061       0.062\n",
       "READY_TO_MOVE    10.4797      5.916      1.772      0.076      -1.116      22.075\n",
       "RESALE         -107.8852      8.763    -12.312      0.000    -125.061     -90.709\n",
       "LONGITUDE        -3.5227      0.335    -10.516      0.000      -4.179      -2.866\n",
       "LATITUDE         -1.5546      0.197     -7.888      0.000      -1.941      -1.168\n",
       "BHK_OR_RK_RK     19.0958     80.814      0.236      0.813    -139.305     177.496\n",
       "==============================================================================\n",
       "Omnibus:                    33456.889   Durbin-Watson:                   2.011\n",
       "Prob(Omnibus):                  0.000   Jarque-Bera (JB):         56949669.954\n",
       "Skew:                           8.917   Prob(JB):                         0.00\n",
       "Kurtosis:                     251.149   Cond. No.                     3.13e+05\n",
       "==============================================================================\n",
       "\n",
       "Notes:\n",
       "[1] Standard Errors assume that the covariance matrix of the errors is correctly specified.\n",
       "[2] The condition number is large, 3.13e+05. This might indicate that there are\n",
       "strong multicollinearity or other numerical problems.\n",
       "\"\"\""
      ]
     },
     "execution_count": 75,
     "metadata": {},
     "output_type": "execute_result"
    }
   ],
   "source": [
    "from sklearn.model_selection import train_test_split\n",
    "X_train_1,X_test_1,y_train_1,y_test_=train_test_split(X_1,y,random_state=1)\n",
    "X_train_1=sm.add_constant(X_train_1)\n",
    "lin_reg_VIF=sm.OLS(y_train_1,X_train_1).fit()\n",
    "lin_reg_VIF.summary()"
   ]
  },
  {
   "cell_type": "code",
   "execution_count": 76,
   "metadata": {},
   "outputs": [
    {
     "data": {
      "text/plain": [
       "0.7155720499357963"
      ]
     },
     "execution_count": 76,
     "metadata": {},
     "output_type": "execute_result"
    }
   ],
   "source": [
    "lin_reg_VIF.rsquared"
   ]
  },
  {
   "cell_type": "code",
   "execution_count": 78,
   "metadata": {},
   "outputs": [
    {
     "name": "stdout",
     "output_type": "stream",
     "text": [
      "train rmse is 301.8701758928382\n",
      "test rmse is 375.7159477708263\n"
     ]
    }
   ],
   "source": [
    "X_test_1=sm.add_constant(X_test_1)\n",
    "y_pred_test_1=lin_reg_VIF.predict(X_test_1)\n",
    "from statsmodels.tools.eval_measures import rmse\n",
    "test_rmse=rmse(y_test_,y_pred_test_1)\n",
    "train_rmse=rmse(y_train_1,lin_reg_VIF.predict(X_train_1))\n",
    "print(\"train rmse is {}\".format(train_rmse))\n",
    "print(\"test rmse is {}\".format(test_rmse))"
   ]
  },
  {
   "cell_type": "markdown",
   "metadata": {},
   "source": [
    "## Feature Selection Technique "
   ]
  },
  {
   "cell_type": "code",
   "execution_count": 79,
   "metadata": {
    "scrolled": true
   },
   "outputs": [
    {
     "name": "stdout",
     "output_type": "stream",
     "text": [
      "Collecting mlxtend\n",
      "  Downloading mlxtend-0.19.0-py2.py3-none-any.whl (1.3 MB)\n",
      "Requirement already satisfied: scikit-learn>=0.20.3 in c:\\users\\singh\\anaconda3\\lib\\site-packages (from mlxtend) (0.24.1)\n",
      "Requirement already satisfied: matplotlib>=3.0.0 in c:\\users\\singh\\anaconda3\\lib\\site-packages (from mlxtend) (3.3.4)\n",
      "Requirement already satisfied: setuptools in c:\\users\\singh\\anaconda3\\lib\\site-packages (from mlxtend) (52.0.0.post20210125)\n",
      "Requirement already satisfied: numpy>=1.16.2 in c:\\users\\singh\\anaconda3\\lib\\site-packages (from mlxtend) (1.20.1)\n",
      "Requirement already satisfied: scipy>=1.2.1 in c:\\users\\singh\\anaconda3\\lib\\site-packages (from mlxtend) (1.6.2)\n",
      "Requirement already satisfied: joblib>=0.13.2 in c:\\users\\singh\\anaconda3\\lib\\site-packages (from mlxtend) (1.0.1)\n",
      "Note: you may need to restart the kernel to use updated packages.Requirement already satisfied: pandas>=0.24.2 in c:\\users\\singh\\anaconda3\\lib\\site-packages (from mlxtend) (1.2.4)\n",
      "Requirement already satisfied: cycler>=0.10 in c:\\users\\singh\\anaconda3\\lib\\site-packages (from matplotlib>=3.0.0->mlxtend) (0.10.0)\n",
      "Requirement already satisfied: python-dateutil>=2.1 in c:\\users\\singh\\anaconda3\\lib\\site-packages (from matplotlib>=3.0.0->mlxtend) (2.8.1)\n",
      "Requirement already satisfied: kiwisolver>=1.0.1 in c:\\users\\singh\\anaconda3\\lib\\site-packages (from matplotlib>=3.0.0->mlxtend) (1.3.1)\n",
      "\n",
      "Requirement already satisfied: pillow>=6.2.0 in c:\\users\\singh\\anaconda3\\lib\\site-packages (from matplotlib>=3.0.0->mlxtend) (8.2.0)\n",
      "Requirement already satisfied: pyparsing!=2.0.4,!=2.1.2,!=2.1.6,>=2.0.3 in c:\\users\\singh\\anaconda3\\lib\\site-packages (from matplotlib>=3.0.0->mlxtend) (2.4.7)\n",
      "Requirement already satisfied: six in c:\\users\\singh\\anaconda3\\lib\\site-packages (from cycler>=0.10->matplotlib>=3.0.0->mlxtend) (1.15.0)\n",
      "Requirement already satisfied: pytz>=2017.3 in c:\\users\\singh\\anaconda3\\lib\\site-packages (from pandas>=0.24.2->mlxtend) (2021.1)\n",
      "Requirement already satisfied: threadpoolctl>=2.0.0 in c:\\users\\singh\\anaconda3\\lib\\site-packages (from scikit-learn>=0.20.3->mlxtend) (2.1.0)\n",
      "Installing collected packages: mlxtend\n",
      "Successfully installed mlxtend-0.19.0\n"
     ]
    }
   ],
   "source": [
    "pip install mlxtend\n"
   ]
  },
  {
   "cell_type": "markdown",
   "metadata": {},
   "source": [
    "# Forward Selection"
   ]
  },
  {
   "cell_type": "code",
   "execution_count": 80,
   "metadata": {},
   "outputs": [],
   "source": [
    "#importing the necessary libraries\n",
    "from mlxtend.feature_selection import SequentialFeatureSelector as SFS\n",
    "from sklearn.linear_model import LinearRegression\n",
    "# Sequential Forward Selection(sfs)\n",
    "sfs = SFS(LinearRegression(),\n",
    "          k_features=6,\n",
    "          forward=True,\n",
    "          floating=False,\n",
    "          scoring = 'r2',\n",
    "          cv = 0)"
   ]
  },
  {
   "cell_type": "code",
   "execution_count": 81,
   "metadata": {},
   "outputs": [
    {
     "data": {
      "text/plain": [
       "(29443, 13)"
      ]
     },
     "execution_count": 81,
     "metadata": {},
     "output_type": "execute_result"
    }
   ],
   "source": [
    "X.shape"
   ]
  },
  {
   "cell_type": "code",
   "execution_count": 82,
   "metadata": {},
   "outputs": [
    {
     "data": {
      "text/plain": [
       "['BHK_NO.',\n",
       " 'SQUARE_FT',\n",
       " 'RESALE',\n",
       " 'tier2',\n",
       " 'POSTED_BY_Dealer',\n",
       " 'POSTED_BY_Owner']"
      ]
     },
     "execution_count": 82,
     "metadata": {},
     "output_type": "execute_result"
    }
   ],
   "source": [
    "sfs.fit(X, y)\n",
    "list(sfs.k_feature_names_)"
   ]
  },
  {
   "cell_type": "code",
   "execution_count": 83,
   "metadata": {
    "scrolled": true
   },
   "outputs": [
    {
     "data": {
      "text/html": [
       "<div>\n",
       "<style scoped>\n",
       "    .dataframe tbody tr th:only-of-type {\n",
       "        vertical-align: middle;\n",
       "    }\n",
       "\n",
       "    .dataframe tbody tr th {\n",
       "        vertical-align: top;\n",
       "    }\n",
       "\n",
       "    .dataframe thead th {\n",
       "        text-align: right;\n",
       "    }\n",
       "</style>\n",
       "<table border=\"1\" class=\"dataframe\">\n",
       "  <thead>\n",
       "    <tr style=\"text-align: right;\">\n",
       "      <th></th>\n",
       "      <th>BHK_NO.</th>\n",
       "      <th>SQUARE_FT</th>\n",
       "      <th>RESALE</th>\n",
       "      <th>tier2</th>\n",
       "      <th>POSTED_BY_Dealer</th>\n",
       "      <th>POSTED_BY_Owner</th>\n",
       "    </tr>\n",
       "  </thead>\n",
       "  <tbody>\n",
       "    <tr>\n",
       "      <th>0</th>\n",
       "      <td>2</td>\n",
       "      <td>1300.236407</td>\n",
       "      <td>1</td>\n",
       "      <td>0</td>\n",
       "      <td>0</td>\n",
       "      <td>1</td>\n",
       "    </tr>\n",
       "    <tr>\n",
       "      <th>1</th>\n",
       "      <td>2</td>\n",
       "      <td>1275.000000</td>\n",
       "      <td>1</td>\n",
       "      <td>1</td>\n",
       "      <td>1</td>\n",
       "      <td>0</td>\n",
       "    </tr>\n",
       "    <tr>\n",
       "      <th>2</th>\n",
       "      <td>2</td>\n",
       "      <td>933.159722</td>\n",
       "      <td>1</td>\n",
       "      <td>0</td>\n",
       "      <td>0</td>\n",
       "      <td>1</td>\n",
       "    </tr>\n",
       "    <tr>\n",
       "      <th>3</th>\n",
       "      <td>2</td>\n",
       "      <td>929.921143</td>\n",
       "      <td>1</td>\n",
       "      <td>1</td>\n",
       "      <td>0</td>\n",
       "      <td>1</td>\n",
       "    </tr>\n",
       "    <tr>\n",
       "      <th>4</th>\n",
       "      <td>2</td>\n",
       "      <td>999.009247</td>\n",
       "      <td>1</td>\n",
       "      <td>0</td>\n",
       "      <td>1</td>\n",
       "      <td>0</td>\n",
       "    </tr>\n",
       "  </tbody>\n",
       "</table>\n",
       "</div>"
      ],
      "text/plain": [
       "   BHK_NO.    SQUARE_FT  RESALE  tier2  POSTED_BY_Dealer  POSTED_BY_Owner\n",
       "0        2  1300.236407       1      0                 0                1\n",
       "1        2  1275.000000       1      1                 1                0\n",
       "2        2   933.159722       1      0                 0                1\n",
       "3        2   929.921143       1      1                 0                1\n",
       "4        2   999.009247       1      0                 1                0"
      ]
     },
     "execution_count": 83,
     "metadata": {},
     "output_type": "execute_result"
    }
   ],
   "source": [
    "X_f=X[list(sfs.k_feature_names_)]\n",
    "X_f.head()"
   ]
  },
  {
   "cell_type": "code",
   "execution_count": 84,
   "metadata": {
    "scrolled": true
   },
   "outputs": [
    {
     "data": {
      "text/plain": [
       "(29443, 6)"
      ]
     },
     "execution_count": 84,
     "metadata": {},
     "output_type": "execute_result"
    }
   ],
   "source": [
    "X_f.shape"
   ]
  },
  {
   "cell_type": "code",
   "execution_count": 85,
   "metadata": {},
   "outputs": [
    {
     "data": {
      "text/plain": [
       "(29443,)"
      ]
     },
     "execution_count": 85,
     "metadata": {},
     "output_type": "execute_result"
    }
   ],
   "source": [
    "y.shape"
   ]
  },
  {
   "cell_type": "code",
   "execution_count": 86,
   "metadata": {},
   "outputs": [
    {
     "data": {
      "text/html": [
       "<table class=\"simpletable\">\n",
       "<caption>OLS Regression Results</caption>\n",
       "<tr>\n",
       "  <th>Dep. Variable:</th>    <td>TARGET(PRICE_IN_LACS)</td> <th>  R-squared:         </th>  <td>   0.722</td>  \n",
       "</tr>\n",
       "<tr>\n",
       "  <th>Model:</th>                     <td>OLS</td>          <th>  Adj. R-squared:    </th>  <td>   0.722</td>  \n",
       "</tr>\n",
       "<tr>\n",
       "  <th>Method:</th>               <td>Least Squares</td>     <th>  F-statistic:       </th>  <td>   9573.</td>  \n",
       "</tr>\n",
       "<tr>\n",
       "  <th>Date:</th>               <td>Thu, 28 Apr 2022</td>    <th>  Prob (F-statistic):</th>   <td>  0.00</td>   \n",
       "</tr>\n",
       "<tr>\n",
       "  <th>Time:</th>                   <td>01:44:17</td>        <th>  Log-Likelihood:    </th> <td>-1.5715e+05</td>\n",
       "</tr>\n",
       "<tr>\n",
       "  <th>No. Observations:</th>        <td> 22082</td>         <th>  AIC:               </th>  <td>3.143e+05</td> \n",
       "</tr>\n",
       "<tr>\n",
       "  <th>Df Residuals:</th>            <td> 22075</td>         <th>  BIC:               </th>  <td>3.144e+05</td> \n",
       "</tr>\n",
       "<tr>\n",
       "  <th>Df Model:</th>                <td>     6</td>         <th>                     </th>      <td> </td>     \n",
       "</tr>\n",
       "<tr>\n",
       "  <th>Covariance Type:</th>        <td>nonrobust</td>       <th>                     </th>      <td> </td>     \n",
       "</tr>\n",
       "</table>\n",
       "<table class=\"simpletable\">\n",
       "<tr>\n",
       "          <td></td>            <th>coef</th>     <th>std err</th>      <th>t</th>      <th>P>|t|</th>  <th>[0.025</th>    <th>0.975]</th>  \n",
       "</tr>\n",
       "<tr>\n",
       "  <th>const</th>            <td>  -30.8918</td> <td>   14.628</td> <td>   -2.112</td> <td> 0.035</td> <td>  -59.563</td> <td>   -2.220</td>\n",
       "</tr>\n",
       "<tr>\n",
       "  <th>BHK_NO.</th>          <td>   27.4309</td> <td>    2.312</td> <td>   11.862</td> <td> 0.000</td> <td>   22.898</td> <td>   31.963</td>\n",
       "</tr>\n",
       "<tr>\n",
       "  <th>SQUARE_FT</th>        <td>    0.0608</td> <td>    0.000</td> <td>  225.263</td> <td> 0.000</td> <td>    0.060</td> <td>    0.061</td>\n",
       "</tr>\n",
       "<tr>\n",
       "  <th>RESALE</th>           <td> -153.4611</td> <td>    9.638</td> <td>  -15.923</td> <td> 0.000</td> <td> -172.352</td> <td> -134.570</td>\n",
       "</tr>\n",
       "<tr>\n",
       "  <th>tier2</th>            <td>  -81.3000</td> <td>    4.283</td> <td>  -18.984</td> <td> 0.000</td> <td>  -89.694</td> <td>  -72.906</td>\n",
       "</tr>\n",
       "<tr>\n",
       "  <th>POSTED_BY_Dealer</th> <td>  187.0522</td> <td>   16.447</td> <td>   11.373</td> <td> 0.000</td> <td>  154.816</td> <td>  219.289</td>\n",
       "</tr>\n",
       "<tr>\n",
       "  <th>POSTED_BY_Owner</th>  <td>  139.4636</td> <td>   16.954</td> <td>    8.226</td> <td> 0.000</td> <td>  106.232</td> <td>  172.695</td>\n",
       "</tr>\n",
       "</table>\n",
       "<table class=\"simpletable\">\n",
       "<tr>\n",
       "  <th>Omnibus:</th>       <td>33573.634</td> <th>  Durbin-Watson:     </th>   <td>   2.015</td>  \n",
       "</tr>\n",
       "<tr>\n",
       "  <th>Prob(Omnibus):</th>  <td> 0.000</td>   <th>  Jarque-Bera (JB):  </th> <td>58698663.296</td>\n",
       "</tr>\n",
       "<tr>\n",
       "  <th>Skew:</th>           <td> 8.974</td>   <th>  Prob(JB):          </th>   <td>    0.00</td>  \n",
       "</tr>\n",
       "<tr>\n",
       "  <th>Kurtosis:</th>       <td>254.942</td>  <th>  Cond. No.          </th>   <td>1.05e+05</td>  \n",
       "</tr>\n",
       "</table><br/><br/>Notes:<br/>[1] Standard Errors assume that the covariance matrix of the errors is correctly specified.<br/>[2] The condition number is large, 1.05e+05. This might indicate that there are<br/>strong multicollinearity or other numerical problems."
      ],
      "text/plain": [
       "<class 'statsmodels.iolib.summary.Summary'>\n",
       "\"\"\"\n",
       "                              OLS Regression Results                             \n",
       "=================================================================================\n",
       "Dep. Variable:     TARGET(PRICE_IN_LACS)   R-squared:                       0.722\n",
       "Model:                               OLS   Adj. R-squared:                  0.722\n",
       "Method:                    Least Squares   F-statistic:                     9573.\n",
       "Date:                   Thu, 28 Apr 2022   Prob (F-statistic):               0.00\n",
       "Time:                           01:44:17   Log-Likelihood:            -1.5715e+05\n",
       "No. Observations:                  22082   AIC:                         3.143e+05\n",
       "Df Residuals:                      22075   BIC:                         3.144e+05\n",
       "Df Model:                              6                                         \n",
       "Covariance Type:               nonrobust                                         \n",
       "====================================================================================\n",
       "                       coef    std err          t      P>|t|      [0.025      0.975]\n",
       "------------------------------------------------------------------------------------\n",
       "const              -30.8918     14.628     -2.112      0.035     -59.563      -2.220\n",
       "BHK_NO.             27.4309      2.312     11.862      0.000      22.898      31.963\n",
       "SQUARE_FT            0.0608      0.000    225.263      0.000       0.060       0.061\n",
       "RESALE            -153.4611      9.638    -15.923      0.000    -172.352    -134.570\n",
       "tier2              -81.3000      4.283    -18.984      0.000     -89.694     -72.906\n",
       "POSTED_BY_Dealer   187.0522     16.447     11.373      0.000     154.816     219.289\n",
       "POSTED_BY_Owner    139.4636     16.954      8.226      0.000     106.232     172.695\n",
       "==============================================================================\n",
       "Omnibus:                    33573.634   Durbin-Watson:                   2.015\n",
       "Prob(Omnibus):                  0.000   Jarque-Bera (JB):         58698663.296\n",
       "Skew:                           8.974   Prob(JB):                         0.00\n",
       "Kurtosis:                     254.942   Cond. No.                     1.05e+05\n",
       "==============================================================================\n",
       "\n",
       "Notes:\n",
       "[1] Standard Errors assume that the covariance matrix of the errors is correctly specified.\n",
       "[2] The condition number is large, 1.05e+05. This might indicate that there are\n",
       "strong multicollinearity or other numerical problems.\n",
       "\"\"\""
      ]
     },
     "execution_count": 86,
     "metadata": {},
     "output_type": "execute_result"
    }
   ],
   "source": [
    "from sklearn.model_selection import train_test_split\n",
    "X_trainf,X_testf,y_trainf,y_testf=train_test_split(X_f,y,random_state=1)\n",
    "X_trainf=sm.add_constant(X_trainf)\n",
    "lin_reg_f=sm.OLS(y_trainf,X_trainf).fit()\n",
    "lin_reg_f.summary()"
   ]
  },
  {
   "cell_type": "code",
   "execution_count": 87,
   "metadata": {
    "scrolled": true
   },
   "outputs": [
    {
     "data": {
      "text/plain": [
       "0.7223691189512513"
      ]
     },
     "execution_count": 87,
     "metadata": {},
     "output_type": "execute_result"
    }
   ],
   "source": [
    "lin_reg_f.rsquared"
   ]
  },
  {
   "cell_type": "code",
   "execution_count": 88,
   "metadata": {
    "scrolled": true
   },
   "outputs": [
    {
     "name": "stdout",
     "output_type": "stream",
     "text": [
      "train rmse is 298.24141956934307\n",
      "test rmse is 372.4218186048326\n"
     ]
    }
   ],
   "source": [
    "X_testf=sm.add_constant(X_testf)\n",
    "y_pred_test_1=lin_reg_f.predict(X_testf)\n",
    "from statsmodels.tools.eval_measures import rmse\n",
    "test_rmse=rmse(y_testf,y_pred_test_1)\n",
    "train_rmse=rmse(y_trainf,lin_reg_f.predict(X_trainf))\n",
    "print(\"train rmse is {}\".format(train_rmse))\n",
    "print(\"test rmse is {}\".format(test_rmse))"
   ]
  },
  {
   "cell_type": "markdown",
   "metadata": {},
   "source": [
    "## Backward Elimination"
   ]
  },
  {
   "cell_type": "code",
   "execution_count": 89,
   "metadata": {
    "scrolled": true
   },
   "outputs": [
    {
     "data": {
      "text/plain": [
       "['BHK_NO.',\n",
       " 'SQUARE_FT',\n",
       " 'RESALE',\n",
       " 'tier2',\n",
       " 'POSTED_BY_Dealer',\n",
       " 'POSTED_BY_Owner']"
      ]
     },
     "execution_count": 89,
     "metadata": {},
     "output_type": "execute_result"
    }
   ],
   "source": [
    "#Sequential backward selection(sbs)\n",
    "sbs = SFS(LinearRegression(),\n",
    "         k_features=6,\n",
    "         forward=False,\n",
    "         floating=False,\n",
    "         cv=0)\n",
    "sbs.fit(X, y)\n",
    "list(sbs.k_feature_names_)"
   ]
  },
  {
   "cell_type": "code",
   "execution_count": 90,
   "metadata": {},
   "outputs": [
    {
     "data": {
      "text/plain": [
       "['BHK_NO.',\n",
       " 'SQUARE_FT',\n",
       " 'RESALE',\n",
       " 'tier2',\n",
       " 'POSTED_BY_Dealer',\n",
       " 'POSTED_BY_Owner']"
      ]
     },
     "execution_count": 90,
     "metadata": {},
     "output_type": "execute_result"
    }
   ],
   "source": [
    "sbs.fit(X, y)\n",
    "list(sbs.k_feature_names_)"
   ]
  },
  {
   "cell_type": "code",
   "execution_count": 91,
   "metadata": {},
   "outputs": [
    {
     "data": {
      "text/html": [
       "<div>\n",
       "<style scoped>\n",
       "    .dataframe tbody tr th:only-of-type {\n",
       "        vertical-align: middle;\n",
       "    }\n",
       "\n",
       "    .dataframe tbody tr th {\n",
       "        vertical-align: top;\n",
       "    }\n",
       "\n",
       "    .dataframe thead th {\n",
       "        text-align: right;\n",
       "    }\n",
       "</style>\n",
       "<table border=\"1\" class=\"dataframe\">\n",
       "  <thead>\n",
       "    <tr style=\"text-align: right;\">\n",
       "      <th></th>\n",
       "      <th>BHK_NO.</th>\n",
       "      <th>SQUARE_FT</th>\n",
       "      <th>RESALE</th>\n",
       "      <th>tier2</th>\n",
       "      <th>POSTED_BY_Dealer</th>\n",
       "      <th>POSTED_BY_Owner</th>\n",
       "    </tr>\n",
       "  </thead>\n",
       "  <tbody>\n",
       "    <tr>\n",
       "      <th>0</th>\n",
       "      <td>2</td>\n",
       "      <td>1300.236407</td>\n",
       "      <td>1</td>\n",
       "      <td>0</td>\n",
       "      <td>0</td>\n",
       "      <td>1</td>\n",
       "    </tr>\n",
       "    <tr>\n",
       "      <th>1</th>\n",
       "      <td>2</td>\n",
       "      <td>1275.000000</td>\n",
       "      <td>1</td>\n",
       "      <td>1</td>\n",
       "      <td>1</td>\n",
       "      <td>0</td>\n",
       "    </tr>\n",
       "    <tr>\n",
       "      <th>2</th>\n",
       "      <td>2</td>\n",
       "      <td>933.159722</td>\n",
       "      <td>1</td>\n",
       "      <td>0</td>\n",
       "      <td>0</td>\n",
       "      <td>1</td>\n",
       "    </tr>\n",
       "    <tr>\n",
       "      <th>3</th>\n",
       "      <td>2</td>\n",
       "      <td>929.921143</td>\n",
       "      <td>1</td>\n",
       "      <td>1</td>\n",
       "      <td>0</td>\n",
       "      <td>1</td>\n",
       "    </tr>\n",
       "    <tr>\n",
       "      <th>4</th>\n",
       "      <td>2</td>\n",
       "      <td>999.009247</td>\n",
       "      <td>1</td>\n",
       "      <td>0</td>\n",
       "      <td>1</td>\n",
       "      <td>0</td>\n",
       "    </tr>\n",
       "  </tbody>\n",
       "</table>\n",
       "</div>"
      ],
      "text/plain": [
       "   BHK_NO.    SQUARE_FT  RESALE  tier2  POSTED_BY_Dealer  POSTED_BY_Owner\n",
       "0        2  1300.236407       1      0                 0                1\n",
       "1        2  1275.000000       1      1                 1                0\n",
       "2        2   933.159722       1      0                 0                1\n",
       "3        2   929.921143       1      1                 0                1\n",
       "4        2   999.009247       1      0                 1                0"
      ]
     },
     "execution_count": 91,
     "metadata": {},
     "output_type": "execute_result"
    }
   ],
   "source": [
    "X_b=X[list(sfs.k_feature_names_)]\n",
    "X_b.head()"
   ]
  },
  {
   "cell_type": "code",
   "execution_count": 92,
   "metadata": {},
   "outputs": [
    {
     "data": {
      "text/plain": [
       "(29443, 6)"
      ]
     },
     "execution_count": 92,
     "metadata": {},
     "output_type": "execute_result"
    }
   ],
   "source": [
    "X_b.shape"
   ]
  },
  {
   "cell_type": "code",
   "execution_count": 93,
   "metadata": {},
   "outputs": [
    {
     "data": {
      "text/html": [
       "<table class=\"simpletable\">\n",
       "<caption>OLS Regression Results</caption>\n",
       "<tr>\n",
       "  <th>Dep. Variable:</th>    <td>TARGET(PRICE_IN_LACS)</td> <th>  R-squared:         </th>  <td>   0.722</td>  \n",
       "</tr>\n",
       "<tr>\n",
       "  <th>Model:</th>                     <td>OLS</td>          <th>  Adj. R-squared:    </th>  <td>   0.722</td>  \n",
       "</tr>\n",
       "<tr>\n",
       "  <th>Method:</th>               <td>Least Squares</td>     <th>  F-statistic:       </th>  <td>   9573.</td>  \n",
       "</tr>\n",
       "<tr>\n",
       "  <th>Date:</th>               <td>Thu, 28 Apr 2022</td>    <th>  Prob (F-statistic):</th>   <td>  0.00</td>   \n",
       "</tr>\n",
       "<tr>\n",
       "  <th>Time:</th>                   <td>01:44:25</td>        <th>  Log-Likelihood:    </th> <td>-1.5715e+05</td>\n",
       "</tr>\n",
       "<tr>\n",
       "  <th>No. Observations:</th>        <td> 22082</td>         <th>  AIC:               </th>  <td>3.143e+05</td> \n",
       "</tr>\n",
       "<tr>\n",
       "  <th>Df Residuals:</th>            <td> 22075</td>         <th>  BIC:               </th>  <td>3.144e+05</td> \n",
       "</tr>\n",
       "<tr>\n",
       "  <th>Df Model:</th>                <td>     6</td>         <th>                     </th>      <td> </td>     \n",
       "</tr>\n",
       "<tr>\n",
       "  <th>Covariance Type:</th>        <td>nonrobust</td>       <th>                     </th>      <td> </td>     \n",
       "</tr>\n",
       "</table>\n",
       "<table class=\"simpletable\">\n",
       "<tr>\n",
       "          <td></td>            <th>coef</th>     <th>std err</th>      <th>t</th>      <th>P>|t|</th>  <th>[0.025</th>    <th>0.975]</th>  \n",
       "</tr>\n",
       "<tr>\n",
       "  <th>const</th>            <td>  -30.8918</td> <td>   14.628</td> <td>   -2.112</td> <td> 0.035</td> <td>  -59.563</td> <td>   -2.220</td>\n",
       "</tr>\n",
       "<tr>\n",
       "  <th>BHK_NO.</th>          <td>   27.4309</td> <td>    2.312</td> <td>   11.862</td> <td> 0.000</td> <td>   22.898</td> <td>   31.963</td>\n",
       "</tr>\n",
       "<tr>\n",
       "  <th>SQUARE_FT</th>        <td>    0.0608</td> <td>    0.000</td> <td>  225.263</td> <td> 0.000</td> <td>    0.060</td> <td>    0.061</td>\n",
       "</tr>\n",
       "<tr>\n",
       "  <th>RESALE</th>           <td> -153.4611</td> <td>    9.638</td> <td>  -15.923</td> <td> 0.000</td> <td> -172.352</td> <td> -134.570</td>\n",
       "</tr>\n",
       "<tr>\n",
       "  <th>tier2</th>            <td>  -81.3000</td> <td>    4.283</td> <td>  -18.984</td> <td> 0.000</td> <td>  -89.694</td> <td>  -72.906</td>\n",
       "</tr>\n",
       "<tr>\n",
       "  <th>POSTED_BY_Dealer</th> <td>  187.0522</td> <td>   16.447</td> <td>   11.373</td> <td> 0.000</td> <td>  154.816</td> <td>  219.289</td>\n",
       "</tr>\n",
       "<tr>\n",
       "  <th>POSTED_BY_Owner</th>  <td>  139.4636</td> <td>   16.954</td> <td>    8.226</td> <td> 0.000</td> <td>  106.232</td> <td>  172.695</td>\n",
       "</tr>\n",
       "</table>\n",
       "<table class=\"simpletable\">\n",
       "<tr>\n",
       "  <th>Omnibus:</th>       <td>33573.634</td> <th>  Durbin-Watson:     </th>   <td>   2.015</td>  \n",
       "</tr>\n",
       "<tr>\n",
       "  <th>Prob(Omnibus):</th>  <td> 0.000</td>   <th>  Jarque-Bera (JB):  </th> <td>58698663.296</td>\n",
       "</tr>\n",
       "<tr>\n",
       "  <th>Skew:</th>           <td> 8.974</td>   <th>  Prob(JB):          </th>   <td>    0.00</td>  \n",
       "</tr>\n",
       "<tr>\n",
       "  <th>Kurtosis:</th>       <td>254.942</td>  <th>  Cond. No.          </th>   <td>1.05e+05</td>  \n",
       "</tr>\n",
       "</table><br/><br/>Notes:<br/>[1] Standard Errors assume that the covariance matrix of the errors is correctly specified.<br/>[2] The condition number is large, 1.05e+05. This might indicate that there are<br/>strong multicollinearity or other numerical problems."
      ],
      "text/plain": [
       "<class 'statsmodels.iolib.summary.Summary'>\n",
       "\"\"\"\n",
       "                              OLS Regression Results                             \n",
       "=================================================================================\n",
       "Dep. Variable:     TARGET(PRICE_IN_LACS)   R-squared:                       0.722\n",
       "Model:                               OLS   Adj. R-squared:                  0.722\n",
       "Method:                    Least Squares   F-statistic:                     9573.\n",
       "Date:                   Thu, 28 Apr 2022   Prob (F-statistic):               0.00\n",
       "Time:                           01:44:25   Log-Likelihood:            -1.5715e+05\n",
       "No. Observations:                  22082   AIC:                         3.143e+05\n",
       "Df Residuals:                      22075   BIC:                         3.144e+05\n",
       "Df Model:                              6                                         \n",
       "Covariance Type:               nonrobust                                         \n",
       "====================================================================================\n",
       "                       coef    std err          t      P>|t|      [0.025      0.975]\n",
       "------------------------------------------------------------------------------------\n",
       "const              -30.8918     14.628     -2.112      0.035     -59.563      -2.220\n",
       "BHK_NO.             27.4309      2.312     11.862      0.000      22.898      31.963\n",
       "SQUARE_FT            0.0608      0.000    225.263      0.000       0.060       0.061\n",
       "RESALE            -153.4611      9.638    -15.923      0.000    -172.352    -134.570\n",
       "tier2              -81.3000      4.283    -18.984      0.000     -89.694     -72.906\n",
       "POSTED_BY_Dealer   187.0522     16.447     11.373      0.000     154.816     219.289\n",
       "POSTED_BY_Owner    139.4636     16.954      8.226      0.000     106.232     172.695\n",
       "==============================================================================\n",
       "Omnibus:                    33573.634   Durbin-Watson:                   2.015\n",
       "Prob(Omnibus):                  0.000   Jarque-Bera (JB):         58698663.296\n",
       "Skew:                           8.974   Prob(JB):                         0.00\n",
       "Kurtosis:                     254.942   Cond. No.                     1.05e+05\n",
       "==============================================================================\n",
       "\n",
       "Notes:\n",
       "[1] Standard Errors assume that the covariance matrix of the errors is correctly specified.\n",
       "[2] The condition number is large, 1.05e+05. This might indicate that there are\n",
       "strong multicollinearity or other numerical problems.\n",
       "\"\"\""
      ]
     },
     "execution_count": 93,
     "metadata": {},
     "output_type": "execute_result"
    }
   ],
   "source": [
    "from sklearn.model_selection import train_test_split\n",
    "X_trainb,X_testb,y_trainb,y_testb=train_test_split(X_b,y,random_state=1)\n",
    "X_trainb=sm.add_constant(X_trainb)\n",
    "lin_reg_b=sm.OLS(y_trainb,X_trainb).fit()\n",
    "lin_reg_b.summary()"
   ]
  },
  {
   "cell_type": "code",
   "execution_count": 94,
   "metadata": {},
   "outputs": [
    {
     "data": {
      "text/plain": [
       "0.7223691189512513"
      ]
     },
     "execution_count": 94,
     "metadata": {},
     "output_type": "execute_result"
    }
   ],
   "source": [
    "lin_reg_b.rsquared"
   ]
  },
  {
   "cell_type": "code",
   "execution_count": 95,
   "metadata": {},
   "outputs": [
    {
     "name": "stdout",
     "output_type": "stream",
     "text": [
      "train rmse is 298.24141956934307\n",
      "test rmse is 372.4218186048326\n"
     ]
    }
   ],
   "source": [
    "X_testb=sm.add_constant(X_testb)\n",
    "y_pred_test_1=lin_reg_b.predict(X_testb)\n",
    "from statsmodels.tools.eval_measures import rmse\n",
    "test_rmse=rmse(y_testb,y_pred_test_1)\n",
    "train_rmse=rmse(y_trainb,lin_reg_b.predict(X_trainb))\n",
    "print(\"train rmse is {}\".format(train_rmse))\n",
    "print(\"test rmse is {}\".format(test_rmse))"
   ]
  },
  {
   "cell_type": "markdown",
   "metadata": {},
   "source": [
    "# Graphical visualization of forward selection"
   ]
  },
  {
   "cell_type": "code",
   "execution_count": 96,
   "metadata": {},
   "outputs": [
    {
     "data": {
      "text/plain": [
       "SequentialFeatureSelector(cv=0, estimator=LinearRegression(),\n",
       "                          k_features=(3, 13))"
      ]
     },
     "execution_count": 96,
     "metadata": {},
     "output_type": "execute_result"
    }
   ],
   "source": [
    "sfs1 = SFS(LinearRegression(),\n",
    "         k_features=(3,13),\n",
    "         forward=True,\n",
    "         floating=False,\n",
    "         cv=0)\n",
    "sfs1.fit(X, y)"
   ]
  },
  {
   "cell_type": "code",
   "execution_count": 97,
   "metadata": {},
   "outputs": [
    {
     "data": {
      "image/png": "[encoded data removed]",
      "text/plain": [
       "<Figure size 432x288 with 1 Axes>"
      ]
     },
     "metadata": {
      "needs_background": "light"
     },
     "output_type": "display_data"
    }
   ],
   "source": [
    "from mlxtend.plotting import plot_sequential_feature_selection as plot_sfs\n",
    "import matplotlib.pyplot as plt\n",
    "fig1 = plot_sfs(sfs1.get_metric_dict(), kind='std_dev')\n",
    "plt.title('Sequential Forward Selection (w. StdErr)')\n",
    "plt.grid()\n",
    "plt.show()"
   ]
  },
  {
   "cell_type": "code",
   "execution_count": 98,
   "metadata": {},
   "outputs": [
    {
     "data": {
      "text/plain": [
       "(29443, 13)"
      ]
     },
     "execution_count": 98,
     "metadata": {},
     "output_type": "execute_result"
    }
   ],
   "source": [
    "X.shape"
   ]
  },
  {
   "cell_type": "code",
   "execution_count": 99,
   "metadata": {},
   "outputs": [
    {
     "data": {
      "text/plain": [
       "SequentialFeatureSelector(cv=0, estimator=LinearRegression(), forward=False,\n",
       "                          k_features=(3, 13))"
      ]
     },
     "execution_count": 99,
     "metadata": {},
     "output_type": "execute_result"
    }
   ],
   "source": [
    "sfs2 = SFS(LinearRegression(),\n",
    "         k_features=(3,13),\n",
    "         forward=False,\n",
    "         floating=False,\n",
    "         cv=0)\n",
    "sfs2.fit(X, y)"
   ]
  },
  {
   "cell_type": "code",
   "execution_count": 100,
   "metadata": {},
   "outputs": [
    {
     "data": {
      "image/png": "[encoded data removed]",
      "text/plain": [
       "<Figure size 432x288 with 1 Axes>"
      ]
     },
     "metadata": {
      "needs_background": "light"
     },
     "output_type": "display_data"
    }
   ],
   "source": [
    "from mlxtend.plotting import plot_sequential_feature_selection as plot_sfs\n",
    "import matplotlib.pyplot as plt\n",
    "fig1 = plot_sfs(sfs2.get_metric_dict(), kind='std_dev')\n",
    "plt.title('Sequential Backward Selection (w. StdErr)')\n",
    "plt.grid()\n",
    "plt.show()"
   ]
  },
  {
   "cell_type": "markdown",
   "metadata": {},
   "source": [
    "# Stepwise selection technique or Bi-directional elimination"
   ]
  },
  {
   "cell_type": "code",
   "execution_count": 101,
   "metadata": {},
   "outputs": [
    {
     "data": {
      "text/plain": [
       "['BHK_NO.',\n",
       " 'SQUARE_FT',\n",
       " 'RESALE',\n",
       " 'tier2',\n",
       " 'POSTED_BY_Dealer',\n",
       " 'POSTED_BY_Owner']"
      ]
     },
     "execution_count": 101,
     "metadata": {},
     "output_type": "execute_result"
    }
   ],
   "source": [
    "sffs = SFS(LinearRegression(),\n",
    "         k_features=(3,6),\n",
    "         forward=True,\n",
    "         floating=True,\n",
    "         cv=0)\n",
    "sffs.fit(X, y)\n",
    "list(sffs.k_feature_names_)"
   ]
  },
  {
   "cell_type": "code",
   "execution_count": 102,
   "metadata": {
    "scrolled": true
   },
   "outputs": [
    {
     "data": {
      "text/html": [
       "<div>\n",
       "<style scoped>\n",
       "    .dataframe tbody tr th:only-of-type {\n",
       "        vertical-align: middle;\n",
       "    }\n",
       "\n",
       "    .dataframe tbody tr th {\n",
       "        vertical-align: top;\n",
       "    }\n",
       "\n",
       "    .dataframe thead th {\n",
       "        text-align: right;\n",
       "    }\n",
       "</style>\n",
       "<table border=\"1\" class=\"dataframe\">\n",
       "  <thead>\n",
       "    <tr style=\"text-align: right;\">\n",
       "      <th></th>\n",
       "      <th>BHK_NO.</th>\n",
       "      <th>SQUARE_FT</th>\n",
       "      <th>RESALE</th>\n",
       "      <th>tier2</th>\n",
       "      <th>POSTED_BY_Dealer</th>\n",
       "      <th>POSTED_BY_Owner</th>\n",
       "    </tr>\n",
       "  </thead>\n",
       "  <tbody>\n",
       "    <tr>\n",
       "      <th>0</th>\n",
       "      <td>2</td>\n",
       "      <td>1300.236407</td>\n",
       "      <td>1</td>\n",
       "      <td>0</td>\n",
       "      <td>0</td>\n",
       "      <td>1</td>\n",
       "    </tr>\n",
       "    <tr>\n",
       "      <th>1</th>\n",
       "      <td>2</td>\n",
       "      <td>1275.000000</td>\n",
       "      <td>1</td>\n",
       "      <td>1</td>\n",
       "      <td>1</td>\n",
       "      <td>0</td>\n",
       "    </tr>\n",
       "    <tr>\n",
       "      <th>2</th>\n",
       "      <td>2</td>\n",
       "      <td>933.159722</td>\n",
       "      <td>1</td>\n",
       "      <td>0</td>\n",
       "      <td>0</td>\n",
       "      <td>1</td>\n",
       "    </tr>\n",
       "    <tr>\n",
       "      <th>3</th>\n",
       "      <td>2</td>\n",
       "      <td>929.921143</td>\n",
       "      <td>1</td>\n",
       "      <td>1</td>\n",
       "      <td>0</td>\n",
       "      <td>1</td>\n",
       "    </tr>\n",
       "    <tr>\n",
       "      <th>4</th>\n",
       "      <td>2</td>\n",
       "      <td>999.009247</td>\n",
       "      <td>1</td>\n",
       "      <td>0</td>\n",
       "      <td>1</td>\n",
       "      <td>0</td>\n",
       "    </tr>\n",
       "  </tbody>\n",
       "</table>\n",
       "</div>"
      ],
      "text/plain": [
       "   BHK_NO.    SQUARE_FT  RESALE  tier2  POSTED_BY_Dealer  POSTED_BY_Owner\n",
       "0        2  1300.236407       1      0                 0                1\n",
       "1        2  1275.000000       1      1                 1                0\n",
       "2        2   933.159722       1      0                 0                1\n",
       "3        2   929.921143       1      1                 0                1\n",
       "4        2   999.009247       1      0                 1                0"
      ]
     },
     "execution_count": 102,
     "metadata": {},
     "output_type": "execute_result"
    }
   ],
   "source": [
    "X_mix=X[list(sffs.k_feature_names_)]\n",
    "X_mix.head()"
   ]
  },
  {
   "cell_type": "code",
   "execution_count": 103,
   "metadata": {},
   "outputs": [
    {
     "data": {
      "text/plain": [
       "(29443, 6)"
      ]
     },
     "execution_count": 103,
     "metadata": {},
     "output_type": "execute_result"
    }
   ],
   "source": [
    "X_mix.shape"
   ]
  },
  {
   "cell_type": "code",
   "execution_count": 104,
   "metadata": {},
   "outputs": [
    {
     "data": {
      "text/html": [
       "<table class=\"simpletable\">\n",
       "<caption>OLS Regression Results</caption>\n",
       "<tr>\n",
       "  <th>Dep. Variable:</th>    <td>TARGET(PRICE_IN_LACS)</td> <th>  R-squared:         </th>  <td>   0.722</td>  \n",
       "</tr>\n",
       "<tr>\n",
       "  <th>Model:</th>                     <td>OLS</td>          <th>  Adj. R-squared:    </th>  <td>   0.722</td>  \n",
       "</tr>\n",
       "<tr>\n",
       "  <th>Method:</th>               <td>Least Squares</td>     <th>  F-statistic:       </th>  <td>   9573.</td>  \n",
       "</tr>\n",
       "<tr>\n",
       "  <th>Date:</th>               <td>Thu, 28 Apr 2022</td>    <th>  Prob (F-statistic):</th>   <td>  0.00</td>   \n",
       "</tr>\n",
       "<tr>\n",
       "  <th>Time:</th>                   <td>01:44:38</td>        <th>  Log-Likelihood:    </th> <td>-1.5715e+05</td>\n",
       "</tr>\n",
       "<tr>\n",
       "  <th>No. Observations:</th>        <td> 22082</td>         <th>  AIC:               </th>  <td>3.143e+05</td> \n",
       "</tr>\n",
       "<tr>\n",
       "  <th>Df Residuals:</th>            <td> 22075</td>         <th>  BIC:               </th>  <td>3.144e+05</td> \n",
       "</tr>\n",
       "<tr>\n",
       "  <th>Df Model:</th>                <td>     6</td>         <th>                     </th>      <td> </td>     \n",
       "</tr>\n",
       "<tr>\n",
       "  <th>Covariance Type:</th>        <td>nonrobust</td>       <th>                     </th>      <td> </td>     \n",
       "</tr>\n",
       "</table>\n",
       "<table class=\"simpletable\">\n",
       "<tr>\n",
       "          <td></td>            <th>coef</th>     <th>std err</th>      <th>t</th>      <th>P>|t|</th>  <th>[0.025</th>    <th>0.975]</th>  \n",
       "</tr>\n",
       "<tr>\n",
       "  <th>const</th>            <td>  -30.8918</td> <td>   14.628</td> <td>   -2.112</td> <td> 0.035</td> <td>  -59.563</td> <td>   -2.220</td>\n",
       "</tr>\n",
       "<tr>\n",
       "  <th>BHK_NO.</th>          <td>   27.4309</td> <td>    2.312</td> <td>   11.862</td> <td> 0.000</td> <td>   22.898</td> <td>   31.963</td>\n",
       "</tr>\n",
       "<tr>\n",
       "  <th>SQUARE_FT</th>        <td>    0.0608</td> <td>    0.000</td> <td>  225.263</td> <td> 0.000</td> <td>    0.060</td> <td>    0.061</td>\n",
       "</tr>\n",
       "<tr>\n",
       "  <th>RESALE</th>           <td> -153.4611</td> <td>    9.638</td> <td>  -15.923</td> <td> 0.000</td> <td> -172.352</td> <td> -134.570</td>\n",
       "</tr>\n",
       "<tr>\n",
       "  <th>tier2</th>            <td>  -81.3000</td> <td>    4.283</td> <td>  -18.984</td> <td> 0.000</td> <td>  -89.694</td> <td>  -72.906</td>\n",
       "</tr>\n",
       "<tr>\n",
       "  <th>POSTED_BY_Dealer</th> <td>  187.0522</td> <td>   16.447</td> <td>   11.373</td> <td> 0.000</td> <td>  154.816</td> <td>  219.289</td>\n",
       "</tr>\n",
       "<tr>\n",
       "  <th>POSTED_BY_Owner</th>  <td>  139.4636</td> <td>   16.954</td> <td>    8.226</td> <td> 0.000</td> <td>  106.232</td> <td>  172.695</td>\n",
       "</tr>\n",
       "</table>\n",
       "<table class=\"simpletable\">\n",
       "<tr>\n",
       "  <th>Omnibus:</th>       <td>33573.634</td> <th>  Durbin-Watson:     </th>   <td>   2.015</td>  \n",
       "</tr>\n",
       "<tr>\n",
       "  <th>Prob(Omnibus):</th>  <td> 0.000</td>   <th>  Jarque-Bera (JB):  </th> <td>58698663.296</td>\n",
       "</tr>\n",
       "<tr>\n",
       "  <th>Skew:</th>           <td> 8.974</td>   <th>  Prob(JB):          </th>   <td>    0.00</td>  \n",
       "</tr>\n",
       "<tr>\n",
       "  <th>Kurtosis:</th>       <td>254.942</td>  <th>  Cond. No.          </th>   <td>1.05e+05</td>  \n",
       "</tr>\n",
       "</table><br/><br/>Notes:<br/>[1] Standard Errors assume that the covariance matrix of the errors is correctly specified.<br/>[2] The condition number is large, 1.05e+05. This might indicate that there are<br/>strong multicollinearity or other numerical problems."
      ],
      "text/plain": [
       "<class 'statsmodels.iolib.summary.Summary'>\n",
       "\"\"\"\n",
       "                              OLS Regression Results                             \n",
       "=================================================================================\n",
       "Dep. Variable:     TARGET(PRICE_IN_LACS)   R-squared:                       0.722\n",
       "Model:                               OLS   Adj. R-squared:                  0.722\n",
       "Method:                    Least Squares   F-statistic:                     9573.\n",
       "Date:                   Thu, 28 Apr 2022   Prob (F-statistic):               0.00\n",
       "Time:                           01:44:38   Log-Likelihood:            -1.5715e+05\n",
       "No. Observations:                  22082   AIC:                         3.143e+05\n",
       "Df Residuals:                      22075   BIC:                         3.144e+05\n",
       "Df Model:                              6                                         \n",
       "Covariance Type:               nonrobust                                         \n",
       "====================================================================================\n",
       "                       coef    std err          t      P>|t|      [0.025      0.975]\n",
       "------------------------------------------------------------------------------------\n",
       "const              -30.8918     14.628     -2.112      0.035     -59.563      -2.220\n",
       "BHK_NO.             27.4309      2.312     11.862      0.000      22.898      31.963\n",
       "SQUARE_FT            0.0608      0.000    225.263      0.000       0.060       0.061\n",
       "RESALE            -153.4611      9.638    -15.923      0.000    -172.352    -134.570\n",
       "tier2              -81.3000      4.283    -18.984      0.000     -89.694     -72.906\n",
       "POSTED_BY_Dealer   187.0522     16.447     11.373      0.000     154.816     219.289\n",
       "POSTED_BY_Owner    139.4636     16.954      8.226      0.000     106.232     172.695\n",
       "==============================================================================\n",
       "Omnibus:                    33573.634   Durbin-Watson:                   2.015\n",
       "Prob(Omnibus):                  0.000   Jarque-Bera (JB):         58698663.296\n",
       "Skew:                           8.974   Prob(JB):                         0.00\n",
       "Kurtosis:                     254.942   Cond. No.                     1.05e+05\n",
       "==============================================================================\n",
       "\n",
       "Notes:\n",
       "[1] Standard Errors assume that the covariance matrix of the errors is correctly specified.\n",
       "[2] The condition number is large, 1.05e+05. This might indicate that there are\n",
       "strong multicollinearity or other numerical problems.\n",
       "\"\"\""
      ]
     },
     "execution_count": 104,
     "metadata": {},
     "output_type": "execute_result"
    }
   ],
   "source": [
    "from sklearn.model_selection import train_test_split\n",
    "X_trainmix,X_testmix,y_trainmix,y_testmix=train_test_split(X_mix,y,random_state=1)\n",
    "X_trainmix=sm.add_constant(X_trainmix)\n",
    "lin_reg_mix=sm.OLS(y_trainmix,X_trainmix).fit()\n",
    "lin_reg_mix.summary()"
   ]
  },
  {
   "cell_type": "code",
   "execution_count": 105,
   "metadata": {},
   "outputs": [
    {
     "data": {
      "text/plain": [
       "0.7223691189512513"
      ]
     },
     "execution_count": 105,
     "metadata": {},
     "output_type": "execute_result"
    }
   ],
   "source": [
    "lin_reg_mix.rsquared"
   ]
  },
  {
   "cell_type": "markdown",
   "metadata": {},
   "source": [
    "# Using PCA"
   ]
  },
  {
   "cell_type": "code",
   "execution_count": 106,
   "metadata": {},
   "outputs": [],
   "source": [
    "from sklearn.decomposition import PCA"
   ]
  },
  {
   "cell_type": "code",
   "execution_count": 107,
   "metadata": {},
   "outputs": [
    {
     "data": {
      "text/plain": [
       "array([9.99997670e-01, 1.72675474e-06, 5.69515471e-07, 1.18099131e-08,\n",
       "       7.93243541e-09, 4.03554151e-09, 3.77382712e-09, 3.14738226e-09,\n",
       "       1.68315220e-09, 8.11208796e-10, 1.05480018e-10, 1.23865955e-11,\n",
       "       2.17419005e-40])"
      ]
     },
     "execution_count": 107,
     "metadata": {},
     "output_type": "execute_result"
    }
   ],
   "source": [
    "pca_1=PCA(n_components=13)\n",
    "pca_1.fit(X)\n",
    "pca_1.explained_variance_ratio_"
   ]
  },
  {
   "cell_type": "code",
   "execution_count": 108,
   "metadata": {},
   "outputs": [
    {
     "data": {
      "text/plain": [
       "array([ 3.19142186e-03, -3.36331042e-03,  4.83854999e-06, -4.27209494e-05,\n",
       "       -3.26261019e-04,  1.35436552e-01, -9.90752605e-01, -4.92972107e-03,\n",
       "        1.05465449e-03,  3.87506658e-03,  1.45370133e-03, -1.43759400e-03,\n",
       "        1.15193126e-06])"
      ]
     },
     "execution_count": 108,
     "metadata": {},
     "output_type": "execute_result"
    }
   ],
   "source": [
    "pca_1.components_[1]"
   ]
  },
  {
   "cell_type": "code",
   "execution_count": 109,
   "metadata": {},
   "outputs": [],
   "source": [
    "X_pca=pca_1.fit_transform(X)"
   ]
  },
  {
   "cell_type": "code",
   "execution_count": 110,
   "metadata": {},
   "outputs": [
    {
     "data": {
      "text/html": [
       "<table class=\"simpletable\">\n",
       "<caption>OLS Regression Results</caption>\n",
       "<tr>\n",
       "  <th>Dep. Variable:</th>    <td>TARGET(PRICE_IN_LACS)</td> <th>  R-squared:         </th>  <td>   0.725</td>  \n",
       "</tr>\n",
       "<tr>\n",
       "  <th>Model:</th>                     <td>OLS</td>          <th>  Adj. R-squared:    </th>  <td>   0.724</td>  \n",
       "</tr>\n",
       "<tr>\n",
       "  <th>Method:</th>               <td>Least Squares</td>     <th>  F-statistic:       </th>  <td>   4839.</td>  \n",
       "</tr>\n",
       "<tr>\n",
       "  <th>Date:</th>               <td>Thu, 28 Apr 2022</td>    <th>  Prob (F-statistic):</th>   <td>  0.00</td>   \n",
       "</tr>\n",
       "<tr>\n",
       "  <th>Time:</th>                   <td>01:44:43</td>        <th>  Log-Likelihood:    </th> <td>-1.5706e+05</td>\n",
       "</tr>\n",
       "<tr>\n",
       "  <th>No. Observations:</th>        <td> 22082</td>         <th>  AIC:               </th>  <td>3.142e+05</td> \n",
       "</tr>\n",
       "<tr>\n",
       "  <th>Df Residuals:</th>            <td> 22069</td>         <th>  BIC:               </th>  <td>3.143e+05</td> \n",
       "</tr>\n",
       "<tr>\n",
       "  <th>Df Model:</th>                <td>    12</td>         <th>                     </th>      <td> </td>     \n",
       "</tr>\n",
       "<tr>\n",
       "  <th>Covariance Type:</th>        <td>nonrobust</td>       <th>                     </th>      <td> </td>     \n",
       "</tr>\n",
       "</table>\n",
       "<table class=\"simpletable\">\n",
       "<tr>\n",
       "    <td></td>       <th>coef</th>     <th>std err</th>      <th>t</th>      <th>P>|t|</th>  <th>[0.025</th>    <th>0.975]</th>  \n",
       "</tr>\n",
       "<tr>\n",
       "  <th>const</th> <td>  139.4352</td> <td>    2.000</td> <td>   69.728</td> <td> 0.000</td> <td>  135.516</td> <td>  143.355</td>\n",
       "</tr>\n",
       "<tr>\n",
       "  <th>x1</th>    <td>    0.0621</td> <td>    0.000</td> <td>  238.015</td> <td> 0.000</td> <td>    0.062</td> <td>    0.063</td>\n",
       "</tr>\n",
       "<tr>\n",
       "  <th>x2</th>    <td>    1.0925</td> <td>    0.190</td> <td>    5.749</td> <td> 0.000</td> <td>    0.720</td> <td>    1.465</td>\n",
       "</tr>\n",
       "<tr>\n",
       "  <th>x3</th>    <td>    3.3349</td> <td>    0.328</td> <td>   10.168</td> <td> 0.000</td> <td>    2.692</td> <td>    3.978</td>\n",
       "</tr>\n",
       "<tr>\n",
       "  <th>x4</th>    <td>   26.6557</td> <td>    2.261</td> <td>   11.791</td> <td> 0.000</td> <td>   22.225</td> <td>   31.087</td>\n",
       "</tr>\n",
       "<tr>\n",
       "  <th>x5</th>    <td>  -60.6517</td> <td>    2.774</td> <td>  -21.865</td> <td> 0.000</td> <td>  -66.089</td> <td>  -55.215</td>\n",
       "</tr>\n",
       "<tr>\n",
       "  <th>x6</th>    <td>   42.5291</td> <td>    3.896</td> <td>   10.917</td> <td> 0.000</td> <td>   34.893</td> <td>   50.165</td>\n",
       "</tr>\n",
       "<tr>\n",
       "  <th>x7</th>    <td>  -41.0850</td> <td>    4.027</td> <td>  -10.202</td> <td> 0.000</td> <td>  -48.978</td> <td>  -33.192</td>\n",
       "</tr>\n",
       "<tr>\n",
       "  <th>x8</th>    <td>  -22.6720</td> <td>    4.413</td> <td>   -5.137</td> <td> 0.000</td> <td>  -31.322</td> <td>  -14.022</td>\n",
       "</tr>\n",
       "<tr>\n",
       "  <th>x9</th>    <td>   -7.7573</td> <td>    6.004</td> <td>   -1.292</td> <td> 0.196</td> <td>  -19.525</td> <td>    4.010</td>\n",
       "</tr>\n",
       "<tr>\n",
       "  <th>x10</th>   <td>   93.3104</td> <td>    8.675</td> <td>   10.757</td> <td> 0.000</td> <td>   76.308</td> <td>  110.313</td>\n",
       "</tr>\n",
       "<tr>\n",
       "  <th>x11</th>   <td> -260.2069</td> <td>   24.004</td> <td>  -10.840</td> <td> 0.000</td> <td> -307.257</td> <td> -213.157</td>\n",
       "</tr>\n",
       "<tr>\n",
       "  <th>x12</th>   <td>  -26.6295</td> <td>   79.618</td> <td>   -0.334</td> <td> 0.738</td> <td> -182.687</td> <td>  129.428</td>\n",
       "</tr>\n",
       "<tr>\n",
       "  <th>x13</th>   <td>-5.187e-15</td> <td> 6.19e-16</td> <td>   -8.382</td> <td> 0.000</td> <td> -6.4e-15</td> <td>-3.97e-15</td>\n",
       "</tr>\n",
       "</table>\n",
       "<table class=\"simpletable\">\n",
       "<tr>\n",
       "  <th>Omnibus:</th>       <td>33530.062</td> <th>  Durbin-Watson:     </th>   <td>   2.012</td>  \n",
       "</tr>\n",
       "<tr>\n",
       "  <th>Prob(Omnibus):</th>  <td> 0.000</td>   <th>  Jarque-Bera (JB):  </th> <td>59308372.128</td>\n",
       "</tr>\n",
       "<tr>\n",
       "  <th>Skew:</th>           <td> 8.944</td>   <th>  Prob(JB):          </th>   <td>    0.00</td>  \n",
       "</tr>\n",
       "<tr>\n",
       "  <th>Kurtosis:</th>       <td>256.258</td>  <th>  Cond. No.          </th>   <td>6.89e+19</td>  \n",
       "</tr>\n",
       "</table><br/><br/>Notes:<br/>[1] Standard Errors assume that the covariance matrix of the errors is correctly specified.<br/>[2] The smallest eigenvalue is 2.74e-28. This might indicate that there are<br/>strong multicollinearity problems or that the design matrix is singular."
      ],
      "text/plain": [
       "<class 'statsmodels.iolib.summary.Summary'>\n",
       "\"\"\"\n",
       "                              OLS Regression Results                             \n",
       "=================================================================================\n",
       "Dep. Variable:     TARGET(PRICE_IN_LACS)   R-squared:                       0.725\n",
       "Model:                               OLS   Adj. R-squared:                  0.724\n",
       "Method:                    Least Squares   F-statistic:                     4839.\n",
       "Date:                   Thu, 28 Apr 2022   Prob (F-statistic):               0.00\n",
       "Time:                           01:44:43   Log-Likelihood:            -1.5706e+05\n",
       "No. Observations:                  22082   AIC:                         3.142e+05\n",
       "Df Residuals:                      22069   BIC:                         3.143e+05\n",
       "Df Model:                             12                                         \n",
       "Covariance Type:               nonrobust                                         \n",
       "==============================================================================\n",
       "                 coef    std err          t      P>|t|      [0.025      0.975]\n",
       "------------------------------------------------------------------------------\n",
       "const        139.4352      2.000     69.728      0.000     135.516     143.355\n",
       "x1             0.0621      0.000    238.015      0.000       0.062       0.063\n",
       "x2             1.0925      0.190      5.749      0.000       0.720       1.465\n",
       "x3             3.3349      0.328     10.168      0.000       2.692       3.978\n",
       "x4            26.6557      2.261     11.791      0.000      22.225      31.087\n",
       "x5           -60.6517      2.774    -21.865      0.000     -66.089     -55.215\n",
       "x6            42.5291      3.896     10.917      0.000      34.893      50.165\n",
       "x7           -41.0850      4.027    -10.202      0.000     -48.978     -33.192\n",
       "x8           -22.6720      4.413     -5.137      0.000     -31.322     -14.022\n",
       "x9            -7.7573      6.004     -1.292      0.196     -19.525       4.010\n",
       "x10           93.3104      8.675     10.757      0.000      76.308     110.313\n",
       "x11         -260.2069     24.004    -10.840      0.000    -307.257    -213.157\n",
       "x12          -26.6295     79.618     -0.334      0.738    -182.687     129.428\n",
       "x13        -5.187e-15   6.19e-16     -8.382      0.000    -6.4e-15   -3.97e-15\n",
       "==============================================================================\n",
       "Omnibus:                    33530.062   Durbin-Watson:                   2.012\n",
       "Prob(Omnibus):                  0.000   Jarque-Bera (JB):         59308372.128\n",
       "Skew:                           8.944   Prob(JB):                         0.00\n",
       "Kurtosis:                     256.258   Cond. No.                     6.89e+19\n",
       "==============================================================================\n",
       "\n",
       "Notes:\n",
       "[1] Standard Errors assume that the covariance matrix of the errors is correctly specified.\n",
       "[2] The smallest eigenvalue is 2.74e-28. This might indicate that there are\n",
       "strong multicollinearity problems or that the design matrix is singular.\n",
       "\"\"\""
      ]
     },
     "execution_count": 110,
     "metadata": {},
     "output_type": "execute_result"
    }
   ],
   "source": [
    "from sklearn.model_selection import train_test_split\n",
    "X_train_p,X_test_p,y_train_p,y_test_p=train_test_split(X_pca,y,random_state=1)\n",
    "X_train_p=sm.add_constant(X_train_p)\n",
    "lin_reg_pca=sm.OLS(y_train_p,X_train_p).fit()\n",
    "lin_reg_pca.summary()"
   ]
  },
  {
   "cell_type": "code",
   "execution_count": 111,
   "metadata": {},
   "outputs": [
    {
     "data": {
      "text/plain": [
       "0.7246058050499264"
      ]
     },
     "execution_count": 111,
     "metadata": {},
     "output_type": "execute_result"
    }
   ],
   "source": [
    "lin_reg_pca.rsquared"
   ]
  },
  {
   "cell_type": "code",
   "execution_count": 112,
   "metadata": {},
   "outputs": [
    {
     "name": "stdout",
     "output_type": "stream",
     "text": [
      "train rmse is 297.0376244204375\n",
      "test rmse is 372.09561125721956\n"
     ]
    }
   ],
   "source": [
    "X_test_p=sm.add_constant(X_test_p)\n",
    "y_pred_test=lin_reg_pca.predict(X_test_p)\n",
    "from statsmodels.tools.eval_measures import rmse\n",
    "test_rmse=rmse(y_test_p,y_pred_test)\n",
    "train_rmse=rmse(y_train_p,lin_reg_pca.predict(X_train_p))\n",
    "print(\"train rmse is {}\".format(train_rmse))\n",
    "print(\"test rmse is {}\".format(test_rmse))\n"
   ]
  },
  {
   "cell_type": "markdown",
   "metadata": {},
   "source": [
    "# Using Lasso"
   ]
  },
  {
   "cell_type": "code",
   "execution_count": 113,
   "metadata": {},
   "outputs": [
    {
     "data": {
      "text/plain": [
       "Lasso()"
      ]
     },
     "execution_count": 113,
     "metadata": {},
     "output_type": "execute_result"
    }
   ],
   "source": [
    "from sklearn import linear_model\n",
    "lasso_reg=linear_model.Lasso()\n",
    "lasso_reg.fit(X_train,y_train)"
   ]
  },
  {
   "cell_type": "code",
   "execution_count": 114,
   "metadata": {},
   "outputs": [
    {
     "data": {
      "text/plain": [
       "array([ 0.00000000e+00,  7.06287181e+00,  2.83937641e+01,  6.11253139e-02,\n",
       "        9.86599549e+00, -8.98842937e+01, -2.34689582e+00, -1.20963689e+00,\n",
       "       -0.00000000e+00, -4.12714500e+01,  5.61544746e+01,  5.40587647e+01,\n",
       "        0.00000000e+00, -0.00000000e+00])"
      ]
     },
     "execution_count": 114,
     "metadata": {},
     "output_type": "execute_result"
    }
   ],
   "source": [
    "lasso_reg.coef_"
   ]
  },
  {
   "cell_type": "code",
   "execution_count": 115,
   "metadata": {},
   "outputs": [
    {
     "data": {
      "text/plain": [
       "13"
      ]
     },
     "execution_count": 115,
     "metadata": {},
     "output_type": "execute_result"
    }
   ],
   "source": [
    "len(X.columns)"
   ]
  },
  {
   "cell_type": "code",
   "execution_count": 120,
   "metadata": {},
   "outputs": [
    {
     "data": {
      "text/plain": [
       "0.7236023517295674"
      ]
     },
     "execution_count": 120,
     "metadata": {},
     "output_type": "execute_result"
    }
   ],
   "source": [
    "lasso_reg.score(X_train,y_train)"
   ]
  },
  {
   "cell_type": "code",
   "execution_count": 121,
   "metadata": {},
   "outputs": [
    {
     "ename": "AttributeError",
     "evalue": "'Lasso' object has no attribute 'rsquared'",
     "output_type": "error",
     "traceback": [
      "\u001b[1;31m---------------------------------------------------------------------------\u001b[0m",
      "\u001b[1;31mAttributeError\u001b[0m                            Traceback (most recent call last)",
      "\u001b[1;32m<ipython-input-121-9a5523854076>\u001b[0m in \u001b[0;36m<module>\u001b[1;34m\u001b[0m\n\u001b[1;32m----> 1\u001b[1;33m \u001b[0mlasso_reg\u001b[0m\u001b[1;33m.\u001b[0m\u001b[0mrsquared\u001b[0m\u001b[1;33m\u001b[0m\u001b[1;33m\u001b[0m\u001b[0m\n\u001b[0m",
      "\u001b[1;31mAttributeError\u001b[0m: 'Lasso' object has no attribute 'rsquared'"
     ]
    }
   ],
   "source": [
    "lasso_reg.rsquared"
   ]
  },
  {
   "cell_type": "code",
   "execution_count": 122,
   "metadata": {},
   "outputs": [
    {
     "name": "stdout",
     "output_type": "stream",
     "text": [
      "train rmse is 297.57829008484305\n",
      "test rmse is 373.54344381685854\n"
     ]
    }
   ],
   "source": [
    "X_test=sm.add_constant(X_test)\n",
    "y_pred_test=lasso_reg.predict(X_test)\n",
    "from statsmodels.tools.eval_measures import rmse\n",
    "test_rmse=rmse(y_test,y_pred_test)\n",
    "train_rmse=rmse(y_train,lasso_reg.predict(X_train))\n",
    "print(\"train rmse is {}\".format(train_rmse))\n",
    "print(\"test rmse is {}\".format(test_rmse))\n"
   ]
  },
  {
   "cell_type": "code",
   "execution_count": 123,
   "metadata": {},
   "outputs": [
    {
     "data": {
      "text/plain": [
       "Ridge()"
      ]
     },
     "execution_count": 123,
     "metadata": {},
     "output_type": "execute_result"
    }
   ],
   "source": [
    "from sklearn import linear_model\n",
    "ridge_reg=linear_model.Ridge()\n",
    "ridge_reg.fit(X_train,y_train)"
   ]
  },
  {
   "cell_type": "code",
   "execution_count": 124,
   "metadata": {},
   "outputs": [
    {
     "data": {
      "text/plain": [
       "array([ 0.00000000e+00,  1.23232599e+01,  3.00373078e+01,  6.07821457e-02,\n",
       "        2.24331104e+01, -1.52539487e+02, -2.33556499e+00, -1.17305665e+00,\n",
       "       -5.26903317e+00, -4.96946171e+01,  5.49636502e+01,  1.86145913e+02,\n",
       "        1.37433652e+02, -2.68233786e+01])"
      ]
     },
     "execution_count": 124,
     "metadata": {},
     "output_type": "execute_result"
    }
   ],
   "source": [
    "ridge_reg.coef_"
   ]
  },
  {
   "cell_type": "code",
   "execution_count": 125,
   "metadata": {},
   "outputs": [
    {
     "data": {
      "text/plain": [
       "0.724605735700259"
      ]
     },
     "execution_count": 125,
     "metadata": {},
     "output_type": "execute_result"
    }
   ],
   "source": [
    "ridge_reg.score(X_train,y_train)"
   ]
  },
  {
   "cell_type": "code",
   "execution_count": 126,
   "metadata": {},
   "outputs": [
    {
     "name": "stdout",
     "output_type": "stream",
     "text": [
      "train rmse is 297.03766182038925\n",
      "test rmse is 372.1040605689669\n"
     ]
    }
   ],
   "source": [
    "X_test=sm.add_constant(X_test)\n",
    "y_pred_test=ridge_reg.predict(X_test)\n",
    "from statsmodels.tools.eval_measures import rmse\n",
    "test_rmse=rmse(y_test,y_pred_test)\n",
    "train_rmse=rmse(y_train,ridge_reg.predict(X_train))\n",
    "print(\"train rmse is {}\".format(train_rmse))\n",
    "print(\"test rmse is {}\".format(test_rmse))\n"
   ]
  },
  {
   "cell_type": "code",
   "execution_count": null,
   "metadata": {},
   "outputs": [],
   "source": []
  },
  {
   "cell_type": "code",
   "execution_count": null,
   "metadata": {},
   "outputs": [],
   "source": []
  },
  {
   "cell_type": "code",
   "execution_count": null,
   "metadata": {},
   "outputs": [],
   "source": []
  },
  {
   "cell_type": "code",
   "execution_count": null,
   "metadata": {},
   "outputs": [],
   "source": []
  }
 ],
 "metadata": {
  "kernelspec": {
   "display_name": "Python 3",
   "language": "python",
   "name": "python3"
  },
  "language_info": {
   "codemirror_mode": {
    "name": "ipython",
    "version": 3
   },
   "file_extension": ".py",
   "mimetype": "text/x-python",
   "name": "python",
   "nbconvert_exporter": "python",
   "pygments_lexer": "ipython3",
   "version": "3.8.8"
  }
 },
 "nbformat": 4,
 "nbformat_minor": 4
}
